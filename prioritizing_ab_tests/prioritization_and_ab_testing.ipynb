{
 "cells": [
  {
   "cell_type": "markdown",
   "metadata": {},
   "source": [
    "# Приоритизация гипотез и анализ A/B-тестов"
   ]
  },
  {
   "cell_type": "markdown",
   "metadata": {},
   "source": [
    "**Цели исследования**:\n",
    "\n",
    "Данное исследование состоит из нескольких частей: <a name=\"0\"> </a>\n",
    "\n",
    "1. [Приоритизация гипотез из списка](#1), составленного совместно с отделом маркетинга - что позволит оптимизировать проведение исследовательских работ в будущем и приоритизировать наиболее выгодные для увеличения бизнес-метрик интернет-магазина гипотезы.\n",
    "\n",
    "\n",
    "2. [Анализ результатов проведенного A/B-тестирования](#2) - в ходе исследования необходимо определить, привели ли промежуточные результаты к статистически значимому изменению показателей основных бизнес-метрик (средний чек пользователя, количество заказов). Это необходимо для принятия решения о целесообразности продолжении проведения тестирования.\n",
    "\n",
    "\n",
    "3. [Выводы из анализа результатов А/В-тестирования](#3), составленные на основе проделанной исследовательской работы."
   ]
  },
  {
   "cell_type": "markdown",
   "metadata": {},
   "source": [
    "<a name=\"1\"> </a>\n",
    "## Приоритизация гипотез"
   ]
  },
  {
   "cell_type": "code",
   "execution_count": 1,
   "metadata": {},
   "outputs": [],
   "source": [
    "# Импортируем необходимые для работы библиотеки \n",
    "# и зададим форматирующие параметры:\n",
    "import math\n",
    "import pandas as pd\n",
    "import datetime as dt\n",
    "import seaborn as sns\n",
    "import numpy as np\n",
    "from scipy import stats as st\n",
    "from matplotlib import pyplot as plt\n",
    "\n",
    "pd.options.display.float_format = '{:,.2f}'.format\n",
    "pd.set_option('display.max_colwidth', None)\n",
    "sns.set_style('dark')\n",
    "plt.rcParams.update({'axes.labelsize': 10,'axes.titlesize': 15})"
   ]
  },
  {
   "cell_type": "code",
   "execution_count": 2,
   "metadata": {},
   "outputs": [
    {
     "data": {
      "text/html": [
       "<div>\n",
       "<style scoped>\n",
       "    .dataframe tbody tr th:only-of-type {\n",
       "        vertical-align: middle;\n",
       "    }\n",
       "\n",
       "    .dataframe tbody tr th {\n",
       "        vertical-align: top;\n",
       "    }\n",
       "\n",
       "    .dataframe thead th {\n",
       "        text-align: right;\n",
       "    }\n",
       "</style>\n",
       "<table border=\"1\" class=\"dataframe\">\n",
       "  <thead>\n",
       "    <tr style=\"text-align: right;\">\n",
       "      <th></th>\n",
       "      <th>Hypothesis</th>\n",
       "      <th>Reach</th>\n",
       "      <th>Impact</th>\n",
       "      <th>Confidence</th>\n",
       "      <th>Efforts</th>\n",
       "    </tr>\n",
       "  </thead>\n",
       "  <tbody>\n",
       "    <tr>\n",
       "      <th>0</th>\n",
       "      <td>Добавить два новых канала привлечения трафика, что позволит привлекать на 30% больше пользователей</td>\n",
       "      <td>3</td>\n",
       "      <td>10</td>\n",
       "      <td>8</td>\n",
       "      <td>6</td>\n",
       "    </tr>\n",
       "    <tr>\n",
       "      <th>1</th>\n",
       "      <td>Запустить собственную службу доставки, что сократит срок доставки заказов</td>\n",
       "      <td>2</td>\n",
       "      <td>5</td>\n",
       "      <td>4</td>\n",
       "      <td>10</td>\n",
       "    </tr>\n",
       "    <tr>\n",
       "      <th>2</th>\n",
       "      <td>Добавить блоки рекомендаций товаров на сайт интернет магазина, чтобы повысить конверсию и средний чек заказа</td>\n",
       "      <td>8</td>\n",
       "      <td>3</td>\n",
       "      <td>7</td>\n",
       "      <td>3</td>\n",
       "    </tr>\n",
       "    <tr>\n",
       "      <th>3</th>\n",
       "      <td>Изменить структура категорий, что увеличит конверсию, т.к. пользователи быстрее найдут нужный товар</td>\n",
       "      <td>8</td>\n",
       "      <td>3</td>\n",
       "      <td>3</td>\n",
       "      <td>8</td>\n",
       "    </tr>\n",
       "    <tr>\n",
       "      <th>4</th>\n",
       "      <td>Изменить цвет фона главной страницы, чтобы увеличить вовлеченность пользователей</td>\n",
       "      <td>3</td>\n",
       "      <td>1</td>\n",
       "      <td>1</td>\n",
       "      <td>1</td>\n",
       "    </tr>\n",
       "    <tr>\n",
       "      <th>5</th>\n",
       "      <td>Добавить страницу отзывов клиентов о магазине, что позволит увеличить количество заказов</td>\n",
       "      <td>3</td>\n",
       "      <td>2</td>\n",
       "      <td>2</td>\n",
       "      <td>3</td>\n",
       "    </tr>\n",
       "    <tr>\n",
       "      <th>6</th>\n",
       "      <td>Показать на главной странице баннеры с актуальными акциями и распродажами, чтобы увеличить конверсию</td>\n",
       "      <td>5</td>\n",
       "      <td>3</td>\n",
       "      <td>8</td>\n",
       "      <td>3</td>\n",
       "    </tr>\n",
       "    <tr>\n",
       "      <th>7</th>\n",
       "      <td>Добавить форму подписки на все основные страницы, чтобы собрать базу клиентов для email-рассылок</td>\n",
       "      <td>10</td>\n",
       "      <td>7</td>\n",
       "      <td>8</td>\n",
       "      <td>5</td>\n",
       "    </tr>\n",
       "    <tr>\n",
       "      <th>8</th>\n",
       "      <td>Запустить акцию, дающую скидку на товар в день рождения</td>\n",
       "      <td>1</td>\n",
       "      <td>9</td>\n",
       "      <td>9</td>\n",
       "      <td>5</td>\n",
       "    </tr>\n",
       "  </tbody>\n",
       "</table>\n",
       "</div>"
      ],
      "text/plain": [
       "                                                                                                     Hypothesis  \\\n",
       "0            Добавить два новых канала привлечения трафика, что позволит привлекать на 30% больше пользователей   \n",
       "1                                     Запустить собственную службу доставки, что сократит срок доставки заказов   \n",
       "2  Добавить блоки рекомендаций товаров на сайт интернет магазина, чтобы повысить конверсию и средний чек заказа   \n",
       "3           Изменить структура категорий, что увеличит конверсию, т.к. пользователи быстрее найдут нужный товар   \n",
       "4                              Изменить цвет фона главной страницы, чтобы увеличить вовлеченность пользователей   \n",
       "5                      Добавить страницу отзывов клиентов о магазине, что позволит увеличить количество заказов   \n",
       "6          Показать на главной странице баннеры с актуальными акциями и распродажами, чтобы увеличить конверсию   \n",
       "7              Добавить форму подписки на все основные страницы, чтобы собрать базу клиентов для email-рассылок   \n",
       "8                                                       Запустить акцию, дающую скидку на товар в день рождения   \n",
       "\n",
       "   Reach  Impact  Confidence  Efforts  \n",
       "0      3      10           8        6  \n",
       "1      2       5           4       10  \n",
       "2      8       3           7        3  \n",
       "3      8       3           3        8  \n",
       "4      3       1           1        1  \n",
       "5      3       2           2        3  \n",
       "6      5       3           8        3  \n",
       "7     10       7           8        5  \n",
       "8      1       9           9        5  "
      ]
     },
     "execution_count": 2,
     "metadata": {},
     "output_type": "execute_result"
    }
   ],
   "source": [
    "data = pd.read_csv('/datasets/hypothesis.csv')\n",
    "data"
   ]
  },
  {
   "cell_type": "markdown",
   "metadata": {},
   "source": [
    "В файле `/datasets/hypothesis.csv` содержатся 9 гипотез по увеличению выручки интернет-магазина со следующими параметрами:\n",
    "\n",
    "- `Reach`(охват гипотезы) - скольких пользователей затронет изменение, которое предлагается ввести.\n",
    "\n",
    "- `Impact`(влияние гипотезы) - насколько сильно изменение повлияет на пользователей, их опыт и удовлетворение от продукта.\n",
    "\n",
    "- `Confidence`(уверенность в гипотезе) - насколько присутствует уверенность, что это изменение повлияет на пользователей как задумано.\n",
    "\n",
    "- `Effort`(необходимые усилия) - какое количество ресурсов необходимо, чтобы протестировать эту гипотезу.\n",
    "\n",
    "Параметры представлены категориальной шкалой со значениями от `1` до `10`, где `1` является минимальным значением (минимальный охват, минимальная уверенность, и т.п.), а `10` - максимальным (максимальное влияние, максимальные необходимые усилия, и т.п.). Данные столбца `Hypothesis` представлены в виде строк с краткой формулировкой гипотезы как действия и ожидаемого влияния на бизнес-метрики - за исключением строки `8`, где указано только действие. \n",
    "\n",
    "Рассмотрим технические данные таблицы:"
   ]
  },
  {
   "cell_type": "code",
   "execution_count": 3,
   "metadata": {},
   "outputs": [
    {
     "name": "stdout",
     "output_type": "stream",
     "text": [
      "<class 'pandas.core.frame.DataFrame'>\n",
      "RangeIndex: 9 entries, 0 to 8\n",
      "Data columns (total 5 columns):\n",
      " #   Column      Non-Null Count  Dtype \n",
      "---  ------      --------------  ----- \n",
      " 0   Hypothesis  9 non-null      object\n",
      " 1   Reach       9 non-null      int64 \n",
      " 2   Impact      9 non-null      int64 \n",
      " 3   Confidence  9 non-null      int64 \n",
      " 4   Efforts     9 non-null      int64 \n",
      "dtypes: int64(4), object(1)\n",
      "memory usage: 488.0+ bytes\n"
     ]
    }
   ],
   "source": [
    "data.info()"
   ]
  },
  {
   "cell_type": "markdown",
   "metadata": {},
   "source": [
    "Аномальных значений в таблице не наблюдается, но для оптимизации дальнейшей работы мы можем привести тип данных с `int64` к `int16` как более соответствующий наблюдаемым значениям, а также привести оглавление столбцов к нижнему регистру - после чего можно перейти к приоритизации: "
   ]
  },
  {
   "cell_type": "code",
   "execution_count": 4,
   "metadata": {},
   "outputs": [
    {
     "data": {
      "text/plain": [
       "Index(['hypothesis', 'reach', 'impact', 'confidence', 'efforts'], dtype='object')"
      ]
     },
     "execution_count": 4,
     "metadata": {},
     "output_type": "execute_result"
    }
   ],
   "source": [
    "data.columns = data.columns.str.lower()\n",
    "\n",
    "data.columns"
   ]
  },
  {
   "cell_type": "code",
   "execution_count": 5,
   "metadata": {},
   "outputs": [
    {
     "name": "stdout",
     "output_type": "stream",
     "text": [
      "<class 'pandas.core.frame.DataFrame'>\n",
      "RangeIndex: 9 entries, 0 to 8\n",
      "Data columns (total 5 columns):\n",
      " #   Column      Non-Null Count  Dtype \n",
      "---  ------      --------------  ----- \n",
      " 0   hypothesis  9 non-null      object\n",
      " 1   reach       9 non-null      int16 \n",
      " 2   impact      9 non-null      int16 \n",
      " 3   confidence  9 non-null      int16 \n",
      " 4   efforts     9 non-null      int16 \n",
      "dtypes: int16(4), object(1)\n",
      "memory usage: 272.0+ bytes\n"
     ]
    }
   ],
   "source": [
    "data['reach'] = data['reach'].astype('int16')\n",
    "data['impact'] = data['impact'].astype('int16')\n",
    "data['confidence'] = data['confidence'].astype('int16')\n",
    "data['efforts'] = data['efforts'].astype('int16')\n",
    "\n",
    "data.info()"
   ]
  },
  {
   "cell_type": "markdown",
   "metadata": {},
   "source": [
    "### Фреймворк ICE"
   ]
  },
  {
   "cell_type": "markdown",
   "metadata": {},
   "source": [
    "Первый вариант приоритизации проведем через фреймворк `ICE` (`Impact, Confidence, Effort` - влияние, уверенность, усилия) - один из популярных способов приоритизации задач, где произведение значений влияния и уверенности делится на необходимые усилия: `ICE` = (`Impact` x `Confidence`) / `Efforts`.\n",
    "\n",
    "Далее создадим отдельный столбец в таблице со значением `ICE` и отсортируем итоговые данные по убыванию предполагаемого приоритета:"
   ]
  },
  {
   "cell_type": "code",
   "execution_count": 6,
   "metadata": {},
   "outputs": [
    {
     "data": {
      "text/html": [
       "<div>\n",
       "<style scoped>\n",
       "    .dataframe tbody tr th:only-of-type {\n",
       "        vertical-align: middle;\n",
       "    }\n",
       "\n",
       "    .dataframe tbody tr th {\n",
       "        vertical-align: top;\n",
       "    }\n",
       "\n",
       "    .dataframe thead th {\n",
       "        text-align: right;\n",
       "    }\n",
       "</style>\n",
       "<table border=\"1\" class=\"dataframe\">\n",
       "  <thead>\n",
       "    <tr style=\"text-align: right;\">\n",
       "      <th></th>\n",
       "      <th>hypothesis</th>\n",
       "      <th>reach</th>\n",
       "      <th>impact</th>\n",
       "      <th>confidence</th>\n",
       "      <th>efforts</th>\n",
       "      <th>ICE</th>\n",
       "    </tr>\n",
       "  </thead>\n",
       "  <tbody>\n",
       "    <tr>\n",
       "      <th>8</th>\n",
       "      <td>Запустить акцию, дающую скидку на товар в день рождения</td>\n",
       "      <td>1</td>\n",
       "      <td>9</td>\n",
       "      <td>9</td>\n",
       "      <td>5</td>\n",
       "      <td>16.20</td>\n",
       "    </tr>\n",
       "    <tr>\n",
       "      <th>0</th>\n",
       "      <td>Добавить два новых канала привлечения трафика, что позволит привлекать на 30% больше пользователей</td>\n",
       "      <td>3</td>\n",
       "      <td>10</td>\n",
       "      <td>8</td>\n",
       "      <td>6</td>\n",
       "      <td>13.33</td>\n",
       "    </tr>\n",
       "    <tr>\n",
       "      <th>7</th>\n",
       "      <td>Добавить форму подписки на все основные страницы, чтобы собрать базу клиентов для email-рассылок</td>\n",
       "      <td>10</td>\n",
       "      <td>7</td>\n",
       "      <td>8</td>\n",
       "      <td>5</td>\n",
       "      <td>11.20</td>\n",
       "    </tr>\n",
       "    <tr>\n",
       "      <th>6</th>\n",
       "      <td>Показать на главной странице баннеры с актуальными акциями и распродажами, чтобы увеличить конверсию</td>\n",
       "      <td>5</td>\n",
       "      <td>3</td>\n",
       "      <td>8</td>\n",
       "      <td>3</td>\n",
       "      <td>8.00</td>\n",
       "    </tr>\n",
       "    <tr>\n",
       "      <th>2</th>\n",
       "      <td>Добавить блоки рекомендаций товаров на сайт интернет магазина, чтобы повысить конверсию и средний чек заказа</td>\n",
       "      <td>8</td>\n",
       "      <td>3</td>\n",
       "      <td>7</td>\n",
       "      <td>3</td>\n",
       "      <td>7.00</td>\n",
       "    </tr>\n",
       "    <tr>\n",
       "      <th>1</th>\n",
       "      <td>Запустить собственную службу доставки, что сократит срок доставки заказов</td>\n",
       "      <td>2</td>\n",
       "      <td>5</td>\n",
       "      <td>4</td>\n",
       "      <td>10</td>\n",
       "      <td>2.00</td>\n",
       "    </tr>\n",
       "    <tr>\n",
       "      <th>5</th>\n",
       "      <td>Добавить страницу отзывов клиентов о магазине, что позволит увеличить количество заказов</td>\n",
       "      <td>3</td>\n",
       "      <td>2</td>\n",
       "      <td>2</td>\n",
       "      <td>3</td>\n",
       "      <td>1.33</td>\n",
       "    </tr>\n",
       "    <tr>\n",
       "      <th>3</th>\n",
       "      <td>Изменить структура категорий, что увеличит конверсию, т.к. пользователи быстрее найдут нужный товар</td>\n",
       "      <td>8</td>\n",
       "      <td>3</td>\n",
       "      <td>3</td>\n",
       "      <td>8</td>\n",
       "      <td>1.12</td>\n",
       "    </tr>\n",
       "    <tr>\n",
       "      <th>4</th>\n",
       "      <td>Изменить цвет фона главной страницы, чтобы увеличить вовлеченность пользователей</td>\n",
       "      <td>3</td>\n",
       "      <td>1</td>\n",
       "      <td>1</td>\n",
       "      <td>1</td>\n",
       "      <td>1.00</td>\n",
       "    </tr>\n",
       "  </tbody>\n",
       "</table>\n",
       "</div>"
      ],
      "text/plain": [
       "                                                                                                     hypothesis  \\\n",
       "8                                                       Запустить акцию, дающую скидку на товар в день рождения   \n",
       "0            Добавить два новых канала привлечения трафика, что позволит привлекать на 30% больше пользователей   \n",
       "7              Добавить форму подписки на все основные страницы, чтобы собрать базу клиентов для email-рассылок   \n",
       "6          Показать на главной странице баннеры с актуальными акциями и распродажами, чтобы увеличить конверсию   \n",
       "2  Добавить блоки рекомендаций товаров на сайт интернет магазина, чтобы повысить конверсию и средний чек заказа   \n",
       "1                                     Запустить собственную службу доставки, что сократит срок доставки заказов   \n",
       "5                      Добавить страницу отзывов клиентов о магазине, что позволит увеличить количество заказов   \n",
       "3           Изменить структура категорий, что увеличит конверсию, т.к. пользователи быстрее найдут нужный товар   \n",
       "4                              Изменить цвет фона главной страницы, чтобы увеличить вовлеченность пользователей   \n",
       "\n",
       "   reach  impact  confidence  efforts   ICE  \n",
       "8      1       9           9        5 16.20  \n",
       "0      3      10           8        6 13.33  \n",
       "7     10       7           8        5 11.20  \n",
       "6      5       3           8        3  8.00  \n",
       "2      8       3           7        3  7.00  \n",
       "1      2       5           4       10  2.00  \n",
       "5      3       2           2        3  1.33  \n",
       "3      8       3           3        8  1.12  \n",
       "4      3       1           1        1  1.00  "
      ]
     },
     "execution_count": 6,
     "metadata": {},
     "output_type": "execute_result"
    }
   ],
   "source": [
    "data['ICE'] = (data['impact'] * data['confidence']) / data['efforts']\n",
    "\n",
    "data.sort_values(by='ICE', ascending=False)"
   ]
  },
  {
   "cell_type": "code",
   "execution_count": 7,
   "metadata": {},
   "outputs": [
    {
     "data": {
      "image/png": "[encoded data removed]",
      "text/plain": [
       "<Figure size 432x288 with 1 Axes>"
      ]
     },
     "metadata": {},
     "output_type": "display_data"
    }
   ],
   "source": [
    "ax = data[['hypothesis', 'ICE']].set_index('hypothesis').sort_values('ICE', ascending=True).plot(kind='barh')\n",
    "ax.set_xlabel('Приоритет')\n",
    "ax.set_ylabel('Гипотеза')\n",
    "ax.set_title('Фреймворк ICE')\n",
    "plt.show()"
   ]
  },
  {
   "cell_type": "markdown",
   "metadata": {},
   "source": [
    "Согласно результатам приоритизации по методу `ICE`, получается следующий топ-3 гипотез, на которых стоит сосредоточиться:\n",
    "\n",
    "1. Запустить акцию, дающую скидку на товар в день рождения (гипотеза `8`);\n",
    "\n",
    "\n",
    "2. Добавить два новых канала привлечения трафика, что позволит привлекать на 30% больше пользователей (гипотеза `0`);\n",
    "\n",
    "\n",
    "3. Добавить форму подписки на все основные страницы, чтобы собрать базу клиентов для email-рассылок (гипотеза `7`)."
   ]
  },
  {
   "cell_type": "markdown",
   "metadata": {},
   "source": [
    "### Фреймворк RICE"
   ]
  },
  {
   "cell_type": "markdown",
   "metadata": {},
   "source": [
    "Приоритизация через фреймворк `RICE` (`Reach, Impact, Confidence, Effort` - охват, влияние, уверенность, усилия) является модификацией фреймворка `ICE` путем добавления потенциального охвата в уравнение: `RICE` = (`Reach` x`Impact` x `Confidence`) / `Efforts`.\n",
    "\n",
    "Далее создадим отдельный столбец со значением `RICE` для каждой гипотезы и отсортируем итоговые данные по убыванию предполагаемого приоритета:"
   ]
  },
  {
   "cell_type": "code",
   "execution_count": 8,
   "metadata": {},
   "outputs": [
    {
     "data": {
      "text/html": [
       "<div>\n",
       "<style scoped>\n",
       "    .dataframe tbody tr th:only-of-type {\n",
       "        vertical-align: middle;\n",
       "    }\n",
       "\n",
       "    .dataframe tbody tr th {\n",
       "        vertical-align: top;\n",
       "    }\n",
       "\n",
       "    .dataframe thead th {\n",
       "        text-align: right;\n",
       "    }\n",
       "</style>\n",
       "<table border=\"1\" class=\"dataframe\">\n",
       "  <thead>\n",
       "    <tr style=\"text-align: right;\">\n",
       "      <th></th>\n",
       "      <th>hypothesis</th>\n",
       "      <th>reach</th>\n",
       "      <th>impact</th>\n",
       "      <th>confidence</th>\n",
       "      <th>efforts</th>\n",
       "      <th>ICE</th>\n",
       "      <th>RICE</th>\n",
       "    </tr>\n",
       "  </thead>\n",
       "  <tbody>\n",
       "    <tr>\n",
       "      <th>7</th>\n",
       "      <td>Добавить форму подписки на все основные страницы, чтобы собрать базу клиентов для email-рассылок</td>\n",
       "      <td>10</td>\n",
       "      <td>7</td>\n",
       "      <td>8</td>\n",
       "      <td>5</td>\n",
       "      <td>11.20</td>\n",
       "      <td>112.00</td>\n",
       "    </tr>\n",
       "    <tr>\n",
       "      <th>2</th>\n",
       "      <td>Добавить блоки рекомендаций товаров на сайт интернет магазина, чтобы повысить конверсию и средний чек заказа</td>\n",
       "      <td>8</td>\n",
       "      <td>3</td>\n",
       "      <td>7</td>\n",
       "      <td>3</td>\n",
       "      <td>7.00</td>\n",
       "      <td>56.00</td>\n",
       "    </tr>\n",
       "    <tr>\n",
       "      <th>0</th>\n",
       "      <td>Добавить два новых канала привлечения трафика, что позволит привлекать на 30% больше пользователей</td>\n",
       "      <td>3</td>\n",
       "      <td>10</td>\n",
       "      <td>8</td>\n",
       "      <td>6</td>\n",
       "      <td>13.33</td>\n",
       "      <td>40.00</td>\n",
       "    </tr>\n",
       "    <tr>\n",
       "      <th>6</th>\n",
       "      <td>Показать на главной странице баннеры с актуальными акциями и распродажами, чтобы увеличить конверсию</td>\n",
       "      <td>5</td>\n",
       "      <td>3</td>\n",
       "      <td>8</td>\n",
       "      <td>3</td>\n",
       "      <td>8.00</td>\n",
       "      <td>40.00</td>\n",
       "    </tr>\n",
       "    <tr>\n",
       "      <th>8</th>\n",
       "      <td>Запустить акцию, дающую скидку на товар в день рождения</td>\n",
       "      <td>1</td>\n",
       "      <td>9</td>\n",
       "      <td>9</td>\n",
       "      <td>5</td>\n",
       "      <td>16.20</td>\n",
       "      <td>16.20</td>\n",
       "    </tr>\n",
       "    <tr>\n",
       "      <th>3</th>\n",
       "      <td>Изменить структура категорий, что увеличит конверсию, т.к. пользователи быстрее найдут нужный товар</td>\n",
       "      <td>8</td>\n",
       "      <td>3</td>\n",
       "      <td>3</td>\n",
       "      <td>8</td>\n",
       "      <td>1.12</td>\n",
       "      <td>9.00</td>\n",
       "    </tr>\n",
       "    <tr>\n",
       "      <th>1</th>\n",
       "      <td>Запустить собственную службу доставки, что сократит срок доставки заказов</td>\n",
       "      <td>2</td>\n",
       "      <td>5</td>\n",
       "      <td>4</td>\n",
       "      <td>10</td>\n",
       "      <td>2.00</td>\n",
       "      <td>4.00</td>\n",
       "    </tr>\n",
       "    <tr>\n",
       "      <th>5</th>\n",
       "      <td>Добавить страницу отзывов клиентов о магазине, что позволит увеличить количество заказов</td>\n",
       "      <td>3</td>\n",
       "      <td>2</td>\n",
       "      <td>2</td>\n",
       "      <td>3</td>\n",
       "      <td>1.33</td>\n",
       "      <td>4.00</td>\n",
       "    </tr>\n",
       "    <tr>\n",
       "      <th>4</th>\n",
       "      <td>Изменить цвет фона главной страницы, чтобы увеличить вовлеченность пользователей</td>\n",
       "      <td>3</td>\n",
       "      <td>1</td>\n",
       "      <td>1</td>\n",
       "      <td>1</td>\n",
       "      <td>1.00</td>\n",
       "      <td>3.00</td>\n",
       "    </tr>\n",
       "  </tbody>\n",
       "</table>\n",
       "</div>"
      ],
      "text/plain": [
       "                                                                                                     hypothesis  \\\n",
       "7              Добавить форму подписки на все основные страницы, чтобы собрать базу клиентов для email-рассылок   \n",
       "2  Добавить блоки рекомендаций товаров на сайт интернет магазина, чтобы повысить конверсию и средний чек заказа   \n",
       "0            Добавить два новых канала привлечения трафика, что позволит привлекать на 30% больше пользователей   \n",
       "6          Показать на главной странице баннеры с актуальными акциями и распродажами, чтобы увеличить конверсию   \n",
       "8                                                       Запустить акцию, дающую скидку на товар в день рождения   \n",
       "3           Изменить структура категорий, что увеличит конверсию, т.к. пользователи быстрее найдут нужный товар   \n",
       "1                                     Запустить собственную службу доставки, что сократит срок доставки заказов   \n",
       "5                      Добавить страницу отзывов клиентов о магазине, что позволит увеличить количество заказов   \n",
       "4                              Изменить цвет фона главной страницы, чтобы увеличить вовлеченность пользователей   \n",
       "\n",
       "   reach  impact  confidence  efforts   ICE   RICE  \n",
       "7     10       7           8        5 11.20 112.00  \n",
       "2      8       3           7        3  7.00  56.00  \n",
       "0      3      10           8        6 13.33  40.00  \n",
       "6      5       3           8        3  8.00  40.00  \n",
       "8      1       9           9        5 16.20  16.20  \n",
       "3      8       3           3        8  1.12   9.00  \n",
       "1      2       5           4       10  2.00   4.00  \n",
       "5      3       2           2        3  1.33   4.00  \n",
       "4      3       1           1        1  1.00   3.00  "
      ]
     },
     "execution_count": 8,
     "metadata": {},
     "output_type": "execute_result"
    }
   ],
   "source": [
    "data['RICE'] = (data['reach'] * data['impact'] * data['confidence']) / data['efforts']\n",
    "\n",
    "data.sort_values(by='RICE', ascending=False)"
   ]
  },
  {
   "cell_type": "code",
   "execution_count": 9,
   "metadata": {},
   "outputs": [
    {
     "data": {
      "image/png": "[encoded data removed]",
      "text/plain": [
       "<Figure size 432x288 with 1 Axes>"
      ]
     },
     "metadata": {},
     "output_type": "display_data"
    }
   ],
   "source": [
    "ax = data[['hypothesis', 'RICE']].set_index('hypothesis').sort_values('RICE', ascending=True).plot(kind='barh')\n",
    "ax.set_xlabel('Приоритет')\n",
    "ax.set_ylabel('Гипотеза')\n",
    "ax.set_title('Фреймворк RICE')\n",
    "plt.show()"
   ]
  },
  {
   "cell_type": "markdown",
   "metadata": {},
   "source": [
    "В соответствии с методом RICE и через добавление потенциального охвата в уравнение, топ-3 перспективных гипотез изменился:\n",
    "\n",
    "1. Добавить форму подписки на все основные страницы, чтобы собрать базу клиентов для email-рассылок (гипотеза `7`);\n",
    "\n",
    "\n",
    "2. Добавить блоки рекомендаций товаров на сайт интернет магазина, чтобы повысить конверсию и средний чек заказа (гипотеза `2`);\n",
    "\n",
    "\n",
    "3. Добавить два новых канала привлечения трафика, что позволит привлекать на 30% больше пользователей (гипотеза `0`).\n",
    "\n",
    "\n",
    "Из списка приоритетов исключилась гипотеза `8`, об акции о предоставления скидки в день рождения. Охват пользователей по данной гипотезе ниже, чем у остальных - `1`. Это вытекает из сути гипотезы - охваченными оказываются только те пользователи, у которых на период тестирования придется дата рождения. Взамен данной гипотезы, в списке лидирующих оказывается гипотеза `2`, так как вместе с невысоким показателем влияния и необходимых усилий гипотеза имеет высокий охват. "
   ]
  },
  {
   "cell_type": "markdown",
   "metadata": {},
   "source": [
    "### Выводы - Приоритизация гипотез"
   ]
  },
  {
   "cell_type": "markdown",
   "metadata": {},
   "source": [
    "Из приоритизации гипотез через фреймворки ICE и RICE можно сделать следующие выводы:\n",
    "\n",
    "- Согласно результатам приоритизации по методу `ICE`, получается следующий топ-3 гипотез, на которых стоит сосредоточиться: \n",
    "\n",
    "1. Лидирующая по приоритету гипотеза - `Запустить акцию, дающую скидку на товар в день рождения` (гипотеза `8`); \n",
    "\n",
    "2. Далее - `Добавить два новых канала привлечения трафика, что позволит привлекать на 30% больше пользователей` (гипотеза `0`); \n",
    "\n",
    "3. Затем - `Добавить форму подписки на все основные страницы, чтобы собрать базу клиентов для email-рассылок` (гипотеза `7`).\n",
    "\n",
    "\n",
    "\n",
    "- В соответствии с методом RICE и через добавление потенциального охвата в уравнение, топ-3 перспективных гипотез изменился: \n",
    "\n",
    "1. Лидирующая гипотеза - `Добавить форму подписки на все основные страницы, чтобы собрать базу клиентов для email-рассылок` (гипотеза `7`);\n",
    "\n",
    "2. Далее - `Добавить блоки рекомендаций товаров на сайт интернет магазина, чтобы повысить конверсию и средний чек заказа` (гипотеза `2`); \n",
    "\n",
    "3. Затем - `Добавить два новых канала привлечения трафика, что позволит привлекать на 30% больше пользователей` (гипотеза `0`).\n",
    "\n",
    "\n",
    "\n",
    "- Из списка приоритетов исключилась гипотеза `8`, об акции о предоставления скидки в день рождения. Охват пользователей по данной гипотезе ниже, чем у остальных - `1`. Это вытекает из сути гипотезы - охваченными оказываются только те пользователи, у которых на период тестирования придется дата рождения. Взамен данной гипотезы, в списке лидирующих оказывается гипотеза `2`, так как вместе с невысоким показателем влияния и необходимых усилий гипотеза имеет высокий охват. \n",
    "\n",
    "\n",
    "Из вышеизложенных выводов можно сделать следующие рекомендации: \n",
    "\n",
    "\n",
    "- Учет потенциального охвата в приоритизации оказывает заметное влияние на результаты: из 9 предоставленных гипотез только четыре показали высокий параметр приоритетности среди двух выбранных фреймворков, но в зависимости от учета потенциального охвата в расчетах мы получаем различающийся состав и последовательность гипотез в списках лидирующих гипотез фреймворков `ICE` и `RICE`. В качестве рекомендации можно посоветовать согласование наиболее подходящего метода приоритизации на этапе формирования задания и обсуждения с заказчиком, где можно более подробно уточнить ожидаемое влияние результатов гипотез на выбранные бизнес-метрики - и уже на основе этой информации выбрать наиболее подходящий метод приоритизации. \n",
    "\n",
    "\n",
    "- Так как гипотезы `0` и `7` стабильно находятся в лидирующих позициях обоих списков, их можно считать наиболее приоритетными вне зависимости от предпочитаемого фреймворка приоритизации.\n",
    "\n",
    "\n",
    "\n",
    "- Если фреймворк `RICE` можно считать дополненной версией фреймворка `ICE` и наиболее подходящим методом приоритизации гипотез для интернет-магазина компании-заказчика (за счет учета потенциального охвата клиентов в расчетах), а необходимо выбрать всего одну лидирующую гипотезу, то тогда целесообразно рекомендовать как наиболее приоритетную гипотезу `7` - `Добавить форму подписки на все основные страницы, чтобы собрать базу клиентов для email-рассылок`."
   ]
  },
  {
   "cell_type": "markdown",
   "metadata": {},
   "source": [
    "<a name=\"2\"></a>\n",
    "## Анализ результатов проведенного A/B-тестирования\n",
    "\n",
    "[*Вернуться в оглавление*](#0)"
   ]
  },
  {
   "cell_type": "markdown",
   "metadata": {},
   "source": [
    "### Первичный обзор и предобработка данных"
   ]
  },
  {
   "cell_type": "markdown",
   "metadata": {},
   "source": [
    "Далее осуществим анализ результатов проведенного A/B-тестирования, для этого импортируем предложенные датасеты и проведем первичный обзор:"
   ]
  },
  {
   "cell_type": "code",
   "execution_count": 10,
   "metadata": {},
   "outputs": [],
   "source": [
    "# обьявим функцию для оптимизации обзора данных:\n",
    "\n",
    "def overview(df):\n",
    "    \n",
    "    print('Общая информация:\\n')\n",
    "    df.info() # общая информация о таблице\n",
    "    print()\n",
    "    print('Описательная статистика:\\n')\n",
    "    display(df.describe(include='all', datetime_is_numeric=True))\n",
    "    print()\n",
    "    print('Пять случайных строк датасета:\\n')\n",
    "    display(df.sample(5)) # 5 случайных строк\n",
    "    print()\n",
    "    print('Проверка на дубликаты и пропуски:\\n')\n",
    "    \n",
    "    # проверка явных дубликатов\n",
    "    \n",
    "    if df.duplicated().sum() > 0: \n",
    "        print(f'- В таблице содержатся дубликаты, {df.duplicated().sum()} строк.')\n",
    "    else:\n",
    "        print('- Дубликатов не обнаружено')\n",
    "    print()\n",
    "    \n",
    "    # проверка пропусков\n",
    "    \n",
    "    if df.isna().sum().sum() > 0: \n",
    "        print(f'- В таблице содержатся пропуски, {df.duplicated().sum()} строк.')\n",
    "    else:\n",
    "        print('- Пропусков не обнаружено')  "
   ]
  },
  {
   "cell_type": "code",
   "execution_count": 11,
   "metadata": {},
   "outputs": [
    {
     "name": "stdout",
     "output_type": "stream",
     "text": [
      "Общая информация:\n",
      "\n",
      "<class 'pandas.core.frame.DataFrame'>\n",
      "RangeIndex: 1197 entries, 0 to 1196\n",
      "Data columns (total 5 columns):\n",
      " #   Column         Non-Null Count  Dtype \n",
      "---  ------         --------------  ----- \n",
      " 0   transactionId  1197 non-null   int64 \n",
      " 1   visitorId      1197 non-null   int64 \n",
      " 2   date           1197 non-null   object\n",
      " 3   revenue        1197 non-null   int64 \n",
      " 4   group          1197 non-null   object\n",
      "dtypes: int64(3), object(2)\n",
      "memory usage: 46.9+ KB\n",
      "\n",
      "Описательная статистика:\n",
      "\n"
     ]
    },
    {
     "data": {
      "text/html": [
       "<div>\n",
       "<style scoped>\n",
       "    .dataframe tbody tr th:only-of-type {\n",
       "        vertical-align: middle;\n",
       "    }\n",
       "\n",
       "    .dataframe tbody tr th {\n",
       "        vertical-align: top;\n",
       "    }\n",
       "\n",
       "    .dataframe thead th {\n",
       "        text-align: right;\n",
       "    }\n",
       "</style>\n",
       "<table border=\"1\" class=\"dataframe\">\n",
       "  <thead>\n",
       "    <tr style=\"text-align: right;\">\n",
       "      <th></th>\n",
       "      <th>transactionId</th>\n",
       "      <th>visitorId</th>\n",
       "      <th>date</th>\n",
       "      <th>revenue</th>\n",
       "      <th>group</th>\n",
       "    </tr>\n",
       "  </thead>\n",
       "  <tbody>\n",
       "    <tr>\n",
       "      <th>count</th>\n",
       "      <td>1,197.00</td>\n",
       "      <td>1,197.00</td>\n",
       "      <td>1197</td>\n",
       "      <td>1,197.00</td>\n",
       "      <td>1197</td>\n",
       "    </tr>\n",
       "    <tr>\n",
       "      <th>unique</th>\n",
       "      <td>NaN</td>\n",
       "      <td>NaN</td>\n",
       "      <td>31</td>\n",
       "      <td>NaN</td>\n",
       "      <td>2</td>\n",
       "    </tr>\n",
       "    <tr>\n",
       "      <th>top</th>\n",
       "      <td>NaN</td>\n",
       "      <td>NaN</td>\n",
       "      <td>2019-08-05</td>\n",
       "      <td>NaN</td>\n",
       "      <td>B</td>\n",
       "    </tr>\n",
       "    <tr>\n",
       "      <th>freq</th>\n",
       "      <td>NaN</td>\n",
       "      <td>NaN</td>\n",
       "      <td>48</td>\n",
       "      <td>NaN</td>\n",
       "      <td>640</td>\n",
       "    </tr>\n",
       "    <tr>\n",
       "      <th>mean</th>\n",
       "      <td>2,155,621,385.53</td>\n",
       "      <td>2,165,960,143.10</td>\n",
       "      <td>NaN</td>\n",
       "      <td>8,348.01</td>\n",
       "      <td>NaN</td>\n",
       "    </tr>\n",
       "    <tr>\n",
       "      <th>std</th>\n",
       "      <td>1,229,084,904.76</td>\n",
       "      <td>1,236,014,192.15</td>\n",
       "      <td>NaN</td>\n",
       "      <td>39,191.13</td>\n",
       "      <td>NaN</td>\n",
       "    </tr>\n",
       "    <tr>\n",
       "      <th>min</th>\n",
       "      <td>1,062,393.00</td>\n",
       "      <td>5,114,589.00</td>\n",
       "      <td>NaN</td>\n",
       "      <td>50.00</td>\n",
       "      <td>NaN</td>\n",
       "    </tr>\n",
       "    <tr>\n",
       "      <th>25%</th>\n",
       "      <td>1,166,775,572.00</td>\n",
       "      <td>1,111,826,046.00</td>\n",
       "      <td>NaN</td>\n",
       "      <td>1,220.00</td>\n",
       "      <td>NaN</td>\n",
       "    </tr>\n",
       "    <tr>\n",
       "      <th>50%</th>\n",
       "      <td>2,145,193,898.00</td>\n",
       "      <td>2,217,984,702.00</td>\n",
       "      <td>NaN</td>\n",
       "      <td>2,978.00</td>\n",
       "      <td>NaN</td>\n",
       "    </tr>\n",
       "    <tr>\n",
       "      <th>75%</th>\n",
       "      <td>3,237,740,112.00</td>\n",
       "      <td>3,177,606,451.00</td>\n",
       "      <td>NaN</td>\n",
       "      <td>8,290.00</td>\n",
       "      <td>NaN</td>\n",
       "    </tr>\n",
       "    <tr>\n",
       "      <th>max</th>\n",
       "      <td>4,293,855,558.00</td>\n",
       "      <td>4,283,872,382.00</td>\n",
       "      <td>NaN</td>\n",
       "      <td>1,294,500.00</td>\n",
       "      <td>NaN</td>\n",
       "    </tr>\n",
       "  </tbody>\n",
       "</table>\n",
       "</div>"
      ],
      "text/plain": [
       "          transactionId        visitorId        date      revenue group\n",
       "count          1,197.00         1,197.00        1197     1,197.00  1197\n",
       "unique              NaN              NaN          31          NaN     2\n",
       "top                 NaN              NaN  2019-08-05          NaN     B\n",
       "freq                NaN              NaN          48          NaN   640\n",
       "mean   2,155,621,385.53 2,165,960,143.10         NaN     8,348.01   NaN\n",
       "std    1,229,084,904.76 1,236,014,192.15         NaN    39,191.13   NaN\n",
       "min        1,062,393.00     5,114,589.00         NaN        50.00   NaN\n",
       "25%    1,166,775,572.00 1,111,826,046.00         NaN     1,220.00   NaN\n",
       "50%    2,145,193,898.00 2,217,984,702.00         NaN     2,978.00   NaN\n",
       "75%    3,237,740,112.00 3,177,606,451.00         NaN     8,290.00   NaN\n",
       "max    4,293,855,558.00 4,283,872,382.00         NaN 1,294,500.00   NaN"
      ]
     },
     "metadata": {},
     "output_type": "display_data"
    },
    {
     "name": "stdout",
     "output_type": "stream",
     "text": [
      "\n",
      "Пять случайных строк датасета:\n",
      "\n"
     ]
    },
    {
     "data": {
      "text/html": [
       "<div>\n",
       "<style scoped>\n",
       "    .dataframe tbody tr th:only-of-type {\n",
       "        vertical-align: middle;\n",
       "    }\n",
       "\n",
       "    .dataframe tbody tr th {\n",
       "        vertical-align: top;\n",
       "    }\n",
       "\n",
       "    .dataframe thead th {\n",
       "        text-align: right;\n",
       "    }\n",
       "</style>\n",
       "<table border=\"1\" class=\"dataframe\">\n",
       "  <thead>\n",
       "    <tr style=\"text-align: right;\">\n",
       "      <th></th>\n",
       "      <th>transactionId</th>\n",
       "      <th>visitorId</th>\n",
       "      <th>date</th>\n",
       "      <th>revenue</th>\n",
       "      <th>group</th>\n",
       "    </tr>\n",
       "  </thead>\n",
       "  <tbody>\n",
       "    <tr>\n",
       "      <th>1085</th>\n",
       "      <td>96707201</td>\n",
       "      <td>3319676739</td>\n",
       "      <td>2019-08-12</td>\n",
       "      <td>4650</td>\n",
       "      <td>B</td>\n",
       "    </tr>\n",
       "    <tr>\n",
       "      <th>272</th>\n",
       "      <td>298049028</td>\n",
       "      <td>4157461730</td>\n",
       "      <td>2019-08-23</td>\n",
       "      <td>1830</td>\n",
       "      <td>B</td>\n",
       "    </tr>\n",
       "    <tr>\n",
       "      <th>719</th>\n",
       "      <td>1676073049</td>\n",
       "      <td>2696599598</td>\n",
       "      <td>2019-08-05</td>\n",
       "      <td>690</td>\n",
       "      <td>A</td>\n",
       "    </tr>\n",
       "    <tr>\n",
       "      <th>799</th>\n",
       "      <td>724544405</td>\n",
       "      <td>2572433473</td>\n",
       "      <td>2019-08-05</td>\n",
       "      <td>2436</td>\n",
       "      <td>B</td>\n",
       "    </tr>\n",
       "    <tr>\n",
       "      <th>494</th>\n",
       "      <td>1207030791</td>\n",
       "      <td>2700013943</td>\n",
       "      <td>2019-08-26</td>\n",
       "      <td>1980</td>\n",
       "      <td>B</td>\n",
       "    </tr>\n",
       "  </tbody>\n",
       "</table>\n",
       "</div>"
      ],
      "text/plain": [
       "      transactionId   visitorId        date  revenue group\n",
       "1085       96707201  3319676739  2019-08-12     4650     B\n",
       "272       298049028  4157461730  2019-08-23     1830     B\n",
       "719      1676073049  2696599598  2019-08-05      690     A\n",
       "799       724544405  2572433473  2019-08-05     2436     B\n",
       "494      1207030791  2700013943  2019-08-26     1980     B"
      ]
     },
     "metadata": {},
     "output_type": "display_data"
    },
    {
     "name": "stdout",
     "output_type": "stream",
     "text": [
      "\n",
      "Проверка на дубликаты и пропуски:\n",
      "\n",
      "- Дубликатов не обнаружено\n",
      "\n",
      "- Пропусков не обнаружено\n"
     ]
    }
   ],
   "source": [
    "# импортируем датасет с данными о заказах и применим обьявленную функцию:\n",
    "orders = pd.read_csv('/datasets/orders.csv')\n",
    "\n",
    "overview(orders)"
   ]
  },
  {
   "cell_type": "markdown",
   "metadata": {},
   "source": [
    "Файл `/datasets/orders.csv` содержит следующие столбцы:\n",
    "\n",
    "- `transactionId` — идентификатор заказа;\n",
    "- `visitorId` — идентификатор пользователя, совершившего заказ;\n",
    "- `date` — дата, когда был совершён заказ;\n",
    "- `revenue` — выручка заказа;\n",
    "- `group` — группа A/B-теста, в которую попал заказ.\n",
    "\n",
    "Явных дубликатов и пропусков при первичном обзоре данных не обнаружено, однако не исключено присутствие неявных дубликатов - а также имеются подозрительные аномальные значения в столбце `revenue`. Для оптимизации последующей работы с данными, мы приведем названия первых двух столбцов к типу 'snake_case', тип данных столбца `date` - к формату `datetime`, проверим датасет на неявные дубликаты - а затем рассмотрим `revenue` поближе:"
   ]
  },
  {
   "cell_type": "code",
   "execution_count": 12,
   "metadata": {},
   "outputs": [
    {
     "name": "stdout",
     "output_type": "stream",
     "text": [
      " Уникальных пользователей, попавших в обе группы - 58\n"
     ]
    }
   ],
   "source": [
    "orders['date'] = orders['date'].map(\n",
    "    lambda x: dt.datetime.strptime(x, '%Y-%m-%d')\n",
    ")\n",
    "orders = orders.rename(columns={'transactionId':'transaction_id',\n",
    "                                'visitorId':'visitor_id'})\n",
    "\n",
    "# проверим, что нет пользователей, попавших в обе группы\n",
    "\n",
    "inter = np.intersect1d(\n",
    "    orders.query('group == \"A\"')['visitor_id'].unique(),\n",
    "    orders.query('group == \"B\"')['visitor_id'].unique()\n",
    ")\n",
    "print(f' Уникальных пользователей, попавших в обе группы - {inter.size}')"
   ]
  },
  {
   "cell_type": "markdown",
   "metadata": {},
   "source": [
    "В предоставленных данных были обнаружены 58 посетителей, которые попали в обе группы сразу. Рассмотрим их поподробнее:"
   ]
  },
  {
   "cell_type": "code",
   "execution_count": 13,
   "metadata": {},
   "outputs": [
    {
     "data": {
      "text/html": [
       "<div>\n",
       "<style scoped>\n",
       "    .dataframe tbody tr th:only-of-type {\n",
       "        vertical-align: middle;\n",
       "    }\n",
       "\n",
       "    .dataframe tbody tr th {\n",
       "        vertical-align: top;\n",
       "    }\n",
       "\n",
       "    .dataframe thead th {\n",
       "        text-align: right;\n",
       "    }\n",
       "</style>\n",
       "<table border=\"1\" class=\"dataframe\">\n",
       "  <thead>\n",
       "    <tr style=\"text-align: right;\">\n",
       "      <th></th>\n",
       "      <th>transaction_id</th>\n",
       "      <th>visitor_id</th>\n",
       "      <th>date</th>\n",
       "      <th>revenue</th>\n",
       "      <th>group</th>\n",
       "    </tr>\n",
       "  </thead>\n",
       "  <tbody>\n",
       "    <tr>\n",
       "      <th>703</th>\n",
       "      <td>4293855558</td>\n",
       "      <td>8300375</td>\n",
       "      <td>2019-08-07</td>\n",
       "      <td>1790</td>\n",
       "      <td>A</td>\n",
       "    </tr>\n",
       "    <tr>\n",
       "      <th>71</th>\n",
       "      <td>3679129301</td>\n",
       "      <td>8300375</td>\n",
       "      <td>2019-08-01</td>\n",
       "      <td>10510</td>\n",
       "      <td>B</td>\n",
       "    </tr>\n",
       "    <tr>\n",
       "      <th>823</th>\n",
       "      <td>2971973105</td>\n",
       "      <td>199603092</td>\n",
       "      <td>2019-08-27</td>\n",
       "      <td>2790</td>\n",
       "      <td>A</td>\n",
       "    </tr>\n",
       "    <tr>\n",
       "      <th>246</th>\n",
       "      <td>437656952</td>\n",
       "      <td>199603092</td>\n",
       "      <td>2019-08-02</td>\n",
       "      <td>3488</td>\n",
       "      <td>B</td>\n",
       "    </tr>\n",
       "    <tr>\n",
       "      <th>26</th>\n",
       "      <td>2223239646</td>\n",
       "      <td>199603092</td>\n",
       "      <td>2019-08-15</td>\n",
       "      <td>3488</td>\n",
       "      <td>A</td>\n",
       "    </tr>\n",
       "    <tr>\n",
       "      <th>134</th>\n",
       "      <td>62794304</td>\n",
       "      <td>199603092</td>\n",
       "      <td>2019-08-22</td>\n",
       "      <td>6976</td>\n",
       "      <td>A</td>\n",
       "    </tr>\n",
       "    <tr>\n",
       "      <th>1102</th>\n",
       "      <td>1941707234</td>\n",
       "      <td>199603092</td>\n",
       "      <td>2019-08-12</td>\n",
       "      <td>6438</td>\n",
       "      <td>A</td>\n",
       "    </tr>\n",
       "    <tr>\n",
       "      <th>1009</th>\n",
       "      <td>2670069237</td>\n",
       "      <td>232979603</td>\n",
       "      <td>2019-08-31</td>\n",
       "      <td>2640</td>\n",
       "      <td>B</td>\n",
       "    </tr>\n",
       "    <tr>\n",
       "      <th>1013</th>\n",
       "      <td>83566152</td>\n",
       "      <td>232979603</td>\n",
       "      <td>2019-08-31</td>\n",
       "      <td>60</td>\n",
       "      <td>A</td>\n",
       "    </tr>\n",
       "    <tr>\n",
       "      <th>590</th>\n",
       "      <td>3702128013</td>\n",
       "      <td>237748145</td>\n",
       "      <td>2019-08-20</td>\n",
       "      <td>1290</td>\n",
       "      <td>A</td>\n",
       "    </tr>\n",
       "    <tr>\n",
       "      <th>716</th>\n",
       "      <td>972407388</td>\n",
       "      <td>237748145</td>\n",
       "      <td>2019-08-27</td>\n",
       "      <td>470</td>\n",
       "      <td>A</td>\n",
       "    </tr>\n",
       "    <tr>\n",
       "      <th>1097</th>\n",
       "      <td>3357467820</td>\n",
       "      <td>237748145</td>\n",
       "      <td>2019-08-12</td>\n",
       "      <td>340</td>\n",
       "      <td>A</td>\n",
       "    </tr>\n",
       "    <tr>\n",
       "      <th>41</th>\n",
       "      <td>2594268419</td>\n",
       "      <td>237748145</td>\n",
       "      <td>2019-08-15</td>\n",
       "      <td>1090</td>\n",
       "      <td>A</td>\n",
       "    </tr>\n",
       "    <tr>\n",
       "      <th>27</th>\n",
       "      <td>1630050528</td>\n",
       "      <td>237748145</td>\n",
       "      <td>2019-08-15</td>\n",
       "      <td>7620</td>\n",
       "      <td>B</td>\n",
       "    </tr>\n",
       "    <tr>\n",
       "      <th>85</th>\n",
       "      <td>1701653566</td>\n",
       "      <td>276558944</td>\n",
       "      <td>2019-08-22</td>\n",
       "      <td>12350</td>\n",
       "      <td>B</td>\n",
       "    </tr>\n",
       "    <tr>\n",
       "      <th>1093</th>\n",
       "      <td>3894437543</td>\n",
       "      <td>276558944</td>\n",
       "      <td>2019-08-12</td>\n",
       "      <td>5050</td>\n",
       "      <td>A</td>\n",
       "    </tr>\n",
       "    <tr>\n",
       "      <th>453</th>\n",
       "      <td>3075639014</td>\n",
       "      <td>351125977</td>\n",
       "      <td>2019-08-06</td>\n",
       "      <td>4485</td>\n",
       "      <td>A</td>\n",
       "    </tr>\n",
       "    <tr>\n",
       "      <th>23</th>\n",
       "      <td>4252514150</td>\n",
       "      <td>351125977</td>\n",
       "      <td>2019-08-15</td>\n",
       "      <td>15185</td>\n",
       "      <td>B</td>\n",
       "    </tr>\n",
       "    <tr>\n",
       "      <th>525</th>\n",
       "      <td>3031564664</td>\n",
       "      <td>393266494</td>\n",
       "      <td>2019-08-19</td>\n",
       "      <td>21550</td>\n",
       "      <td>A</td>\n",
       "    </tr>\n",
       "    <tr>\n",
       "      <th>1189</th>\n",
       "      <td>4082620617</td>\n",
       "      <td>393266494</td>\n",
       "      <td>2019-08-14</td>\n",
       "      <td>31550</td>\n",
       "      <td>B</td>\n",
       "    </tr>\n",
       "    <tr>\n",
       "      <th>936</th>\n",
       "      <td>936917445</td>\n",
       "      <td>393266494</td>\n",
       "      <td>2019-08-08</td>\n",
       "      <td>2190</td>\n",
       "      <td>B</td>\n",
       "    </tr>\n",
       "    <tr>\n",
       "      <th>94</th>\n",
       "      <td>252633006</td>\n",
       "      <td>457167155</td>\n",
       "      <td>2019-08-22</td>\n",
       "      <td>5970</td>\n",
       "      <td>B</td>\n",
       "    </tr>\n",
       "    <tr>\n",
       "      <th>95</th>\n",
       "      <td>372616894</td>\n",
       "      <td>457167155</td>\n",
       "      <td>2019-08-22</td>\n",
       "      <td>987</td>\n",
       "      <td>B</td>\n",
       "    </tr>\n",
       "    <tr>\n",
       "      <th>256</th>\n",
       "      <td>2370268995</td>\n",
       "      <td>457167155</td>\n",
       "      <td>2019-08-23</td>\n",
       "      <td>1620</td>\n",
       "      <td>A</td>\n",
       "    </tr>\n",
       "    <tr>\n",
       "      <th>1074</th>\n",
       "      <td>3571123442</td>\n",
       "      <td>457167155</td>\n",
       "      <td>2019-08-12</td>\n",
       "      <td>1280</td>\n",
       "      <td>B</td>\n",
       "    </tr>\n",
       "    <tr>\n",
       "      <th>844</th>\n",
       "      <td>3734714128</td>\n",
       "      <td>471551937</td>\n",
       "      <td>2019-08-05</td>\n",
       "      <td>22950</td>\n",
       "      <td>A</td>\n",
       "    </tr>\n",
       "    <tr>\n",
       "      <th>1166</th>\n",
       "      <td>2676541142</td>\n",
       "      <td>471551937</td>\n",
       "      <td>2019-08-14</td>\n",
       "      <td>3460</td>\n",
       "      <td>B</td>\n",
       "    </tr>\n",
       "    <tr>\n",
       "      <th>732</th>\n",
       "      <td>132561921</td>\n",
       "      <td>477780734</td>\n",
       "      <td>2019-08-30</td>\n",
       "      <td>3650</td>\n",
       "      <td>B</td>\n",
       "    </tr>\n",
       "    <tr>\n",
       "      <th>730</th>\n",
       "      <td>3335803766</td>\n",
       "      <td>477780734</td>\n",
       "      <td>2019-08-30</td>\n",
       "      <td>7300</td>\n",
       "      <td>A</td>\n",
       "    </tr>\n",
       "    <tr>\n",
       "      <th>1163</th>\n",
       "      <td>2357685128</td>\n",
       "      <td>818047933</td>\n",
       "      <td>2019-08-14</td>\n",
       "      <td>400</td>\n",
       "      <td>B</td>\n",
       "    </tr>\n",
       "  </tbody>\n",
       "</table>\n",
       "</div>"
      ],
      "text/plain": [
       "      transaction_id  visitor_id       date  revenue group\n",
       "703       4293855558     8300375 2019-08-07     1790     A\n",
       "71        3679129301     8300375 2019-08-01    10510     B\n",
       "823       2971973105   199603092 2019-08-27     2790     A\n",
       "246        437656952   199603092 2019-08-02     3488     B\n",
       "26        2223239646   199603092 2019-08-15     3488     A\n",
       "134         62794304   199603092 2019-08-22     6976     A\n",
       "1102      1941707234   199603092 2019-08-12     6438     A\n",
       "1009      2670069237   232979603 2019-08-31     2640     B\n",
       "1013        83566152   232979603 2019-08-31       60     A\n",
       "590       3702128013   237748145 2019-08-20     1290     A\n",
       "716        972407388   237748145 2019-08-27      470     A\n",
       "1097      3357467820   237748145 2019-08-12      340     A\n",
       "41        2594268419   237748145 2019-08-15     1090     A\n",
       "27        1630050528   237748145 2019-08-15     7620     B\n",
       "85        1701653566   276558944 2019-08-22    12350     B\n",
       "1093      3894437543   276558944 2019-08-12     5050     A\n",
       "453       3075639014   351125977 2019-08-06     4485     A\n",
       "23        4252514150   351125977 2019-08-15    15185     B\n",
       "525       3031564664   393266494 2019-08-19    21550     A\n",
       "1189      4082620617   393266494 2019-08-14    31550     B\n",
       "936        936917445   393266494 2019-08-08     2190     B\n",
       "94         252633006   457167155 2019-08-22     5970     B\n",
       "95         372616894   457167155 2019-08-22      987     B\n",
       "256       2370268995   457167155 2019-08-23     1620     A\n",
       "1074      3571123442   457167155 2019-08-12     1280     B\n",
       "844       3734714128   471551937 2019-08-05    22950     A\n",
       "1166      2676541142   471551937 2019-08-14     3460     B\n",
       "732        132561921   477780734 2019-08-30     3650     B\n",
       "730       3335803766   477780734 2019-08-30     7300     A\n",
       "1163      2357685128   818047933 2019-08-14      400     B"
      ]
     },
     "execution_count": 13,
     "metadata": {},
     "output_type": "execute_result"
    }
   ],
   "source": [
    "orders[orders['visitor_id'].isin(inter)].sort_values(by='visitor_id').head(30)"
   ]
  },
  {
   "cell_type": "code",
   "execution_count": 14,
   "metadata": {},
   "outputs": [
    {
     "data": {
      "text/plain": [
       "'Доля пользователей с неуникальной группой теста: 4.8%'"
      ]
     },
     "metadata": {},
     "output_type": "display_data"
    },
    {
     "data": {
      "text/plain": [
       "'Доля действий пользователей с неуникальной группой теста: 15.1%'"
      ]
     },
     "execution_count": 14,
     "metadata": {},
     "output_type": "execute_result"
    }
   ],
   "source": [
    "display('Доля пользователей с неуникальной группой теста: {:.1%}'.format(58 / 1197))\n",
    "'Доля действий пользователей с неуникальной группой теста: {:.1%}'.format(181 / 1197)"
   ]
  },
  {
   "cell_type": "markdown",
   "metadata": {},
   "source": [
    "Есть вероятность, что на одном из этапов проведения A/B-тестирования произошел сбой, из-за чего в исходных данных почти 5% пользователей оказались в двух группах одновременно. Так как на данный момент отстутствует возможность перепроверить и исправить исходные данные, а количество пользователей достаточно велико для статистической значимости влияния на дальнейшее исследование - принято решения оставить данные.\n",
    "\n",
    "Далее рассмотрим столбец `revenue`:"
   ]
  },
  {
   "cell_type": "code",
   "execution_count": 15,
   "metadata": {},
   "outputs": [
    {
     "data": {
      "text/plain": [
       "count       1,197.00\n",
       "mean        8,348.01\n",
       "std        39,191.13\n",
       "min            50.00\n",
       "25%         1,220.00\n",
       "50%         2,978.00\n",
       "75%         8,290.00\n",
       "max     1,294,500.00\n",
       "Name: revenue, dtype: float64"
      ]
     },
     "execution_count": 15,
     "metadata": {},
     "output_type": "execute_result"
    }
   ],
   "source": [
    "orders['revenue'].describe()"
   ]
  },
  {
   "cell_type": "markdown",
   "metadata": {},
   "source": [
    "Столбец `revenue` показывает аномально широкий разброс значений: значение первого квартиля (1220) превышает минимальное (50) более чем в 24 раза, а максимальное значение превышает показатель третьего квартиля более чем в 156(!) раз. Попробуем визуализировать данные после 9-го дециля :"
   ]
  },
  {
   "cell_type": "code",
   "execution_count": 16,
   "metadata": {
    "scrolled": true
   },
   "outputs": [
    {
     "data": {
      "text/html": [
       "<style  type=\"text/css\" >\n",
       "</style><table id=\"T_e1c84_\" ><thead>    <tr>        <th class=\"blank level0\" ></th>        <th class=\"col_heading level0 col0\" >revenue</th>    </tr></thead><tbody>\n",
       "                <tr>\n",
       "                        <th id=\"T_e1c84_level0_row0\" class=\"row_heading level0 row0\" >0.9</th>\n",
       "                        <td id=\"T_e1c84_row0_col0\" class=\"data row0 col0\" >18,168.00</td>\n",
       "            </tr>\n",
       "            <tr>\n",
       "                        <th id=\"T_e1c84_level0_row1\" class=\"row_heading level0 row1\" >0.95</th>\n",
       "                        <td id=\"T_e1c84_row1_col0\" class=\"data row1 col0\" >28,000.00</td>\n",
       "            </tr>\n",
       "            <tr>\n",
       "                        <th id=\"T_e1c84_level0_row2\" class=\"row_heading level0 row2\" >0.99</th>\n",
       "                        <td id=\"T_e1c84_row2_col0\" class=\"data row2 col0\" >58,233.20</td>\n",
       "            </tr>\n",
       "            <tr>\n",
       "                        <th id=\"T_e1c84_level0_row3\" class=\"row_heading level0 row3\" >0.99915</th>\n",
       "                        <td id=\"T_e1c84_row3_col0\" class=\"data row3 col0\" >200,933.92</td>\n",
       "            </tr>\n",
       "            <tr>\n",
       "                        <th id=\"T_e1c84_level0_row4\" class=\"row_heading level0 row4\" >1.0</th>\n",
       "                        <td id=\"T_e1c84_row4_col0\" class=\"data row4 col0\" >1,294,500.00</td>\n",
       "            </tr>\n",
       "    </tbody></table>"
      ],
      "text/plain": [
       "<pandas.io.formats.style.Styler at 0x7f36a1f6e4f0>"
      ]
     },
     "metadata": {},
     "output_type": "display_data"
    },
    {
     "data": {
      "image/png": "[encoded data removed]",
      "text/plain": [
       "<Figure size 1440x288 with 1 Axes>"
      ]
     },
     "metadata": {},
     "output_type": "display_data"
    }
   ],
   "source": [
    "# Визуализируем данные через диаграму размаха\n",
    "\n",
    "fig, ax = plt.subplots(figsize = (20,4))\n",
    "ax = orders[['revenue']].boxplot(vert = False, ax =ax)\n",
    "ax.set_title('Диаграмма размаха значений прибыли');\n",
    "\n",
    "# Значения параметра прибыли на разных квантилях\n",
    "\n",
    "display(orders[['revenue']]\n",
    "      .quantile([.9, .95, .99, .99915, 1])  \n",
    "      .style.format(\"{:,.2f}\"))"
   ]
  },
  {
   "cell_type": "code",
   "execution_count": 17,
   "metadata": {},
   "outputs": [
    {
     "data": {
      "text/html": [
       "<div>\n",
       "<style scoped>\n",
       "    .dataframe tbody tr th:only-of-type {\n",
       "        vertical-align: middle;\n",
       "    }\n",
       "\n",
       "    .dataframe tbody tr th {\n",
       "        vertical-align: top;\n",
       "    }\n",
       "\n",
       "    .dataframe thead th {\n",
       "        text-align: right;\n",
       "    }\n",
       "</style>\n",
       "<table border=\"1\" class=\"dataframe\">\n",
       "  <thead>\n",
       "    <tr style=\"text-align: right;\">\n",
       "      <th></th>\n",
       "      <th>transaction_id</th>\n",
       "      <th>visitor_id</th>\n",
       "      <th>date</th>\n",
       "      <th>revenue</th>\n",
       "      <th>group</th>\n",
       "    </tr>\n",
       "  </thead>\n",
       "  <tbody>\n",
       "    <tr>\n",
       "      <th>425</th>\n",
       "      <td>590470918</td>\n",
       "      <td>1920142716</td>\n",
       "      <td>2019-08-19</td>\n",
       "      <td>1294500</td>\n",
       "      <td>B</td>\n",
       "    </tr>\n",
       "    <tr>\n",
       "      <th>1196</th>\n",
       "      <td>3936777065</td>\n",
       "      <td>2108080724</td>\n",
       "      <td>2019-08-15</td>\n",
       "      <td>202740</td>\n",
       "      <td>B</td>\n",
       "    </tr>\n",
       "  </tbody>\n",
       "</table>\n",
       "</div>"
      ],
      "text/plain": [
       "      transaction_id  visitor_id       date  revenue group\n",
       "425        590470918  1920142716 2019-08-19  1294500     B\n",
       "1196      3936777065  2108080724 2019-08-15   202740     B"
      ]
     },
     "execution_count": 17,
     "metadata": {},
     "output_type": "execute_result"
    }
   ],
   "source": [
    "# Выведем наиболее выбивающиеся показатели:\n",
    "orders.query('revenue > 100000')"
   ]
  },
  {
   "cell_type": "markdown",
   "metadata": {},
   "source": [
    "Как можно увидеть на диаграмме размаха значений, в данных присутствует заметное количество аномально больших выбросов после третьего квартиля и особенно после 9-го дециля. При этом наиболее выбивающимися являются только две строки, обе относятся к группе B. Не исключено, что данные заказы могут отображать оптовые заказы, другие источники выручки вне физических клиентов - или могут быть результатом как технической, так и человеческой ошибки при исходной записи данных. Так как природа данных транзакций до конца не ясна, принято решение временно строки оставить.\n",
    "\n",
    "Перейдем к следующему датасету, `visitors`:"
   ]
  },
  {
   "cell_type": "code",
   "execution_count": 18,
   "metadata": {},
   "outputs": [
    {
     "name": "stdout",
     "output_type": "stream",
     "text": [
      "Общая информация:\n",
      "\n",
      "<class 'pandas.core.frame.DataFrame'>\n",
      "RangeIndex: 62 entries, 0 to 61\n",
      "Data columns (total 3 columns):\n",
      " #   Column    Non-Null Count  Dtype \n",
      "---  ------    --------------  ----- \n",
      " 0   date      62 non-null     object\n",
      " 1   group     62 non-null     object\n",
      " 2   visitors  62 non-null     int64 \n",
      "dtypes: int64(1), object(2)\n",
      "memory usage: 1.6+ KB\n",
      "\n",
      "Описательная статистика:\n",
      "\n"
     ]
    },
    {
     "data": {
      "text/html": [
       "<div>\n",
       "<style scoped>\n",
       "    .dataframe tbody tr th:only-of-type {\n",
       "        vertical-align: middle;\n",
       "    }\n",
       "\n",
       "    .dataframe tbody tr th {\n",
       "        vertical-align: top;\n",
       "    }\n",
       "\n",
       "    .dataframe thead th {\n",
       "        text-align: right;\n",
       "    }\n",
       "</style>\n",
       "<table border=\"1\" class=\"dataframe\">\n",
       "  <thead>\n",
       "    <tr style=\"text-align: right;\">\n",
       "      <th></th>\n",
       "      <th>date</th>\n",
       "      <th>group</th>\n",
       "      <th>visitors</th>\n",
       "    </tr>\n",
       "  </thead>\n",
       "  <tbody>\n",
       "    <tr>\n",
       "      <th>count</th>\n",
       "      <td>62</td>\n",
       "      <td>62</td>\n",
       "      <td>62.00</td>\n",
       "    </tr>\n",
       "    <tr>\n",
       "      <th>unique</th>\n",
       "      <td>31</td>\n",
       "      <td>2</td>\n",
       "      <td>NaN</td>\n",
       "    </tr>\n",
       "    <tr>\n",
       "      <th>top</th>\n",
       "      <td>2019-08-08</td>\n",
       "      <td>B</td>\n",
       "      <td>NaN</td>\n",
       "    </tr>\n",
       "    <tr>\n",
       "      <th>freq</th>\n",
       "      <td>2</td>\n",
       "      <td>31</td>\n",
       "      <td>NaN</td>\n",
       "    </tr>\n",
       "    <tr>\n",
       "      <th>mean</th>\n",
       "      <td>NaN</td>\n",
       "      <td>NaN</td>\n",
       "      <td>607.29</td>\n",
       "    </tr>\n",
       "    <tr>\n",
       "      <th>std</th>\n",
       "      <td>NaN</td>\n",
       "      <td>NaN</td>\n",
       "      <td>114.40</td>\n",
       "    </tr>\n",
       "    <tr>\n",
       "      <th>min</th>\n",
       "      <td>NaN</td>\n",
       "      <td>NaN</td>\n",
       "      <td>361.00</td>\n",
       "    </tr>\n",
       "    <tr>\n",
       "      <th>25%</th>\n",
       "      <td>NaN</td>\n",
       "      <td>NaN</td>\n",
       "      <td>534.00</td>\n",
       "    </tr>\n",
       "    <tr>\n",
       "      <th>50%</th>\n",
       "      <td>NaN</td>\n",
       "      <td>NaN</td>\n",
       "      <td>624.50</td>\n",
       "    </tr>\n",
       "    <tr>\n",
       "      <th>75%</th>\n",
       "      <td>NaN</td>\n",
       "      <td>NaN</td>\n",
       "      <td>710.50</td>\n",
       "    </tr>\n",
       "    <tr>\n",
       "      <th>max</th>\n",
       "      <td>NaN</td>\n",
       "      <td>NaN</td>\n",
       "      <td>770.00</td>\n",
       "    </tr>\n",
       "  </tbody>\n",
       "</table>\n",
       "</div>"
      ],
      "text/plain": [
       "              date group  visitors\n",
       "count           62    62     62.00\n",
       "unique          31     2       NaN\n",
       "top     2019-08-08     B       NaN\n",
       "freq             2    31       NaN\n",
       "mean           NaN   NaN    607.29\n",
       "std            NaN   NaN    114.40\n",
       "min            NaN   NaN    361.00\n",
       "25%            NaN   NaN    534.00\n",
       "50%            NaN   NaN    624.50\n",
       "75%            NaN   NaN    710.50\n",
       "max            NaN   NaN    770.00"
      ]
     },
     "metadata": {},
     "output_type": "display_data"
    },
    {
     "name": "stdout",
     "output_type": "stream",
     "text": [
      "\n",
      "Пять случайных строк датасета:\n",
      "\n"
     ]
    },
    {
     "data": {
      "text/html": [
       "<div>\n",
       "<style scoped>\n",
       "    .dataframe tbody tr th:only-of-type {\n",
       "        vertical-align: middle;\n",
       "    }\n",
       "\n",
       "    .dataframe tbody tr th {\n",
       "        vertical-align: top;\n",
       "    }\n",
       "\n",
       "    .dataframe thead th {\n",
       "        text-align: right;\n",
       "    }\n",
       "</style>\n",
       "<table border=\"1\" class=\"dataframe\">\n",
       "  <thead>\n",
       "    <tr style=\"text-align: right;\">\n",
       "      <th></th>\n",
       "      <th>date</th>\n",
       "      <th>group</th>\n",
       "      <th>visitors</th>\n",
       "    </tr>\n",
       "  </thead>\n",
       "  <tbody>\n",
       "    <tr>\n",
       "      <th>9</th>\n",
       "      <td>2019-08-10</td>\n",
       "      <td>A</td>\n",
       "      <td>406</td>\n",
       "    </tr>\n",
       "    <tr>\n",
       "      <th>35</th>\n",
       "      <td>2019-08-05</td>\n",
       "      <td>B</td>\n",
       "      <td>707</td>\n",
       "    </tr>\n",
       "    <tr>\n",
       "      <th>32</th>\n",
       "      <td>2019-08-02</td>\n",
       "      <td>B</td>\n",
       "      <td>581</td>\n",
       "    </tr>\n",
       "    <tr>\n",
       "      <th>7</th>\n",
       "      <td>2019-08-08</td>\n",
       "      <td>A</td>\n",
       "      <td>610</td>\n",
       "    </tr>\n",
       "    <tr>\n",
       "      <th>3</th>\n",
       "      <td>2019-08-04</td>\n",
       "      <td>A</td>\n",
       "      <td>717</td>\n",
       "    </tr>\n",
       "  </tbody>\n",
       "</table>\n",
       "</div>"
      ],
      "text/plain": [
       "          date group  visitors\n",
       "9   2019-08-10     A       406\n",
       "35  2019-08-05     B       707\n",
       "32  2019-08-02     B       581\n",
       "7   2019-08-08     A       610\n",
       "3   2019-08-04     A       717"
      ]
     },
     "metadata": {},
     "output_type": "display_data"
    },
    {
     "name": "stdout",
     "output_type": "stream",
     "text": [
      "\n",
      "Проверка на дубликаты и пропуски:\n",
      "\n",
      "- Дубликатов не обнаружено\n",
      "\n",
      "- Пропусков не обнаружено\n"
     ]
    }
   ],
   "source": [
    "visitors = pd.read_csv('/datasets/visitors.csv')\n",
    "\n",
    "overview(visitors)"
   ]
  },
  {
   "cell_type": "markdown",
   "metadata": {},
   "source": [
    "Файл `/datasets/visitors.csv` содержит информацию о визитах:\n",
    "    \n",
    "- `date` — дата;\n",
    "- `group` — группа A/B-теста;\n",
    "- `visitors` — количество пользователей в указанную дату в указанной группе A/B-теста\n",
    "\n",
    "\n",
    "Явных пропусков и дубликатов не обнаружено, подозрений на наличие неявных дубликатов и других аномальных данных нет. Для дальнейшей работы переведем тип данных столбца `date` к формату `datetime` и перейдем к выводам из первичного обзора и предобработки."
   ]
  },
  {
   "cell_type": "code",
   "execution_count": 19,
   "metadata": {},
   "outputs": [
    {
     "name": "stdout",
     "output_type": "stream",
     "text": [
      "<class 'pandas.core.frame.DataFrame'>\n",
      "RangeIndex: 62 entries, 0 to 61\n",
      "Data columns (total 3 columns):\n",
      " #   Column    Non-Null Count  Dtype         \n",
      "---  ------    --------------  -----         \n",
      " 0   date      62 non-null     datetime64[ns]\n",
      " 1   group     62 non-null     object        \n",
      " 2   visitors  62 non-null     int64         \n",
      "dtypes: datetime64[ns](1), int64(1), object(1)\n",
      "memory usage: 1.6+ KB\n"
     ]
    }
   ],
   "source": [
    "visitors['date'] = visitors['date'].map(\n",
    "    lambda x: dt.datetime.strptime(x, '%Y-%m-%d')\n",
    ")\n",
    "\n",
    "visitors.info()"
   ]
  },
  {
   "cell_type": "markdown",
   "metadata": {},
   "source": [
    "#### Выводы - Первичный обзор и предобработка данных"
   ]
  },
  {
   "cell_type": "markdown",
   "metadata": {},
   "source": [
    "- В ходе первичного обзора представленных датасетов с заказами клиентов (`orders`) и количеством посетителей (`visitors`) не было обнаружено явных дубликатов и пропусков данных, что свитетельствует о хорошем качестве выгрузки исходных данных.\n",
    "\n",
    "\n",
    "- При подробном рассмотрении данных датасета `orders` были обнаружены 58 уникальных идентификаторов пользователей, попавших в группы A и B одновременно. Так как данное число составляет 4.8% от общего числа пользователей, а число строк с данными идентификаторами - 15.1%, удалить их из текущего датасета не представляется возможным из-за статистической значимости влияния такого числа пользователей на итоговые результаты анализа. \n",
    "\n",
    "\n",
    "- Также при рассмотрении данных столбца `revenue` датасета `orders` были обнаружены выбивающиеся значения по выручке: медианное значение превышает среднее почти в три раза, показатель стандартного отклонения превышает значения третьего квартиля в пять раз, а разница третьего квартиля и максимального значения - 156(!) раз. Несмотря на данные показатели, было принято решение аномальные значения оставить, так как природа возникновения значений до конца не ясна - данные транзакции могут быть как легитимной оптовой закупкой или крупным заказом, так и ошибкой ручного ввода данных при исходном сборе."
   ]
  },
  {
   "cell_type": "markdown",
   "metadata": {},
   "source": [
    "### Кумулятивные метрики (выручка, средний чек, количество заказов)"
   ]
  },
  {
   "cell_type": "markdown",
   "metadata": {},
   "source": [
    "Соберем кумулятивные данные о выручке, среднем чеке и количестве заказов среди двух групп пользователей."
   ]
  },
  {
   "cell_type": "code",
   "execution_count": 20,
   "metadata": {},
   "outputs": [
    {
     "data": {
      "text/html": [
       "<div>\n",
       "<style scoped>\n",
       "    .dataframe tbody tr th:only-of-type {\n",
       "        vertical-align: middle;\n",
       "    }\n",
       "\n",
       "    .dataframe tbody tr th {\n",
       "        vertical-align: top;\n",
       "    }\n",
       "\n",
       "    .dataframe thead th {\n",
       "        text-align: right;\n",
       "    }\n",
       "</style>\n",
       "<table border=\"1\" class=\"dataframe\">\n",
       "  <thead>\n",
       "    <tr style=\"text-align: right;\">\n",
       "      <th></th>\n",
       "      <th>date</th>\n",
       "      <th>group</th>\n",
       "      <th>orders</th>\n",
       "      <th>buyers</th>\n",
       "      <th>revenue</th>\n",
       "      <th>visitors</th>\n",
       "    </tr>\n",
       "  </thead>\n",
       "  <tbody>\n",
       "    <tr>\n",
       "      <th>0</th>\n",
       "      <td>2019-08-01</td>\n",
       "      <td>A</td>\n",
       "      <td>24</td>\n",
       "      <td>20</td>\n",
       "      <td>148579</td>\n",
       "      <td>719</td>\n",
       "    </tr>\n",
       "    <tr>\n",
       "      <th>1</th>\n",
       "      <td>2019-08-01</td>\n",
       "      <td>B</td>\n",
       "      <td>21</td>\n",
       "      <td>20</td>\n",
       "      <td>101217</td>\n",
       "      <td>713</td>\n",
       "    </tr>\n",
       "    <tr>\n",
       "      <th>2</th>\n",
       "      <td>2019-08-02</td>\n",
       "      <td>A</td>\n",
       "      <td>44</td>\n",
       "      <td>38</td>\n",
       "      <td>242401</td>\n",
       "      <td>1338</td>\n",
       "    </tr>\n",
       "    <tr>\n",
       "      <th>3</th>\n",
       "      <td>2019-08-02</td>\n",
       "      <td>B</td>\n",
       "      <td>45</td>\n",
       "      <td>43</td>\n",
       "      <td>266748</td>\n",
       "      <td>1294</td>\n",
       "    </tr>\n",
       "    <tr>\n",
       "      <th>4</th>\n",
       "      <td>2019-08-03</td>\n",
       "      <td>A</td>\n",
       "      <td>68</td>\n",
       "      <td>62</td>\n",
       "      <td>354874</td>\n",
       "      <td>1845</td>\n",
       "    </tr>\n",
       "    <tr>\n",
       "      <th>...</th>\n",
       "      <td>...</td>\n",
       "      <td>...</td>\n",
       "      <td>...</td>\n",
       "      <td>...</td>\n",
       "      <td>...</td>\n",
       "      <td>...</td>\n",
       "    </tr>\n",
       "    <tr>\n",
       "      <th>57</th>\n",
       "      <td>2019-08-29</td>\n",
       "      <td>B</td>\n",
       "      <td>596</td>\n",
       "      <td>544</td>\n",
       "      <td>5559398</td>\n",
       "      <td>17708</td>\n",
       "    </tr>\n",
       "    <tr>\n",
       "      <th>58</th>\n",
       "      <td>2019-08-30</td>\n",
       "      <td>A</td>\n",
       "      <td>545</td>\n",
       "      <td>493</td>\n",
       "      <td>4022970</td>\n",
       "      <td>18037</td>\n",
       "    </tr>\n",
       "    <tr>\n",
       "      <th>59</th>\n",
       "      <td>2019-08-30</td>\n",
       "      <td>B</td>\n",
       "      <td>620</td>\n",
       "      <td>567</td>\n",
       "      <td>5774631</td>\n",
       "      <td>18198</td>\n",
       "    </tr>\n",
       "    <tr>\n",
       "      <th>60</th>\n",
       "      <td>2019-08-31</td>\n",
       "      <td>A</td>\n",
       "      <td>557</td>\n",
       "      <td>503</td>\n",
       "      <td>4084803</td>\n",
       "      <td>18736</td>\n",
       "    </tr>\n",
       "    <tr>\n",
       "      <th>61</th>\n",
       "      <td>2019-08-31</td>\n",
       "      <td>B</td>\n",
       "      <td>640</td>\n",
       "      <td>586</td>\n",
       "      <td>5907760</td>\n",
       "      <td>18916</td>\n",
       "    </tr>\n",
       "  </tbody>\n",
       "</table>\n",
       "<p>62 rows × 6 columns</p>\n",
       "</div>"
      ],
      "text/plain": [
       "         date group  orders  buyers  revenue  visitors\n",
       "0  2019-08-01     A      24      20   148579       719\n",
       "1  2019-08-01     B      21      20   101217       713\n",
       "2  2019-08-02     A      44      38   242401      1338\n",
       "3  2019-08-02     B      45      43   266748      1294\n",
       "4  2019-08-03     A      68      62   354874      1845\n",
       "..        ...   ...     ...     ...      ...       ...\n",
       "57 2019-08-29     B     596     544  5559398     17708\n",
       "58 2019-08-30     A     545     493  4022970     18037\n",
       "59 2019-08-30     B     620     567  5774631     18198\n",
       "60 2019-08-31     A     557     503  4084803     18736\n",
       "61 2019-08-31     B     640     586  5907760     18916\n",
       "\n",
       "[62 rows x 6 columns]"
      ]
     },
     "execution_count": 20,
     "metadata": {},
     "output_type": "execute_result"
    }
   ],
   "source": [
    "# создаем массив уникальных пар значений дат и групп теста\n",
    "\n",
    "datesGroups = orders[['date','group']].drop_duplicates() \n",
    "\n",
    "# получаем агрегированные по дням кумулятивные данные о заказах \n",
    "\n",
    "ordersAggregated = (\n",
    "    datesGroups\n",
    "    .apply(lambda x: orders[np.logical_and(orders['date'] <= x['date'],\n",
    "                                           orders['group'] == x['group'])]\n",
    "    .agg({'date' : 'max',\n",
    "          'group' : 'max',\n",
    "          'transaction_id' : 'nunique',\n",
    "          'visitor_id' : 'nunique',\n",
    "          'revenue' : 'sum'}), axis=1).sort_values(by=['date','group'])\n",
    ")\n",
    "\n",
    "# получаем агрегированные по дням кумулятивные данные о посетителях интернет-магазина \n",
    "\n",
    "visitorsAggregated = (\n",
    "    datesGroups\n",
    "    .apply(lambda x: visitors[np.logical_and(visitors['date'] <= x['date'], \n",
    "                                             visitors['group'] == x['group'])]\n",
    "           .agg({'date' : 'max', \n",
    "                 'group' : 'max', \n",
    "                 'visitors' : 'sum'}), axis=1)\n",
    "    .sort_values(by=['date','group'])\n",
    ")\n",
    "\n",
    "# объединяем кумулятивные данные в одной таблице и присваиваем ее столбцам понятные названия\n",
    "\n",
    "cumulativeData = ordersAggregated.merge(visitorsAggregated,\n",
    "                                        left_on=['date', 'group'],\n",
    "                                        right_on=['date', 'group'])\n",
    "cumulativeData.columns = ['date', 'group',\n",
    "                          'orders', 'buyers',\n",
    "                          'revenue', 'visitors']\n",
    "\n",
    "cumulativeData"
   ]
  },
  {
   "cell_type": "markdown",
   "metadata": {},
   "source": [
    "Мы обьявили новый датафрейм - `cumulativeData` - со следующими столбцами:\n",
    "\n",
    "- `date`— дата;\n",
    "- `group`— группа A/B-теста (A или B);\n",
    "- `orders`— кумулятивное количество заказов на указанную дату в указанной группе;\n",
    "- `buyers`— кумулятивное количество пользователей, совершивших хотя бы один заказ, на указанную дату в указанной группе;\n",
    "- `revenue`— кумулятивная выручка на указанную дату в указанной группе (средний чек);\n",
    "- `visitors`— кумулятивное количество посетителей интернет-магазина на указанную дату в определённой группе.\n",
    "\n",
    "Теперь все необходимые кумулятивные данные расчитаны и находятся в одной таблице. Далее мы можем приступить к визуализации желаемых метрик."
   ]
  },
  {
   "cell_type": "markdown",
   "metadata": {},
   "source": [
    "#### График кумулятивной выручки по группам"
   ]
  },
  {
   "cell_type": "markdown",
   "metadata": {},
   "source": [
    "Начнем с визуализации кумулятивной выручки по группам за заданный временной промежуток:"
   ]
  },
  {
   "cell_type": "code",
   "execution_count": 21,
   "metadata": {},
   "outputs": [
    {
     "data": {
      "image/png": "[encoded data removed]",
      "text/plain": [
       "<Figure size 1440x720 with 1 Axes>"
      ]
     },
     "metadata": {},
     "output_type": "display_data"
    }
   ],
   "source": [
    "# датафрейм с кумулятивным количеством заказов и кумулятивной выручкой по дням в группе А\n",
    "\n",
    "cumulativeRevenueA = cumulativeData[cumulativeData['group']=='A'][['date','revenue', 'orders', 'buyers', 'visitors']]\n",
    "\n",
    "# датафрейм с кумулятивным количеством заказов и кумулятивной выручкой по дням в группе B\n",
    "cumulativeRevenueB = cumulativeData[cumulativeData['group']=='B'][['date','revenue', 'orders', 'buyers', 'visitors']]\n",
    "\n",
    "plt.figure(figsize=(20,10))\n",
    "plt.grid()\n",
    "\n",
    "# Строим график выручки группы А\n",
    "\n",
    "plt.plot(cumulativeRevenueA['date'], cumulativeRevenueA['revenue'], label='Группа A')\n",
    "\n",
    "# Строим график выручки группы B\n",
    "\n",
    "plt.plot(cumulativeRevenueB['date'], cumulativeRevenueB['revenue'], label='Группа B')\n",
    "plt.title('Динамика кумулятивной выручки по группам', size = 24)\n",
    "plt.xlabel(\"Дата\")\n",
    "plt.ylabel(\"Выручка\")\n",
    "plt.legend()\n",
    "plt.show()"
   ]
  },
  {
   "cell_type": "markdown",
   "metadata": {},
   "source": [
    "- Выручка растет для обеих групп на протяжении всего периода тестирования. График выручки группы B резко возрастает после 2019-08-19. Это может сигнализировать как о всплеске числа заказов группы, так и о появлении очень дорогих заказов в выборке - что совпадает по дате обнаруженным на этапе предобработки аномально высоким значением в 1.3 млн ден.единиц за единственный заказ."
   ]
  },
  {
   "cell_type": "markdown",
   "metadata": {},
   "source": [
    "#### График кумулятивного среднего чека"
   ]
  },
  {
   "cell_type": "markdown",
   "metadata": {},
   "source": [
    "Далее построим график кумулятивного среднего чека по группам — через деление кумулятивной выручки на кумулятивное число заказов:"
   ]
  },
  {
   "cell_type": "code",
   "execution_count": 22,
   "metadata": {},
   "outputs": [
    {
     "data": {
      "image/png": "[encoded data removed]",
      "text/plain": [
       "<Figure size 1440x720 with 1 Axes>"
      ]
     },
     "metadata": {},
     "output_type": "display_data"
    }
   ],
   "source": [
    "plt.figure(figsize=(20,10))\n",
    "plt.grid()\n",
    "\n",
    "plt.plot(cumulativeRevenueA['date'],\n",
    "         cumulativeRevenueA['revenue']/cumulativeRevenueA['orders'],\n",
    "         label='Группа A')\n",
    "plt.plot(cumulativeRevenueB['date'],\n",
    "         cumulativeRevenueB['revenue']/cumulativeRevenueB['orders'],\n",
    "         label='Группа B')\n",
    "plt.title('Динамика кумулятивного среднего чека по группам', size = 24)\n",
    "plt.xlabel(\"Дата\")\n",
    "plt.ylabel(\"Средний чек\")\n",
    "plt.legend()\n",
    "plt.show()"
   ]
  },
  {
   "cell_type": "markdown",
   "metadata": {},
   "source": [
    "- Период тестирования до 2019-08-15 характеризуется неоднородными скачками размера среднего чека для обеих групп.  Это требует дополнительного анализа выбросов. На середине теста средний чек группы А стабилизируется на уровне 7,000, для группы В резкий рост выручки 2019-08-19 сопровождается резким увеличением среднего чека до 10000 и дальнейшего медленного спада - ещё один повод подозревать в неравномерной динамике среднего чека аномальные выбросы, обнаруженные на этапе предобработки."
   ]
  },
  {
   "cell_type": "markdown",
   "metadata": {},
   "source": [
    "#### График относительного изменения кумулятивного среднего чека"
   ]
  },
  {
   "cell_type": "markdown",
   "metadata": {},
   "source": [
    "Далее визуализируем относительное изменение кумулятивного среднего чека группы B к группе A:"
   ]
  },
  {
   "cell_type": "code",
   "execution_count": 23,
   "metadata": {},
   "outputs": [
    {
     "data": {
      "image/png": "[encoded data removed]",
      "text/plain": [
       "<Figure size 1440x720 with 1 Axes>"
      ]
     },
     "metadata": {},
     "output_type": "display_data"
    }
   ],
   "source": [
    "# собираем данные в одном датафрейме\n",
    "\n",
    "mergedCumulativeRevenue = cumulativeRevenueA.merge(cumulativeRevenueB,\n",
    "                                                   left_on='date',\n",
    "                                                   right_on='date',\n",
    "                                                   how='left',\n",
    "                                                   suffixes=['A', 'B'])\n",
    "\n",
    "plt.figure(figsize=(20,10))\n",
    "plt.grid()\n",
    "\n",
    "# cтроим отношение средних чеков\n",
    "\n",
    "plt.plot(mergedCumulativeRevenue['date'],\n",
    "         (mergedCumulativeRevenue['revenueB']/mergedCumulativeRevenue['ordersB'])/(mergedCumulativeRevenue['revenueA']/mergedCumulativeRevenue['ordersA'])-1)\n",
    "\n",
    "plt.title('Относительное изменение кумулятивного среднего чека группы B к группе A', size = 24)\n",
    "plt.xlabel(\"Дата\")\n",
    "plt.ylabel(\"Отношение\")\n",
    "\n",
    "# добавляем ось X\n",
    "plt.axhline(y=0, color='black', linestyle='--')\n",
    "\n",
    "plt.show()"
   ]
  },
  {
   "cell_type": "markdown",
   "metadata": {},
   "source": [
    "- Кумулятивный средний чек группы B в подавлящем большинстве случаев больше кумулятивного среднего чека группы А. Если резкий скачок 2019-08-19 можно обьяснить уже упомянутыми выбросами, то остальные скачки наводят на мысль о необходимости раздельного анализа исходных и фильтрованных данных."
   ]
  },
  {
   "cell_type": "markdown",
   "metadata": {},
   "source": [
    "#### График динамики среднего количества заказов по группам"
   ]
  },
  {
   "cell_type": "code",
   "execution_count": 24,
   "metadata": {},
   "outputs": [
    {
     "data": {
      "image/png": "[encoded data removed]",
      "text/plain": [
       "<Figure size 1440x720 with 1 Axes>"
      ]
     },
     "metadata": {},
     "output_type": "display_data"
    }
   ],
   "source": [
    "plt.figure(figsize=(20,10))\n",
    "plt.grid()\n",
    "\n",
    "plt.plot(cumulativeRevenueA['date'],\n",
    "         cumulativeRevenueA['orders']/cumulativeRevenueA['visitors'],\n",
    "         label='Группа A')\n",
    "plt.plot(cumulativeRevenueB['date'],\n",
    "         cumulativeRevenueB['orders']/cumulativeRevenueB['visitors'],\n",
    "         label='Группа B')\n",
    "plt.title('График кумулятивного среднего количества заказов на посетителя по группам', size = 24)\n",
    "plt.xlabel(\"Дата\")\n",
    "plt.ylabel(\"Доля заказов\")\n",
    "plt.legend()\n",
    "plt.show()"
   ]
  },
  {
   "cell_type": "markdown",
   "metadata": {},
   "source": [
    "- Так как А/В-тестирование имеет цель показать накопительное различие в поведении пользователей контрольной и экспериментальной групп во временном разрезе, изначальное резкое неравенство среднего количества заказов на посетителя группы А к группе В может свидетельствовать о возможных проблемах дизайна теста, его проведения или рассматриваемой выборки пользователей.\n",
    "\n",
    "\n",
    "- Среднее число заказов на пользователя группы В стабильно превосходит параметры группы А - но если отрыв наиболее сильно отражен в первой половине временного промежутка, то во второй части рассматриваемого периода разница показателей стабилизируется и показывает меньший обьем скачков. Показатель среднего числа заказов группы А стабилизируется в отметке 0.034 или 3.4%, тогда как показатель группы В - немного ниже, у отметки в 0.030 или 3% заказов на пользователя. Получается, что к концу рассматриваемого временного промежутка в среднем на 100 посетителей группы В приходится около 3.4 заказа, на 100 посетителей группы А - 3 заказа."
   ]
  },
  {
   "cell_type": "markdown",
   "metadata": {},
   "source": [
    "#### График относительного изменения кумулятивного среднего числа заказов"
   ]
  },
  {
   "cell_type": "markdown",
   "metadata": {},
   "source": [
    "Далее построим график относительного изменения кумулятивного среднего числа заказов пользователей группы В к группе А:"
   ]
  },
  {
   "cell_type": "code",
   "execution_count": 25,
   "metadata": {},
   "outputs": [
    {
     "data": {
      "image/png": "[encoded data removed]",
      "text/plain": [
       "<Figure size 1440x720 with 1 Axes>"
      ]
     },
     "metadata": {},
     "output_type": "display_data"
    }
   ],
   "source": [
    "plt.figure(figsize=(20,10))\n",
    "plt.grid()\n",
    "\n",
    "# cтроим отношение средних чеков\n",
    "\n",
    "plt.plot(mergedCumulativeRevenue['date'],\n",
    "         (mergedCumulativeRevenue['ordersB']/mergedCumulativeRevenue['visitorsB'])/(mergedCumulativeRevenue['ordersA']/mergedCumulativeRevenue['visitorsA'])-1)\n",
    "\n",
    "plt.title('Относительное изменение кумулятивного среднего числа заказов группы B к группе A', size = 24)\n",
    "plt.xlabel(\"Дата\")\n",
    "plt.ylabel(\"Отношение\")\n",
    "\n",
    "# добавляем ось X\n",
    "plt.axhline(y=0, color='black', linestyle='--')\n",
    "\n",
    "plt.show()"
   ]
  },
  {
   "cell_type": "markdown",
   "metadata": {},
   "source": [
    "- Визуализация относительного изменения показывает, что на момент начала наблюдения показатели среднего числа заказов группы В уступали группе А на -12%, скачкообразно росли на протяжении месяца и стабилизировались в районе отметки в 115% от показателей группы А. На данном этапе сложно сделать предварительный вывод о значимости данных показаний из-за ранее обнаруженных аномальных значений, однако не исключается что даже после отсева аномальных значений метрики пользователей группы В будут показывать сравнительно лучшие результаты."
   ]
  },
  {
   "cell_type": "markdown",
   "metadata": {},
   "source": [
    "### Анализ выбросов и аномалий данных А/В-теста"
   ]
  },
  {
   "cell_type": "markdown",
   "metadata": {},
   "source": [
    "По анализу кумулятивных метрик и их визуализации стало ясно, что в исходных данных присутствуют значимые аномалии, влияющие на итоговые выводы. Помимо аномальных значений, обнаруженных на этапе предобработки данных возможно наличие других неявных выбросов и всплесков. На данном этапе работы мы проведем более подробный анализ имеющихся данных на предмет выбивающихся значений.\n",
    "\n",
    "Начнем с построения точечного графика количества заказов по пользователям:"
   ]
  },
  {
   "cell_type": "markdown",
   "metadata": {},
   "source": [
    "#### Количество заказов по пользователям"
   ]
  },
  {
   "cell_type": "code",
   "execution_count": 26,
   "metadata": {},
   "outputs": [],
   "source": [
    "# сгруппируем данные для подсчёта количества заказов на каждого пользователя\n",
    "\n",
    "ordersByUsers = (\n",
    "    orders.groupby('visitor_id', as_index=False)\n",
    "    .agg({'transaction_id': 'nunique'})\n",
    ")\n",
    "\n",
    "ordersByUsers.columns = ['visitor_id', 'orders']"
   ]
  },
  {
   "cell_type": "code",
   "execution_count": 27,
   "metadata": {},
   "outputs": [
    {
     "data": {
      "text/plain": [
       "count   1,031.00\n",
       "mean        1.16\n",
       "std         0.72\n",
       "min         1.00\n",
       "25%         1.00\n",
       "50%         1.00\n",
       "75%         1.00\n",
       "max        11.00\n",
       "Name: orders, dtype: float64"
      ]
     },
     "execution_count": 27,
     "metadata": {},
     "output_type": "execute_result"
    }
   ],
   "source": [
    "ordersByUsers['orders'].describe()"
   ]
  },
  {
   "cell_type": "code",
   "execution_count": 28,
   "metadata": {},
   "outputs": [
    {
     "data": {
      "image/png": "[encoded data removed]",
      "text/plain": [
       "<Figure size 1440x720 with 1 Axes>"
      ]
     },
     "metadata": {},
     "output_type": "display_data"
    }
   ],
   "source": [
    "# визуализируем результат\n",
    "\n",
    "x_values = pd.Series(range(0,len(ordersByUsers)))\n",
    "\n",
    "plt.figure(figsize=(20,10))\n",
    "plt.grid()\n",
    "plt.scatter(x_values, ordersByUsers['orders'])\n",
    "plt.title('Количество заказов по пользователям', size = 24)\n",
    "plt.xlabel('Пользователь')\n",
    "plt.ylabel('Количество заказов')\n",
    "\n",
    "plt.show()"
   ]
  },
  {
   "cell_type": "markdown",
   "metadata": {},
   "source": [
    "- Исходя из данных графика, абсолютное большинство пользователей сделало 1-2 заказа из интернет-магазина.\n",
    "\n",
    "Посмотрим на данные о количестве заказов в разрезе 95 и 99 перцентилей:"
   ]
  },
  {
   "cell_type": "code",
   "execution_count": 29,
   "metadata": {},
   "outputs": [
    {
     "name": "stdout",
     "output_type": "stream",
     "text": [
      "[2. 4.]\n"
     ]
    }
   ],
   "source": [
    "print(np.percentile(ordersByUsers['orders'], [95, 99])) "
   ]
  },
  {
   "cell_type": "markdown",
   "metadata": {},
   "source": [
    "- 95% пользователей интернет-магазина сделало два и менее заказа, а 99% пользователей - четыре и менее заказов.\n",
    "\n",
    "Исходя из показателей, менее 1% пользователей делают 5 и более заказов в интернет-магазине. Вполне разумно взять 4 заказа для пользователя как максимальную планку и считать выходящих за данную отметку пользователей за аномальные значения."
   ]
  },
  {
   "cell_type": "markdown",
   "metadata": {},
   "source": [
    "#### Стоимость заказа пользователя"
   ]
  },
  {
   "cell_type": "markdown",
   "metadata": {},
   "source": [
    "Далее визуализируем стоимости заказов пользователей через точечный график:"
   ]
  },
  {
   "cell_type": "code",
   "execution_count": 30,
   "metadata": {},
   "outputs": [
    {
     "name": "stdout",
     "output_type": "stream",
     "text": [
      "      transaction_id  visitor_id       date  revenue group\n",
      "425        590470918  1920142716 2019-08-19  1294500     B\n",
      "1196      3936777065  2108080724 2019-08-15   202740     B\n",
      "858        192721366  1316129916 2019-08-27    93940     A\n",
      "1136       666610489  1307669133 2019-08-13    92550     A\n",
      "744       3668308183   888512513 2019-08-27    86620     B\n",
      "682       1216533772  4266935830 2019-08-29    78990     B\n",
      "662       1811671147  4266935830 2019-08-29    78990     A\n",
      "743       3603576309  4133034833 2019-08-09    67990     A\n",
      "1103      1348774318  1164614297 2019-08-12    66350     A\n",
      "1099       316924019   148427295 2019-08-12    65710     A\n"
     ]
    }
   ],
   "source": [
    "print(orders.sort_values(by='revenue', ascending=False).head(10))"
   ]
  },
  {
   "cell_type": "code",
   "execution_count": 31,
   "metadata": {
    "scrolled": false
   },
   "outputs": [
    {
     "data": {
      "image/png": "[encoded data removed]",
      "text/plain": [
       "<Figure size 1440x720 with 1 Axes>"
      ]
     },
     "metadata": {},
     "output_type": "display_data"
    }
   ],
   "source": [
    "x_values = pd.Series(range(0, len(orders['revenue'])))\n",
    "plt.figure(figsize=(20,10))\n",
    "plt.grid()\n",
    "plt.scatter(x_values, orders['revenue'])\n",
    "plt.title('График стоимости заказов (все заказы)', size = 24)\n",
    "plt.xlabel('Пользователь')\n",
    "plt.ylabel('Стоимость заказов')\n",
    "\n",
    "plt.show()"
   ]
  },
  {
   "cell_type": "code",
   "execution_count": 32,
   "metadata": {},
   "outputs": [
    {
     "data": {
      "image/png": "[encoded data removed]",
      "text/plain": [
       "<Figure size 1080x576 with 1 Axes>"
      ]
     },
     "metadata": {},
     "output_type": "display_data"
    }
   ],
   "source": [
    "# построим второй график, чтобы подробнее увидеть распределение большинства значений \n",
    "\n",
    "plt.figure(figsize=(15,8))\n",
    "plt.grid()\n",
    "plt.scatter(x_values, orders['revenue'])\n",
    "plt.title('График стоимости заказов (заказы менее 200,000)', size = 24)\n",
    "plt.xlabel('Пользователь')\n",
    "plt.ylabel('Стоимость заказов')\n",
    "plt.ylim(0, 200000)\n",
    "plt.show()"
   ]
  },
  {
   "cell_type": "markdown",
   "metadata": {},
   "source": [
    "- Точечный график стоимости заказов пользователей показывает два явных выброса: на отметках в 1.3 млн. денежных единиц и 200,000 ден.ед. На графике, который не учитывает данные значения, стоимость абсолютного большинства заказов не превышает отметку в 60000 ден.ед.\n",
    "\n",
    "Оценим стоимость заказов пользователей в разрезе 95 и 99 перцентилей:"
   ]
  },
  {
   "cell_type": "code",
   "execution_count": 33,
   "metadata": {},
   "outputs": [
    {
     "name": "stdout",
     "output_type": "stream",
     "text": [
      "[28000.  58233.2]\n"
     ]
    }
   ],
   "source": [
    "print(np.percentile(orders['revenue'], [95, 99])) "
   ]
  },
  {
   "cell_type": "markdown",
   "metadata": {},
   "source": [
    "- Стоимость заказа 95% пользователей не превышает 28000 ден.ед., а для 99% пользователей - 58233.2 ден.ед. \n",
    "\n",
    "Так как всего 1% пользователей сделали заказы со стоимостью более 58 тыс. ден.ед., данное число можно считать за верхнюю планку и считать заказы выше данной стоимости за выбивающиеся аномальные значения."
   ]
  },
  {
   "cell_type": "markdown",
   "metadata": {},
   "source": [
    "### Расчет статистической значимости различий"
   ]
  },
  {
   "cell_type": "markdown",
   "metadata": {},
   "source": [
    "#### Исходные данные без обработки аномальных значений (\"сырые\" данные)"
   ]
  },
  {
   "cell_type": "markdown",
   "metadata": {},
   "source": [
    "Попробуем расчитать статистическую значимость различий показаний среднего чека и среднего количества заказов пользователей для необработанных исходных данных."
   ]
  },
  {
   "cell_type": "code",
   "execution_count": 34,
   "metadata": {
    "scrolled": true
   },
   "outputs": [
    {
     "data": {
      "text/html": [
       "<div>\n",
       "<style scoped>\n",
       "    .dataframe tbody tr th:only-of-type {\n",
       "        vertical-align: middle;\n",
       "    }\n",
       "\n",
       "    .dataframe tbody tr th {\n",
       "        vertical-align: top;\n",
       "    }\n",
       "\n",
       "    .dataframe thead th {\n",
       "        text-align: right;\n",
       "    }\n",
       "</style>\n",
       "<table border=\"1\" class=\"dataframe\">\n",
       "  <thead>\n",
       "    <tr style=\"text-align: right;\">\n",
       "      <th></th>\n",
       "      <th>date</th>\n",
       "      <th>orders_a</th>\n",
       "      <th>revenue_a</th>\n",
       "      <th>orders_b</th>\n",
       "      <th>revenue_b</th>\n",
       "      <th>visitors_a</th>\n",
       "      <th>visitors_b</th>\n",
       "    </tr>\n",
       "  </thead>\n",
       "  <tbody>\n",
       "    <tr>\n",
       "      <th>0</th>\n",
       "      <td>2019-08-01</td>\n",
       "      <td>24</td>\n",
       "      <td>148579</td>\n",
       "      <td>21</td>\n",
       "      <td>101217</td>\n",
       "      <td>719</td>\n",
       "      <td>713</td>\n",
       "    </tr>\n",
       "    <tr>\n",
       "      <th>1</th>\n",
       "      <td>2019-08-02</td>\n",
       "      <td>20</td>\n",
       "      <td>93822</td>\n",
       "      <td>24</td>\n",
       "      <td>165531</td>\n",
       "      <td>619</td>\n",
       "      <td>581</td>\n",
       "    </tr>\n",
       "    <tr>\n",
       "      <th>2</th>\n",
       "      <td>2019-08-03</td>\n",
       "      <td>24</td>\n",
       "      <td>112473</td>\n",
       "      <td>16</td>\n",
       "      <td>114248</td>\n",
       "      <td>507</td>\n",
       "      <td>509</td>\n",
       "    </tr>\n",
       "    <tr>\n",
       "      <th>3</th>\n",
       "      <td>2019-08-04</td>\n",
       "      <td>16</td>\n",
       "      <td>70825</td>\n",
       "      <td>17</td>\n",
       "      <td>108571</td>\n",
       "      <td>717</td>\n",
       "      <td>770</td>\n",
       "    </tr>\n",
       "    <tr>\n",
       "      <th>4</th>\n",
       "      <td>2019-08-05</td>\n",
       "      <td>25</td>\n",
       "      <td>124218</td>\n",
       "      <td>23</td>\n",
       "      <td>92428</td>\n",
       "      <td>756</td>\n",
       "      <td>707</td>\n",
       "    </tr>\n",
       "  </tbody>\n",
       "</table>\n",
       "</div>"
      ],
      "text/plain": [
       "        date  orders_a  revenue_a  orders_b  revenue_b  visitors_a  visitors_b\n",
       "0 2019-08-01        24     148579        21     101217         719         713\n",
       "1 2019-08-02        20      93822        24     165531         619         581\n",
       "2 2019-08-03        24     112473        16     114248         507         509\n",
       "3 2019-08-04        16      70825        17     108571         717         770\n",
       "4 2019-08-05        25     124218        23      92428         756         707"
      ]
     },
     "execution_count": 34,
     "metadata": {},
     "output_type": "execute_result"
    }
   ],
   "source": [
    "# собираем данные о посещениях группы А\n",
    "\n",
    "visitors_a = visitors[visitors['group'] == 'A'][['date', 'visitors']]\n",
    "visitors_a.columns = ['date', 'visitors_a']\n",
    "\n",
    "# собираем данные о посещениях группы B\n",
    "\n",
    "visitors_b = visitors[visitors['group'] == 'B'][['date', 'visitors']]\n",
    "visitors_b.columns = ['date', 'visitors_b']\n",
    "\n",
    "# собираем данные о количестве заказов группы A\n",
    "\n",
    "orders_a = (\n",
    "    orders[orders['group'] == 'A'][['date', 'transaction_id', 'visitor_id', 'revenue']]\n",
    "    .groupby('date', as_index=False)\n",
    "    .agg({'transaction_id': pd.Series.nunique, 'revenue': 'sum'})\n",
    ")\n",
    "orders_a.columns = ['date', 'orders_a', 'revenue_a']\n",
    "\n",
    "# собираем данные о количестве заказов группы B\n",
    "\n",
    "orders_b = (\n",
    "    orders[orders['group'] == 'B'][['date', 'transaction_id', 'visitor_id', 'revenue']]\n",
    "    .groupby('date', as_index=False)\n",
    "    .agg({'transaction_id': pd.Series.nunique, 'revenue': 'sum'})\n",
    ")\n",
    "orders_b.columns = ['date', 'orders_b', 'revenue_b']\n",
    "\n",
    "# объединяем всё в общую таблицу\n",
    "\n",
    "data = (\n",
    "    orders_a.merge(\n",
    "        orders_b, left_on='date', right_on='date', how='left'\n",
    "    )\n",
    "    .merge(visitors_a, left_on='date', right_on='date', how='left')\n",
    "    .merge(visitors_b, left_on='date', right_on='date', how='left')\n",
    ")\n",
    "\n",
    "data.head(5)"
   ]
  },
  {
   "cell_type": "markdown",
   "metadata": {},
   "source": [
    "Мы составили таблицу `data`, где на каждую дату отображены основные показатели.\n",
    "\n",
    "Далее мы проведем сравнение показателей среднего количества заказов:"
   ]
  },
  {
   "cell_type": "code",
   "execution_count": 35,
   "metadata": {},
   "outputs": [],
   "source": [
    "# сгруппируем данные по пользователям\n",
    "\n",
    "orders_a = (\n",
    "    orders[orders['group'] == 'A']\n",
    "    .groupby('visitor_id', as_index=False)\n",
    "    .agg({'transaction_id': pd.Series.nunique})\n",
    ")\n",
    "orders_a.columns = ['visitor_id', 'orders']\n",
    "\n",
    "orders_b = (\n",
    "    orders[orders['group'] == 'B']\n",
    "    .groupby('visitor_id', as_index=False)\n",
    "    .agg({'transaction_id': pd.Series.nunique})\n",
    ")\n",
    "orders_b.columns = ['visitor_id', 'orders']\n",
    "\n",
    "# формируем выборки по каждой группе\n",
    "\n",
    "sample_a = pd.concat(\n",
    "    [\n",
    "        orders_a['orders'],\n",
    "        pd.Series(\n",
    "            0,\n",
    "            index=np.arange(\n",
    "                data['visitors_a'].sum() - len(orders_a['orders'])\n",
    "            ),\n",
    "            name='orders',\n",
    "        ),\n",
    "    ],\n",
    "    axis=0,\n",
    ")\n",
    "\n",
    "sample_b = pd.concat(\n",
    "    [\n",
    "        orders_b['orders'],\n",
    "        pd.Series(\n",
    "            0,\n",
    "            index=np.arange(\n",
    "                data['visitors_b'].sum() - len(orders_b['orders'])\n",
    "            ),\n",
    "            name='orders',\n",
    "        ),\n",
    "    ],\n",
    "    axis=0,\n",
    ")"
   ]
  },
  {
   "cell_type": "markdown",
   "metadata": {},
   "source": [
    "Проверим гипотезу о равенстве средних значений количества заказов на посетителей двух групп. Так как данные потенциально содержат выбросы, используем непараметрический тест Уилкоксона-Манна-Уитни.\n",
    "\n",
    "Гипотезы для проведения теста сформулированы следующим образом:\n",
    "\n",
    "- **H0** - Средние значения количества заказов на посетителя групп А и В не имеют статистически значимых отличий\n",
    "\n",
    "\n",
    "- **H1** - Средние значения количества заказов на посетителей двух групп имеют статистически значимые отличия"
   ]
  },
  {
   "cell_type": "code",
   "execution_count": 36,
   "metadata": {},
   "outputs": [
    {
     "name": "stdout",
     "output_type": "stream",
     "text": [
      "p-value:  0.017\n",
      "Отвергаем нулевую гипотезу: разница статистически значима\n",
      "\n",
      "Относительное различие средних значений выборок: 13.81%\n"
     ]
    }
   ],
   "source": [
    "alpha = 0.05 \n",
    "\n",
    "results = st.mannwhitneyu(sample_a, sample_b)\n",
    "difference = \"{0:.2f}\".format((sample_b.mean() / sample_a.mean() - 1)*100)\n",
    "\n",
    "print('p-value: ', \"{0:.3f}\".format(results.pvalue))\n",
    "\n",
    "if results.pvalue < alpha:\n",
    "    print('Отвергаем нулевую гипотезу: разница статистически значима')\n",
    "else:\n",
    "    print(\n",
    "        'Не получилось отвергнуть нулевую гипотезу, вывод о различии сделать нельзя'\n",
    "    ) \n",
    "    \n",
    "print()    \n",
    "print(f'Относительное различие средних значений выборок: {difference}%')   "
   ]
  },
  {
   "cell_type": "markdown",
   "metadata": {},
   "source": [
    "- P-value не достигает уровня статистической значимости, из-за чего можно отвергнуть нулевую гипотезу об отсутствии статистически значимых отличий между средними значениям - при этом относительное различие средних значений выборок составляет более 13% в пользу группы В."
   ]
  },
  {
   "cell_type": "markdown",
   "metadata": {},
   "source": [
    "Далее мы проверим гипотезу о равенстве средних чеков двух групп. Также как и в предыдущем тесте, данные потенциально содержат выбросы, поэтому тоже используем непараметрический тест Уилкоксона-Манна-Уитни.\n",
    "\n",
    "Гипотезы для проведения теста сформулированы следующим образом:\n",
    "\n",
    "- **H0** - Средние значения чеков групп А и В не имеют статистически значимых отличий\n",
    "\n",
    "\n",
    "- **H1** - Средние значения чеков двух групп имеют статистически значимые отличия"
   ]
  },
  {
   "cell_type": "code",
   "execution_count": 37,
   "metadata": {},
   "outputs": [
    {
     "name": "stdout",
     "output_type": "stream",
     "text": [
      "p-value:  0.729\n",
      "Не получилось отвергнуть нулевую гипотезу, вывод о различии сделать нельзя\n",
      "\n",
      "Относительное различие средних значений выборок: 25.87%\n"
     ]
    }
   ],
   "source": [
    "alpha = 0.05 \n",
    "\n",
    "results = st.mannwhitneyu(orders[orders['group']=='A']['revenue'],\n",
    "                          orders[orders['group']=='B']['revenue'])\n",
    "difference = (\n",
    "    '{0:.2f}'.format((orders[orders['group']=='B']['revenue'].mean()/\n",
    "                               orders[orders['group']=='A']['revenue'].mean()-1)*100)\n",
    ")\n",
    "\n",
    "print('p-value: ', \"{0:.3f}\".format(results.pvalue))\n",
    "\n",
    "if results.pvalue < alpha:\n",
    "    print('Отвергаем нулевую гипотезу: разница статистически значима')\n",
    "else:\n",
    "    print(\n",
    "        'Не получилось отвергнуть нулевую гипотезу, вывод о различии сделать нельзя'\n",
    "    ) \n",
    "    \n",
    "print()    \n",
    "print(f'Относительное различие средних значений выборок: {difference}%')    "
   ]
  },
  {
   "cell_type": "markdown",
   "metadata": {},
   "source": [
    "- Несмотря на значительное относительное различие значений выборок, высокий p-value говорит о том, что нельзя сделать вывод о статистически значимом различии значений в генеральной совокупности. Скорее всего это может быть обусловлено наличием выбросов в данных."
   ]
  },
  {
   "cell_type": "markdown",
   "metadata": {},
   "source": [
    "#### Данные с обрезанными аномальными значениями (\"отфильтрованные\" данные)"
   ]
  },
  {
   "cell_type": "markdown",
   "metadata": {},
   "source": [
    "Посчитаем статистическую значимость различий в конверсии между группами по «очищенным» данным.\n",
    "\n",
    "Найденные в рамках анализа выбросов и всплесков 95-й и 99-й перцентили средних чеков равны 28000 и 58233.2. А 95-й и 99-й перцентили количества заказов на одного пользователя равны 2 и 4 заказа на пользователя.\n",
    "\n",
    "Примем за аномальных пользователей тех, кто совершил от 5 заказов или совершил заказ дороже 58233.2 ден.ед. Так мы уберём 1% пользователей с наибольшим числом заказов и 1% пользователей с дорогими заказами."
   ]
  },
  {
   "cell_type": "code",
   "execution_count": 38,
   "metadata": {},
   "outputs": [],
   "source": [
    "# зададим порог аномальных значений\n",
    "\n",
    "orders_99 = int(np.percentile(ordersByUsers['orders'], [99]))\n",
    "revenue_99 = int(np.percentile(orders['revenue'], [99]))\n",
    "\n",
    "# сгруппируем аномальных пользователей\n",
    "\n",
    "orders_x = pd.concat(\n",
    "    [\n",
    "        orders_a[orders_a['orders'] > orders_99]['visitor_id'],\n",
    "        orders_b[orders_b['orders'] > orders_99]['visitor_id'],\n",
    "    ],\n",
    "    axis=0,\n",
    ")\n",
    "revenue_x = orders[orders['revenue'] > revenue_99]['visitor_id']\n",
    "\n",
    "abnormal_visitors = (\n",
    "    pd.concat([orders_x, revenue_x], axis=0)\n",
    "    .drop_duplicates()\n",
    "    .sort_values()\n",
    ")"
   ]
  },
  {
   "cell_type": "code",
   "execution_count": 39,
   "metadata": {},
   "outputs": [],
   "source": [
    "# формируем отфильтрованные выборки\n",
    "\n",
    "sample_a_filtered = pd.concat(\n",
    "    [\n",
    "        orders_a[\n",
    "            np.logical_not(orders_a['visitor_id'].isin(abnormal_visitors))\n",
    "        ]['orders'],\n",
    "        pd.Series(\n",
    "            0,\n",
    "            index=np.arange(\n",
    "                data['visitors_a'].sum() - len(orders_a['orders'])\n",
    "            ),\n",
    "            name='orders',\n",
    "        ),\n",
    "    ],\n",
    "    axis=0,\n",
    ")\n",
    "\n",
    "sample_b_filtered = pd.concat(\n",
    "    [\n",
    "        orders_b[\n",
    "            np.logical_not(orders_b['visitor_id'].isin(abnormal_visitors))\n",
    "        ]['orders'],\n",
    "        pd.Series(\n",
    "            0,\n",
    "            index=np.arange(\n",
    "                data['visitors_b'].sum() - len(orders_b['orders'])\n",
    "            ),\n",
    "            name='orders',\n",
    "        ),\n",
    "    ],\n",
    "    axis=0,\n",
    ")"
   ]
  },
  {
   "cell_type": "code",
   "execution_count": 40,
   "metadata": {},
   "outputs": [
    {
     "name": "stdout",
     "output_type": "stream",
     "text": [
      "p-value:  0.014\n",
      "Отвергаем нулевую гипотезу: разница статистически значима\n",
      "\n",
      "Относительное различие средних значений выборок: 15.33%\n"
     ]
    }
   ],
   "source": [
    "# повторяем проверку гипотезы о равенстве конверсии\n",
    "\n",
    "alpha = 0.05 \n",
    "\n",
    "results = st.mannwhitneyu(sample_a_filtered, sample_b_filtered)\n",
    "difference = \"{0:.2f}\".format((sample_b_filtered.mean() / sample_a_filtered.mean() - 1)*100)\n",
    "\n",
    "print('p-value: ', \"{0:.3f}\".format(results.pvalue))\n",
    "\n",
    "if results.pvalue < alpha:\n",
    "    print('Отвергаем нулевую гипотезу: разница статистически значима')\n",
    "else:\n",
    "    print(\n",
    "        'Не получилось отвергнуть нулевую гипотезу, вывод о различии сделать нельзя'\n",
    "    ) \n",
    "    \n",
    "print()    \n",
    "print(f'Относительное различие средних значений выборок: {difference}%')   "
   ]
  },
  {
   "cell_type": "markdown",
   "metadata": {},
   "source": [
    "- Результат в целом остался таким же - p-value так и не достигает статистической значимости, а прирост средней конверсии посетителя в заказ на сайте интернет-магазина в группе B теперь ещё больше. \n",
    "\n",
    "Посмотрим на различие средних чеков \"отфильтрованных\" данных:"
   ]
  },
  {
   "cell_type": "code",
   "execution_count": 41,
   "metadata": {},
   "outputs": [
    {
     "name": "stdout",
     "output_type": "stream",
     "text": [
      "p-value:  0.851\n",
      "Не получилось отвергнуть нулевую гипотезу, вывод о различии сделать нельзя\n",
      "\n",
      "Относительное различие средних значений выборок: -0.006\n"
     ]
    }
   ],
   "source": [
    "# повторяем проверку гипотезы о равенстве средних чеков\n",
    "\n",
    "alpha = 0.05 \n",
    "\n",
    "results = (\n",
    "    st.mannwhitneyu(\n",
    "            orders[\n",
    "                np.logical_and(\n",
    "                    orders['group'] == 'A',\n",
    "                    np.logical_not(orders['visitor_id'].isin(abnormal_visitors)),\n",
    "                )\n",
    "            ]['revenue'],\n",
    "            orders[\n",
    "                np.logical_and(\n",
    "                    orders['group'] == 'B',\n",
    "                    np.logical_not(orders['visitor_id'].isin(abnormal_visitors)),\n",
    "                )\n",
    "            ]['revenue'],\n",
    "        )\n",
    "    )\n",
    "\n",
    "\n",
    "difference = (\n",
    "    \"{0:.3f}\".format(\n",
    "        orders[\n",
    "            np.logical_and(\n",
    "                orders['group'] == 'B',\n",
    "                np.logical_not(orders['visitor_id'].isin(abnormal_visitors)),\n",
    "            )\n",
    "        ]['revenue'].mean()\n",
    "        / orders[\n",
    "            np.logical_and(\n",
    "                orders['group'] == 'A',\n",
    "                np.logical_not(orders['visitor_id'].isin(abnormal_visitors)),\n",
    "            )\n",
    "        ]['revenue'].mean()\n",
    "        - 1\n",
    "    )\n",
    ")\n",
    "\n",
    "print('p-value: ', \"{0:.3f}\".format(results.pvalue))\n",
    "\n",
    "if results.pvalue < alpha:\n",
    "    print('Отвергаем нулевую гипотезу: разница статистически значима')\n",
    "else:\n",
    "    print(\n",
    "        'Не получилось отвергнуть нулевую гипотезу, вывод о различии сделать нельзя'\n",
    "    ) \n",
    "    \n",
    "print()    \n",
    "print(f'Относительное различие средних значений выборок: {difference}')    "
   ]
  },
  {
   "cell_type": "markdown",
   "metadata": {},
   "source": [
    "- Проверка на срезе данных без выбросов теперь показывает соразмерный уровень относительной разницы значений, p-value вырос ещё сильнее, давая меньше поводов для предположительных различиях в данных."
   ]
  },
  {
   "cell_type": "markdown",
   "metadata": {},
   "source": [
    "<a name=\"3\"> </a>\n",
    "### Выводы из анализа результатов А/В-тестирования"
   ]
  },
  {
   "cell_type": "markdown",
   "metadata": {},
   "source": [
    "[*Вернуться в оглавление*](#0)"
   ]
  },
  {
   "cell_type": "markdown",
   "metadata": {},
   "source": [
    "**Выводы:**\n",
    "\n",
    "- Среднее отношение количества заказов на посетителя сайта двух групп имеет статистически значимую разницу, вне зависимости от наличия выбросов в данных. Графики кумулятивных метрик и относительная разница средних значений выборок указывают на существенный успех группы B.\n",
    "\n",
    "- Средние чеки групп не имееют статистически значимой разницы, вне зависимости от наличия выбросов в данных.\n",
    "\n",
    "**Этих выводов достаточно для завершения теста и фиксирования победы группы B.**"
   ]
  },
  {
   "cell_type": "markdown",
   "metadata": {},
   "source": [
    "**Рекомендации:**\n",
    "\n",
    "- Пользователи группы В обошли контрольную группу А по показателям количества покупателей, количества посетителей и общей выручке под конец периода наблюдения. Даже если вычесть из итоговых данных аномальные значения, кумулятивная выручка группы В оказалась выше показателя группы А. Внедрение нововведений, испытанных на группе В, в дальнейшую работу компании положительно скажется на показателе выручки компании в целом."
   ]
  }
 ],
 "metadata": {
  "ExecuteTimeLog": [
   {
    "duration": 1275,
    "start_time": "2023-01-31T13:29:02.839Z"
   },
   {
    "duration": 107,
    "start_time": "2023-01-31T13:29:35.766Z"
   },
   {
    "duration": 86,
    "start_time": "2023-01-31T13:31:09.304Z"
   },
   {
    "duration": 15,
    "start_time": "2023-01-31T14:02:52.656Z"
   },
   {
    "duration": 4,
    "start_time": "2023-01-31T14:06:47.419Z"
   },
   {
    "duration": 5,
    "start_time": "2023-01-31T14:07:04.214Z"
   },
   {
    "duration": 6,
    "start_time": "2023-01-31T14:07:08.298Z"
   },
   {
    "duration": 17,
    "start_time": "2023-01-31T14:08:35.530Z"
   },
   {
    "duration": 11,
    "start_time": "2023-01-31T14:13:07.860Z"
   },
   {
    "duration": 11,
    "start_time": "2023-01-31T14:17:00.841Z"
   },
   {
    "duration": 304,
    "start_time": "2023-01-31T14:18:04.540Z"
   },
   {
    "duration": 18,
    "start_time": "2023-01-31T14:31:32.024Z"
   },
   {
    "duration": 11,
    "start_time": "2023-01-31T14:31:38.435Z"
   },
   {
    "duration": 1055,
    "start_time": "2023-01-31T14:31:52.310Z"
   },
   {
    "duration": 32,
    "start_time": "2023-01-31T14:31:53.367Z"
   },
   {
    "duration": 11,
    "start_time": "2023-01-31T14:31:53.401Z"
   },
   {
    "duration": 16,
    "start_time": "2023-01-31T14:31:53.414Z"
   },
   {
    "duration": 14,
    "start_time": "2023-01-31T14:31:53.432Z"
   },
   {
    "duration": 26,
    "start_time": "2023-01-31T14:31:53.448Z"
   },
   {
    "duration": 288,
    "start_time": "2023-01-31T14:31:53.475Z"
   },
   {
    "duration": 11,
    "start_time": "2023-01-31T14:31:55.164Z"
   },
   {
    "duration": 266,
    "start_time": "2023-01-31T14:32:47.414Z"
   },
   {
    "duration": 49,
    "start_time": "2023-02-02T14:49:19.047Z"
   },
   {
    "duration": 1317,
    "start_time": "2023-02-02T14:49:35.443Z"
   },
   {
    "duration": 73,
    "start_time": "2023-02-02T14:49:36.762Z"
   },
   {
    "duration": 14,
    "start_time": "2023-02-02T14:49:36.837Z"
   },
   {
    "duration": 30,
    "start_time": "2023-02-02T14:49:36.853Z"
   },
   {
    "duration": 35,
    "start_time": "2023-02-02T14:49:36.885Z"
   },
   {
    "duration": 53,
    "start_time": "2023-02-02T14:49:36.923Z"
   },
   {
    "duration": 306,
    "start_time": "2023-02-02T14:49:36.978Z"
   },
   {
    "duration": 25,
    "start_time": "2023-02-02T14:49:37.285Z"
   },
   {
    "duration": 272,
    "start_time": "2023-02-02T14:49:37.311Z"
   },
   {
    "duration": 100,
    "start_time": "2023-02-02T14:49:38.258Z"
   },
   {
    "duration": 47,
    "start_time": "2023-02-02T14:49:47.990Z"
   },
   {
    "duration": 54,
    "start_time": "2023-02-02T14:50:08.367Z"
   },
   {
    "duration": 1386,
    "start_time": "2023-02-02T15:46:00.943Z"
   },
   {
    "duration": 85,
    "start_time": "2023-02-02T15:46:02.331Z"
   },
   {
    "duration": 16,
    "start_time": "2023-02-02T15:46:02.418Z"
   },
   {
    "duration": 16,
    "start_time": "2023-02-02T15:46:02.436Z"
   },
   {
    "duration": 29,
    "start_time": "2023-02-02T15:46:02.455Z"
   },
   {
    "duration": 18,
    "start_time": "2023-02-02T15:46:02.486Z"
   },
   {
    "duration": 415,
    "start_time": "2023-02-02T15:46:02.506Z"
   },
   {
    "duration": 16,
    "start_time": "2023-02-02T15:46:02.923Z"
   },
   {
    "duration": 369,
    "start_time": "2023-02-02T15:46:02.941Z"
   },
   {
    "duration": 6,
    "start_time": "2023-02-02T15:46:03.311Z"
   },
   {
    "duration": 162,
    "start_time": "2023-02-02T15:46:19.240Z"
   },
   {
    "duration": 132,
    "start_time": "2023-02-02T15:47:11.240Z"
   },
   {
    "duration": 49,
    "start_time": "2023-02-02T15:57:23.796Z"
   },
   {
    "duration": 93,
    "start_time": "2023-02-02T16:02:19.169Z"
   },
   {
    "duration": 54,
    "start_time": "2023-02-02T16:44:53.535Z"
   },
   {
    "duration": 1454,
    "start_time": "2023-02-02T16:44:58.519Z"
   },
   {
    "duration": 98,
    "start_time": "2023-02-02T16:44:59.975Z"
   },
   {
    "duration": 14,
    "start_time": "2023-02-02T16:45:00.074Z"
   },
   {
    "duration": 27,
    "start_time": "2023-02-02T16:45:00.090Z"
   },
   {
    "duration": 54,
    "start_time": "2023-02-02T16:45:00.120Z"
   },
   {
    "duration": 44,
    "start_time": "2023-02-02T16:45:00.176Z"
   },
   {
    "duration": 375,
    "start_time": "2023-02-02T16:45:00.222Z"
   },
   {
    "duration": 16,
    "start_time": "2023-02-02T16:45:00.600Z"
   },
   {
    "duration": 320,
    "start_time": "2023-02-02T16:45:00.618Z"
   },
   {
    "duration": 7,
    "start_time": "2023-02-02T16:45:00.940Z"
   },
   {
    "duration": 215,
    "start_time": "2023-02-02T16:45:00.949Z"
   },
   {
    "duration": 105,
    "start_time": "2023-02-02T16:45:01.166Z"
   },
   {
    "duration": 204,
    "start_time": "2023-02-02T16:45:15.228Z"
   },
   {
    "duration": 187,
    "start_time": "2023-02-02T16:45:31.056Z"
   },
   {
    "duration": 204,
    "start_time": "2023-02-02T16:45:41.973Z"
   },
   {
    "duration": 186,
    "start_time": "2023-02-02T16:45:58.141Z"
   },
   {
    "duration": 1121,
    "start_time": "2023-02-02T16:46:13.792Z"
   },
   {
    "duration": 38,
    "start_time": "2023-02-02T16:46:14.915Z"
   },
   {
    "duration": 12,
    "start_time": "2023-02-02T16:46:14.954Z"
   },
   {
    "duration": 13,
    "start_time": "2023-02-02T16:46:14.967Z"
   },
   {
    "duration": 15,
    "start_time": "2023-02-02T16:46:14.983Z"
   },
   {
    "duration": 53,
    "start_time": "2023-02-02T16:46:14.999Z"
   },
   {
    "duration": 419,
    "start_time": "2023-02-02T16:46:15.054Z"
   },
   {
    "duration": 17,
    "start_time": "2023-02-02T16:46:15.475Z"
   },
   {
    "duration": 301,
    "start_time": "2023-02-02T16:46:15.493Z"
   },
   {
    "duration": 4,
    "start_time": "2023-02-02T16:46:15.796Z"
   },
   {
    "duration": 79,
    "start_time": "2023-02-02T16:46:15.802Z"
   },
   {
    "duration": 19,
    "start_time": "2023-02-02T16:46:15.883Z"
   },
   {
    "duration": 147,
    "start_time": "2023-02-02T16:49:24.451Z"
   },
   {
    "duration": 166,
    "start_time": "2023-02-02T16:49:34.859Z"
   },
   {
    "duration": 192,
    "start_time": "2023-02-02T16:51:56.840Z"
   },
   {
    "duration": 159,
    "start_time": "2023-02-02T16:52:23.113Z"
   },
   {
    "duration": 161,
    "start_time": "2023-02-02T16:52:26.933Z"
   },
   {
    "duration": 141,
    "start_time": "2023-02-02T16:52:47.375Z"
   },
   {
    "duration": 242,
    "start_time": "2023-02-02T16:52:59.964Z"
   },
   {
    "duration": 132,
    "start_time": "2023-02-02T16:53:05.393Z"
   },
   {
    "duration": 13,
    "start_time": "2023-02-02T16:53:14.514Z"
   },
   {
    "duration": 12,
    "start_time": "2023-02-02T16:53:19.825Z"
   },
   {
    "duration": 168,
    "start_time": "2023-02-02T16:53:25.824Z"
   },
   {
    "duration": 141,
    "start_time": "2023-02-02T16:53:40.767Z"
   },
   {
    "duration": 148,
    "start_time": "2023-02-02T16:53:48.322Z"
   },
   {
    "duration": 147,
    "start_time": "2023-02-02T16:54:48.300Z"
   },
   {
    "duration": 168,
    "start_time": "2023-02-02T16:55:03.115Z"
   },
   {
    "duration": 163,
    "start_time": "2023-02-02T16:55:39.418Z"
   },
   {
    "duration": 147,
    "start_time": "2023-02-02T16:55:58.224Z"
   },
   {
    "duration": 188,
    "start_time": "2023-02-02T16:56:11.737Z"
   },
   {
    "duration": 133,
    "start_time": "2023-02-02T16:58:22.706Z"
   },
   {
    "duration": 153,
    "start_time": "2023-02-02T16:58:31.605Z"
   },
   {
    "duration": 160,
    "start_time": "2023-02-02T16:58:49.776Z"
   },
   {
    "duration": 164,
    "start_time": "2023-02-02T16:59:09.801Z"
   },
   {
    "duration": 241,
    "start_time": "2023-02-02T16:59:21.098Z"
   },
   {
    "duration": 178,
    "start_time": "2023-02-02T16:59:28.964Z"
   },
   {
    "duration": 161,
    "start_time": "2023-02-02T16:59:57.759Z"
   },
   {
    "duration": 12,
    "start_time": "2023-02-02T17:00:11.616Z"
   },
   {
    "duration": 11,
    "start_time": "2023-02-02T17:00:15.812Z"
   },
   {
    "duration": 153,
    "start_time": "2023-02-02T17:00:18.069Z"
   },
   {
    "duration": 149,
    "start_time": "2023-02-02T17:00:37.724Z"
   },
   {
    "duration": 172,
    "start_time": "2023-02-02T17:01:13.501Z"
   },
   {
    "duration": 154,
    "start_time": "2023-02-02T17:01:17.532Z"
   },
   {
    "duration": 169,
    "start_time": "2023-02-02T17:01:25.323Z"
   },
   {
    "duration": 165,
    "start_time": "2023-02-02T17:01:34.469Z"
   },
   {
    "duration": 176,
    "start_time": "2023-02-02T17:03:05.349Z"
   },
   {
    "duration": 230,
    "start_time": "2023-02-02T17:11:52.829Z"
   },
   {
    "duration": 158,
    "start_time": "2023-02-02T17:12:23.971Z"
   },
   {
    "duration": 153,
    "start_time": "2023-02-02T17:12:32.534Z"
   },
   {
    "duration": 238,
    "start_time": "2023-02-02T17:12:37.727Z"
   },
   {
    "duration": 154,
    "start_time": "2023-02-02T17:12:41.365Z"
   },
   {
    "duration": 155,
    "start_time": "2023-02-02T17:12:49.717Z"
   },
   {
    "duration": 231,
    "start_time": "2023-02-02T17:12:54.088Z"
   },
   {
    "duration": 230,
    "start_time": "2023-02-02T17:12:59.573Z"
   },
   {
    "duration": 158,
    "start_time": "2023-02-02T17:13:02.640Z"
   },
   {
    "duration": 152,
    "start_time": "2023-02-02T17:13:47.474Z"
   },
   {
    "duration": 152,
    "start_time": "2023-02-02T17:13:58.188Z"
   },
   {
    "duration": 157,
    "start_time": "2023-02-02T17:15:14.196Z"
   },
   {
    "duration": 161,
    "start_time": "2023-02-02T17:15:18.628Z"
   },
   {
    "duration": 245,
    "start_time": "2023-02-02T17:16:27.981Z"
   },
   {
    "duration": 220,
    "start_time": "2023-02-02T17:17:58.468Z"
   },
   {
    "duration": 216,
    "start_time": "2023-02-02T17:18:49.058Z"
   },
   {
    "duration": 253,
    "start_time": "2023-02-02T17:18:58.094Z"
   },
   {
    "duration": 196,
    "start_time": "2023-02-02T17:19:04.061Z"
   },
   {
    "duration": 220,
    "start_time": "2023-02-02T17:20:27.793Z"
   },
   {
    "duration": 214,
    "start_time": "2023-02-02T17:20:34.343Z"
   },
   {
    "duration": 55,
    "start_time": "2023-02-02T17:23:57.669Z"
   },
   {
    "duration": 207,
    "start_time": "2023-02-02T17:24:15.845Z"
   },
   {
    "duration": 209,
    "start_time": "2023-02-02T17:24:34.229Z"
   },
   {
    "duration": 164,
    "start_time": "2023-02-02T17:25:16.055Z"
   },
   {
    "duration": 209,
    "start_time": "2023-02-02T17:25:25.436Z"
   },
   {
    "duration": 211,
    "start_time": "2023-02-02T17:25:57.782Z"
   },
   {
    "duration": 273,
    "start_time": "2023-02-02T17:26:23.944Z"
   },
   {
    "duration": 161,
    "start_time": "2023-02-02T17:29:20.193Z"
   },
   {
    "duration": 158,
    "start_time": "2023-02-02T17:29:30.424Z"
   },
   {
    "duration": 161,
    "start_time": "2023-02-02T17:31:03.915Z"
   },
   {
    "duration": 238,
    "start_time": "2023-02-02T17:31:10.491Z"
   },
   {
    "duration": 160,
    "start_time": "2023-02-02T17:32:13.056Z"
   },
   {
    "duration": 160,
    "start_time": "2023-02-02T17:33:22.797Z"
   },
   {
    "duration": 151,
    "start_time": "2023-02-02T17:33:40.758Z"
   },
   {
    "duration": 149,
    "start_time": "2023-02-02T17:33:47.599Z"
   },
   {
    "duration": 156,
    "start_time": "2023-02-02T17:33:51.668Z"
   },
   {
    "duration": 152,
    "start_time": "2023-02-02T17:33:55.701Z"
   },
   {
    "duration": 150,
    "start_time": "2023-02-02T17:34:02.655Z"
   },
   {
    "duration": 101,
    "start_time": "2023-02-02T19:49:32.359Z"
   },
   {
    "duration": 9,
    "start_time": "2023-02-02T19:53:29.746Z"
   },
   {
    "duration": 191,
    "start_time": "2023-02-02T19:53:36.281Z"
   },
   {
    "duration": 1152,
    "start_time": "2023-02-02T19:53:52.499Z"
   },
   {
    "duration": 34,
    "start_time": "2023-02-02T19:53:53.653Z"
   },
   {
    "duration": 11,
    "start_time": "2023-02-02T19:53:53.688Z"
   },
   {
    "duration": 6,
    "start_time": "2023-02-02T19:53:53.701Z"
   },
   {
    "duration": 12,
    "start_time": "2023-02-02T19:53:53.709Z"
   },
   {
    "duration": 13,
    "start_time": "2023-02-02T19:53:53.723Z"
   },
   {
    "duration": 339,
    "start_time": "2023-02-02T19:53:53.738Z"
   },
   {
    "duration": 12,
    "start_time": "2023-02-02T19:53:54.079Z"
   },
   {
    "duration": 274,
    "start_time": "2023-02-02T19:53:54.093Z"
   },
   {
    "duration": 4,
    "start_time": "2023-02-02T19:53:54.369Z"
   },
   {
    "duration": 70,
    "start_time": "2023-02-02T19:53:54.375Z"
   },
   {
    "duration": 19,
    "start_time": "2023-02-02T19:53:54.447Z"
   },
   {
    "duration": 4,
    "start_time": "2023-02-02T19:54:43.612Z"
   },
   {
    "duration": 13,
    "start_time": "2023-02-02T19:56:57.674Z"
   },
   {
    "duration": 10,
    "start_time": "2023-02-02T19:57:29.572Z"
   },
   {
    "duration": 12,
    "start_time": "2023-02-02T19:57:58.208Z"
   },
   {
    "duration": 13,
    "start_time": "2023-02-02T19:59:02.508Z"
   },
   {
    "duration": 13,
    "start_time": "2023-02-02T19:59:20.629Z"
   },
   {
    "duration": 11,
    "start_time": "2023-02-02T19:59:31.313Z"
   },
   {
    "duration": 97,
    "start_time": "2023-02-02T20:05:40.472Z"
   },
   {
    "duration": 12,
    "start_time": "2023-02-02T20:06:28.595Z"
   },
   {
    "duration": 9,
    "start_time": "2023-02-02T20:06:59.158Z"
   },
   {
    "duration": 4,
    "start_time": "2023-02-02T20:07:25.787Z"
   },
   {
    "duration": 4,
    "start_time": "2023-02-02T20:07:43.270Z"
   },
   {
    "duration": 14,
    "start_time": "2023-02-02T20:13:43.667Z"
   },
   {
    "duration": 4,
    "start_time": "2023-02-02T20:14:09.127Z"
   },
   {
    "duration": 6,
    "start_time": "2023-02-02T20:14:36.924Z"
   },
   {
    "duration": 12,
    "start_time": "2023-02-02T20:18:20.519Z"
   },
   {
    "duration": 49,
    "start_time": "2023-02-02T20:23:21.727Z"
   },
   {
    "duration": 12,
    "start_time": "2023-02-02T20:28:29.874Z"
   },
   {
    "duration": 1199,
    "start_time": "2023-02-02T23:59:11.373Z"
   },
   {
    "duration": 91,
    "start_time": "2023-02-02T23:59:12.574Z"
   },
   {
    "duration": 11,
    "start_time": "2023-02-02T23:59:12.666Z"
   },
   {
    "duration": 8,
    "start_time": "2023-02-02T23:59:12.679Z"
   },
   {
    "duration": 13,
    "start_time": "2023-02-02T23:59:12.690Z"
   },
   {
    "duration": 15,
    "start_time": "2023-02-02T23:59:12.705Z"
   },
   {
    "duration": 314,
    "start_time": "2023-02-02T23:59:12.722Z"
   },
   {
    "duration": 14,
    "start_time": "2023-02-02T23:59:13.038Z"
   },
   {
    "duration": 256,
    "start_time": "2023-02-02T23:59:13.053Z"
   },
   {
    "duration": 5,
    "start_time": "2023-02-02T23:59:13.310Z"
   },
   {
    "duration": 128,
    "start_time": "2023-02-02T23:59:13.317Z"
   },
   {
    "duration": 25,
    "start_time": "2023-02-02T23:59:13.447Z"
   },
   {
    "duration": 14,
    "start_time": "2023-02-02T23:59:13.474Z"
   },
   {
    "duration": 8,
    "start_time": "2023-02-02T23:59:13.491Z"
   },
   {
    "duration": 29,
    "start_time": "2023-02-02T23:59:13.500Z"
   },
   {
    "duration": 200,
    "start_time": "2023-02-02T23:59:13.531Z"
   },
   {
    "duration": 9,
    "start_time": "2023-02-03T00:00:09.809Z"
   },
   {
    "duration": 9,
    "start_time": "2023-02-03T00:00:14.337Z"
   },
   {
    "duration": 8,
    "start_time": "2023-02-03T00:00:16.584Z"
   },
   {
    "duration": 9,
    "start_time": "2023-02-03T00:00:19.718Z"
   },
   {
    "duration": 9,
    "start_time": "2023-02-03T00:00:21.710Z"
   },
   {
    "duration": 8,
    "start_time": "2023-02-03T00:00:23.794Z"
   },
   {
    "duration": 9,
    "start_time": "2023-02-03T00:00:27.713Z"
   },
   {
    "duration": 8,
    "start_time": "2023-02-03T00:00:35.048Z"
   },
   {
    "duration": 8,
    "start_time": "2023-02-03T00:00:38.940Z"
   },
   {
    "duration": 8,
    "start_time": "2023-02-03T00:00:41.983Z"
   },
   {
    "duration": 9,
    "start_time": "2023-02-03T00:00:45.671Z"
   },
   {
    "duration": 9,
    "start_time": "2023-02-03T00:00:47.399Z"
   },
   {
    "duration": 10,
    "start_time": "2023-02-03T00:01:13.593Z"
   },
   {
    "duration": 9,
    "start_time": "2023-02-03T00:01:21.826Z"
   },
   {
    "duration": 9,
    "start_time": "2023-02-03T00:01:33.974Z"
   },
   {
    "duration": 9,
    "start_time": "2023-02-03T00:01:38.851Z"
   },
   {
    "duration": 14,
    "start_time": "2023-02-03T00:02:09.894Z"
   },
   {
    "duration": 14,
    "start_time": "2023-02-03T00:02:12.889Z"
   },
   {
    "duration": 13,
    "start_time": "2023-02-03T00:02:17.798Z"
   },
   {
    "duration": 15,
    "start_time": "2023-02-03T00:02:21.355Z"
   },
   {
    "duration": 13,
    "start_time": "2023-02-03T00:02:31.065Z"
   },
   {
    "duration": 10,
    "start_time": "2023-02-03T00:02:36.637Z"
   },
   {
    "duration": 9,
    "start_time": "2023-02-03T00:03:12.473Z"
   },
   {
    "duration": 52,
    "start_time": "2023-02-03T16:43:29.903Z"
   },
   {
    "duration": 1548,
    "start_time": "2023-02-03T16:43:33.551Z"
   },
   {
    "duration": 97,
    "start_time": "2023-02-03T16:43:35.102Z"
   },
   {
    "duration": 13,
    "start_time": "2023-02-03T16:43:35.200Z"
   },
   {
    "duration": 11,
    "start_time": "2023-02-03T16:43:35.215Z"
   },
   {
    "duration": 14,
    "start_time": "2023-02-03T16:43:35.229Z"
   },
   {
    "duration": 19,
    "start_time": "2023-02-03T16:43:35.245Z"
   },
   {
    "duration": 441,
    "start_time": "2023-02-03T16:43:35.267Z"
   },
   {
    "duration": 12,
    "start_time": "2023-02-03T16:43:35.710Z"
   },
   {
    "duration": 285,
    "start_time": "2023-02-03T16:43:35.724Z"
   },
   {
    "duration": 11,
    "start_time": "2023-02-03T16:43:36.011Z"
   },
   {
    "duration": 137,
    "start_time": "2023-02-03T16:43:36.024Z"
   },
   {
    "duration": 19,
    "start_time": "2023-02-03T16:43:36.162Z"
   },
   {
    "duration": 12,
    "start_time": "2023-02-03T16:43:36.183Z"
   },
   {
    "duration": 26,
    "start_time": "2023-02-03T16:43:36.197Z"
   },
   {
    "duration": 9,
    "start_time": "2023-02-03T16:43:36.225Z"
   },
   {
    "duration": 242,
    "start_time": "2023-02-03T16:43:36.235Z"
   },
   {
    "duration": 11,
    "start_time": "2023-02-03T16:43:36.479Z"
   },
   {
    "duration": 130,
    "start_time": "2023-02-03T16:43:36.492Z"
   },
   {
    "duration": 12,
    "start_time": "2023-02-03T16:43:36.624Z"
   },
   {
    "duration": 14,
    "start_time": "2023-02-03T16:43:37.848Z"
   },
   {
    "duration": 45,
    "start_time": "2023-02-03T16:44:47.501Z"
   },
   {
    "duration": 58,
    "start_time": "2023-02-03T16:45:52.326Z"
   },
   {
    "duration": 45,
    "start_time": "2023-02-03T16:45:59.577Z"
   },
   {
    "duration": 47,
    "start_time": "2023-02-03T16:46:17.033Z"
   },
   {
    "duration": 42,
    "start_time": "2023-02-03T16:46:22.005Z"
   },
   {
    "duration": 94,
    "start_time": "2023-02-03T16:46:30.428Z"
   },
   {
    "duration": 28,
    "start_time": "2023-02-03T16:47:44.055Z"
   },
   {
    "duration": 1179,
    "start_time": "2023-02-03T16:48:36.005Z"
   },
   {
    "duration": 36,
    "start_time": "2023-02-03T16:48:37.185Z"
   },
   {
    "duration": 11,
    "start_time": "2023-02-03T16:48:37.222Z"
   },
   {
    "duration": 8,
    "start_time": "2023-02-03T16:48:37.234Z"
   },
   {
    "duration": 14,
    "start_time": "2023-02-03T16:48:37.244Z"
   },
   {
    "duration": 13,
    "start_time": "2023-02-03T16:48:37.260Z"
   },
   {
    "duration": 373,
    "start_time": "2023-02-03T16:48:37.275Z"
   },
   {
    "duration": 17,
    "start_time": "2023-02-03T16:48:37.650Z"
   },
   {
    "duration": 279,
    "start_time": "2023-02-03T16:48:37.669Z"
   },
   {
    "duration": 6,
    "start_time": "2023-02-03T16:48:37.950Z"
   },
   {
    "duration": 89,
    "start_time": "2023-02-03T16:48:37.957Z"
   },
   {
    "duration": 20,
    "start_time": "2023-02-03T16:48:38.048Z"
   },
   {
    "duration": 33,
    "start_time": "2023-02-03T16:48:38.070Z"
   },
   {
    "duration": 35,
    "start_time": "2023-02-03T16:48:38.105Z"
   },
   {
    "duration": 37,
    "start_time": "2023-02-03T16:48:38.142Z"
   },
   {
    "duration": 256,
    "start_time": "2023-02-03T16:48:38.181Z"
   },
   {
    "duration": 10,
    "start_time": "2023-02-03T16:48:38.439Z"
   },
   {
    "duration": 59,
    "start_time": "2023-02-03T16:48:38.451Z"
   },
   {
    "duration": 12,
    "start_time": "2023-02-03T16:48:38.512Z"
   },
   {
    "duration": 123,
    "start_time": "2023-02-03T16:48:41.227Z"
   },
   {
    "duration": 181,
    "start_time": "2023-02-03T16:50:11.603Z"
   },
   {
    "duration": 179,
    "start_time": "2023-02-03T16:50:55.289Z"
   },
   {
    "duration": 333,
    "start_time": "2023-02-03T16:53:14.634Z"
   },
   {
    "duration": 305,
    "start_time": "2023-02-03T16:57:46.300Z"
   },
   {
    "duration": 299,
    "start_time": "2023-02-03T17:06:19.979Z"
   },
   {
    "duration": 288,
    "start_time": "2023-02-03T17:06:25.373Z"
   },
   {
    "duration": 296,
    "start_time": "2023-02-03T17:06:41.304Z"
   },
   {
    "duration": 289,
    "start_time": "2023-02-03T17:06:55.258Z"
   },
   {
    "duration": 426,
    "start_time": "2023-02-03T17:18:13.700Z"
   },
   {
    "duration": 382,
    "start_time": "2023-02-03T17:30:24.433Z"
   },
   {
    "duration": 501,
    "start_time": "2023-02-03T18:05:46.503Z"
   },
   {
    "duration": 345,
    "start_time": "2023-02-03T19:06:41.839Z"
   },
   {
    "duration": 8,
    "start_time": "2023-02-03T19:11:58.002Z"
   },
   {
    "duration": 9,
    "start_time": "2023-02-03T19:12:16.928Z"
   },
   {
    "duration": 12,
    "start_time": "2023-02-03T19:12:56.204Z"
   },
   {
    "duration": 926,
    "start_time": "2023-02-03T19:14:25.165Z"
   },
   {
    "duration": 10,
    "start_time": "2023-02-03T19:16:23.988Z"
   },
   {
    "duration": 349,
    "start_time": "2023-02-03T19:26:30.444Z"
   },
   {
    "duration": 368,
    "start_time": "2023-02-03T19:26:34.795Z"
   },
   {
    "duration": 425,
    "start_time": "2023-02-03T19:26:38.571Z"
   },
   {
    "duration": 340,
    "start_time": "2023-02-03T19:26:45.879Z"
   },
   {
    "duration": 346,
    "start_time": "2023-02-03T19:43:53.429Z"
   },
   {
    "duration": 373,
    "start_time": "2023-02-03T19:44:01.365Z"
   },
   {
    "duration": 393,
    "start_time": "2023-02-03T20:18:40.871Z"
   },
   {
    "duration": 426,
    "start_time": "2023-02-03T20:19:36.988Z"
   },
   {
    "duration": 516,
    "start_time": "2023-02-03T20:21:02.685Z"
   },
   {
    "duration": 1662,
    "start_time": "2023-02-04T18:36:18.787Z"
   },
   {
    "duration": 134,
    "start_time": "2023-02-04T18:36:20.451Z"
   },
   {
    "duration": 28,
    "start_time": "2023-02-04T18:36:20.587Z"
   },
   {
    "duration": 61,
    "start_time": "2023-02-04T18:36:20.618Z"
   },
   {
    "duration": 18,
    "start_time": "2023-02-04T18:36:20.682Z"
   },
   {
    "duration": 74,
    "start_time": "2023-02-04T18:36:20.710Z"
   },
   {
    "duration": 493,
    "start_time": "2023-02-04T18:36:20.786Z"
   },
   {
    "duration": 19,
    "start_time": "2023-02-04T18:36:21.281Z"
   },
   {
    "duration": 455,
    "start_time": "2023-02-04T18:36:21.302Z"
   },
   {
    "duration": 8,
    "start_time": "2023-02-04T18:36:21.758Z"
   },
   {
    "duration": 269,
    "start_time": "2023-02-04T18:36:21.768Z"
   },
   {
    "duration": 33,
    "start_time": "2023-02-04T18:36:22.040Z"
   },
   {
    "duration": 37,
    "start_time": "2023-02-04T18:36:22.077Z"
   },
   {
    "duration": 73,
    "start_time": "2023-02-04T18:36:22.120Z"
   },
   {
    "duration": 97,
    "start_time": "2023-02-04T18:36:22.195Z"
   },
   {
    "duration": 340,
    "start_time": "2023-02-04T18:36:22.294Z"
   },
   {
    "duration": 23,
    "start_time": "2023-02-04T18:36:22.637Z"
   },
   {
    "duration": 296,
    "start_time": "2023-02-04T18:36:22.661Z"
   },
   {
    "duration": 16,
    "start_time": "2023-02-04T18:36:22.965Z"
   },
   {
    "duration": 381,
    "start_time": "2023-02-04T18:36:22.983Z"
   },
   {
    "duration": 714,
    "start_time": "2023-02-04T18:36:23.365Z"
   },
   {
    "duration": 509,
    "start_time": "2023-02-04T18:36:24.082Z"
   },
   {
    "duration": 666,
    "start_time": "2023-02-04T18:36:24.599Z"
   },
   {
    "duration": 478,
    "start_time": "2023-02-04T18:36:25.269Z"
   },
   {
    "duration": 679,
    "start_time": "2023-02-04T18:36:25.752Z"
   },
   {
    "duration": 195,
    "start_time": "2023-02-04T18:36:26.456Z"
   },
   {
    "duration": 0,
    "start_time": "2023-02-04T18:36:26.655Z"
   },
   {
    "duration": 8,
    "start_time": "2023-02-04T18:36:58.782Z"
   },
   {
    "duration": 11,
    "start_time": "2023-02-04T18:37:03.261Z"
   },
   {
    "duration": 299,
    "start_time": "2023-02-04T18:38:13.691Z"
   },
   {
    "duration": 13,
    "start_time": "2023-02-04T18:40:18.821Z"
   },
   {
    "duration": 8,
    "start_time": "2023-02-04T18:40:21.557Z"
   },
   {
    "duration": 283,
    "start_time": "2023-02-04T18:40:24.188Z"
   },
   {
    "duration": 7,
    "start_time": "2023-02-04T18:41:34.151Z"
   },
   {
    "duration": 379,
    "start_time": "2023-02-04T18:51:57.656Z"
   },
   {
    "duration": 10,
    "start_time": "2023-02-04T18:52:23.562Z"
   },
   {
    "duration": 5,
    "start_time": "2023-02-04T18:55:45.834Z"
   },
   {
    "duration": 92,
    "start_time": "2023-02-04T19:23:09.465Z"
   },
   {
    "duration": 11,
    "start_time": "2023-02-04T19:23:18.949Z"
   },
   {
    "duration": 68,
    "start_time": "2023-02-04T19:24:08.359Z"
   },
   {
    "duration": 7,
    "start_time": "2023-02-04T19:24:11.276Z"
   },
   {
    "duration": 18,
    "start_time": "2023-02-04T19:25:16.861Z"
   },
   {
    "duration": 64,
    "start_time": "2023-02-04T19:25:47.448Z"
   },
   {
    "duration": 7,
    "start_time": "2023-02-04T19:25:56.163Z"
   },
   {
    "duration": 9,
    "start_time": "2023-02-04T19:26:32.762Z"
   },
   {
    "duration": 90,
    "start_time": "2023-02-04T19:26:34.371Z"
   },
   {
    "duration": 9,
    "start_time": "2023-02-04T19:26:36.763Z"
   },
   {
    "duration": 29,
    "start_time": "2023-02-04T19:29:15.352Z"
   },
   {
    "duration": 22,
    "start_time": "2023-02-04T19:29:24.729Z"
   },
   {
    "duration": 60,
    "start_time": "2023-02-04T19:31:39.096Z"
   },
   {
    "duration": 43,
    "start_time": "2023-02-04T19:31:49.937Z"
   },
   {
    "duration": 52,
    "start_time": "2023-02-04T19:32:01.023Z"
   },
   {
    "duration": 149,
    "start_time": "2023-02-04T19:32:38.472Z"
   },
   {
    "duration": 26,
    "start_time": "2023-02-04T19:38:28.432Z"
   },
   {
    "duration": 2120,
    "start_time": "2023-02-04T19:42:46.852Z"
   },
   {
    "duration": 457,
    "start_time": "2023-02-04T19:43:11.972Z"
   },
   {
    "duration": 461,
    "start_time": "2023-02-04T19:43:17.764Z"
   },
   {
    "duration": 481,
    "start_time": "2023-02-04T19:43:44.694Z"
   },
   {
    "duration": 419,
    "start_time": "2023-02-04T19:48:50.665Z"
   },
   {
    "duration": 452,
    "start_time": "2023-02-04T19:48:55.083Z"
   },
   {
    "duration": 26,
    "start_time": "2023-02-04T19:54:23.460Z"
   },
   {
    "duration": 9,
    "start_time": "2023-02-04T19:57:04.875Z"
   },
   {
    "duration": 24,
    "start_time": "2023-02-04T19:59:40.390Z"
   },
   {
    "duration": 31,
    "start_time": "2023-02-04T19:59:59.083Z"
   },
   {
    "duration": 11,
    "start_time": "2023-02-04T20:00:01.240Z"
   },
   {
    "duration": 32,
    "start_time": "2023-02-04T20:00:15.584Z"
   },
   {
    "duration": 19,
    "start_time": "2023-02-04T20:00:43.889Z"
   },
   {
    "duration": 4,
    "start_time": "2023-02-04T20:00:52.580Z"
   },
   {
    "duration": 28,
    "start_time": "2023-02-04T20:05:51.897Z"
   },
   {
    "duration": 10,
    "start_time": "2023-02-04T20:17:21.360Z"
   },
   {
    "duration": 12,
    "start_time": "2023-02-04T20:18:24.244Z"
   },
   {
    "duration": 11,
    "start_time": "2023-02-04T20:18:43.694Z"
   },
   {
    "duration": 23,
    "start_time": "2023-02-04T20:18:56.321Z"
   },
   {
    "duration": 16,
    "start_time": "2023-02-04T20:19:22.234Z"
   },
   {
    "duration": 1160,
    "start_time": "2023-02-04T20:38:08.068Z"
   },
   {
    "duration": 37,
    "start_time": "2023-02-04T20:38:09.230Z"
   },
   {
    "duration": 12,
    "start_time": "2023-02-04T20:38:09.268Z"
   },
   {
    "duration": 15,
    "start_time": "2023-02-04T20:38:09.282Z"
   },
   {
    "duration": 34,
    "start_time": "2023-02-04T20:38:09.308Z"
   },
   {
    "duration": 19,
    "start_time": "2023-02-04T20:38:09.344Z"
   },
   {
    "duration": 348,
    "start_time": "2023-02-04T20:38:09.365Z"
   },
   {
    "duration": 14,
    "start_time": "2023-02-04T20:38:09.715Z"
   },
   {
    "duration": 306,
    "start_time": "2023-02-04T20:38:09.731Z"
   },
   {
    "duration": 5,
    "start_time": "2023-02-04T20:38:10.040Z"
   },
   {
    "duration": 79,
    "start_time": "2023-02-04T20:38:10.047Z"
   },
   {
    "duration": 18,
    "start_time": "2023-02-04T20:38:10.127Z"
   },
   {
    "duration": 12,
    "start_time": "2023-02-04T20:38:10.147Z"
   },
   {
    "duration": 9,
    "start_time": "2023-02-04T20:38:10.161Z"
   },
   {
    "duration": 14,
    "start_time": "2023-02-04T20:38:10.198Z"
   },
   {
    "duration": 244,
    "start_time": "2023-02-04T20:38:10.214Z"
   },
   {
    "duration": 11,
    "start_time": "2023-02-04T20:38:10.460Z"
   },
   {
    "duration": 61,
    "start_time": "2023-02-04T20:38:10.472Z"
   },
   {
    "duration": 11,
    "start_time": "2023-02-04T20:38:10.535Z"
   },
   {
    "duration": 306,
    "start_time": "2023-02-04T20:38:10.548Z"
   },
   {
    "duration": 427,
    "start_time": "2023-02-04T20:38:10.856Z"
   },
   {
    "duration": 359,
    "start_time": "2023-02-04T20:38:11.285Z"
   },
   {
    "duration": 421,
    "start_time": "2023-02-04T20:38:11.645Z"
   },
   {
    "duration": 376,
    "start_time": "2023-02-04T20:38:12.068Z"
   },
   {
    "duration": 509,
    "start_time": "2023-02-04T20:38:12.445Z"
   },
   {
    "duration": 6,
    "start_time": "2023-02-04T20:38:12.956Z"
   },
   {
    "duration": 9,
    "start_time": "2023-02-04T20:38:12.963Z"
   },
   {
    "duration": 239,
    "start_time": "2023-02-04T20:38:12.976Z"
   },
   {
    "duration": 5,
    "start_time": "2023-02-04T20:38:13.216Z"
   },
   {
    "duration": 14,
    "start_time": "2023-02-04T20:38:13.223Z"
   },
   {
    "duration": 265,
    "start_time": "2023-02-04T20:38:13.239Z"
   },
   {
    "duration": 6,
    "start_time": "2023-02-04T20:38:13.507Z"
   },
   {
    "duration": 54,
    "start_time": "2023-02-04T20:38:13.515Z"
   },
   {
    "duration": 154,
    "start_time": "2023-02-04T20:38:13.572Z"
   },
   {
    "duration": 21,
    "start_time": "2023-02-04T20:38:13.727Z"
   },
   {
    "duration": 11,
    "start_time": "2023-02-04T20:38:13.749Z"
   },
   {
    "duration": 9,
    "start_time": "2023-02-04T20:38:13.761Z"
   },
   {
    "duration": 39,
    "start_time": "2023-02-04T20:38:13.772Z"
   },
   {
    "duration": 32,
    "start_time": "2023-02-04T20:38:13.813Z"
   },
   {
    "duration": 17,
    "start_time": "2023-02-04T20:38:13.847Z"
   },
   {
    "duration": 1141,
    "start_time": "2023-02-04T20:46:37.369Z"
   },
   {
    "duration": 33,
    "start_time": "2023-02-04T20:46:38.512Z"
   },
   {
    "duration": 10,
    "start_time": "2023-02-04T20:46:38.547Z"
   },
   {
    "duration": 7,
    "start_time": "2023-02-04T20:46:38.559Z"
   },
   {
    "duration": 14,
    "start_time": "2023-02-04T20:46:38.568Z"
   },
   {
    "duration": 13,
    "start_time": "2023-02-04T20:46:38.584Z"
   },
   {
    "duration": 294,
    "start_time": "2023-02-04T20:46:38.598Z"
   },
   {
    "duration": 12,
    "start_time": "2023-02-04T20:46:38.894Z"
   },
   {
    "duration": 286,
    "start_time": "2023-02-04T20:46:38.907Z"
   },
   {
    "duration": 6,
    "start_time": "2023-02-04T20:46:39.195Z"
   },
   {
    "duration": 77,
    "start_time": "2023-02-04T20:46:39.203Z"
   },
   {
    "duration": 22,
    "start_time": "2023-02-04T20:46:39.282Z"
   },
   {
    "duration": 21,
    "start_time": "2023-02-04T20:46:39.306Z"
   },
   {
    "duration": 8,
    "start_time": "2023-02-04T20:46:39.331Z"
   },
   {
    "duration": 12,
    "start_time": "2023-02-04T20:46:39.340Z"
   },
   {
    "duration": 221,
    "start_time": "2023-02-04T20:46:39.354Z"
   },
   {
    "duration": 10,
    "start_time": "2023-02-04T20:46:39.577Z"
   },
   {
    "duration": 55,
    "start_time": "2023-02-04T20:46:39.592Z"
   },
   {
    "duration": 10,
    "start_time": "2023-02-04T20:46:39.649Z"
   },
   {
    "duration": 287,
    "start_time": "2023-02-04T20:46:39.661Z"
   },
   {
    "duration": 412,
    "start_time": "2023-02-04T20:46:39.950Z"
   },
   {
    "duration": 320,
    "start_time": "2023-02-04T20:46:40.364Z"
   },
   {
    "duration": 437,
    "start_time": "2023-02-04T20:46:40.686Z"
   },
   {
    "duration": 361,
    "start_time": "2023-02-04T20:46:41.125Z"
   },
   {
    "duration": 533,
    "start_time": "2023-02-04T20:46:41.491Z"
   },
   {
    "duration": 7,
    "start_time": "2023-02-04T20:46:42.025Z"
   },
   {
    "duration": 8,
    "start_time": "2023-02-04T20:46:42.033Z"
   },
   {
    "duration": 215,
    "start_time": "2023-02-04T20:46:42.043Z"
   },
   {
    "duration": 3,
    "start_time": "2023-02-04T20:46:42.260Z"
   },
   {
    "duration": 10,
    "start_time": "2023-02-04T20:46:42.265Z"
   },
   {
    "duration": 234,
    "start_time": "2023-02-04T20:46:42.276Z"
   },
   {
    "duration": 4,
    "start_time": "2023-02-04T20:46:42.511Z"
   },
   {
    "duration": 40,
    "start_time": "2023-02-04T20:46:42.517Z"
   },
   {
    "duration": 157,
    "start_time": "2023-02-04T20:46:42.558Z"
   },
   {
    "duration": 22,
    "start_time": "2023-02-04T20:46:42.716Z"
   },
   {
    "duration": 11,
    "start_time": "2023-02-04T20:46:42.740Z"
   },
   {
    "duration": 10,
    "start_time": "2023-02-04T20:46:42.752Z"
   },
   {
    "duration": 28,
    "start_time": "2023-02-04T20:46:42.764Z"
   },
   {
    "duration": 21,
    "start_time": "2023-02-04T20:46:42.793Z"
   },
   {
    "duration": 14,
    "start_time": "2023-02-04T20:46:42.816Z"
   },
   {
    "duration": 12,
    "start_time": "2023-02-04T20:52:54.242Z"
   },
   {
    "duration": 452,
    "start_time": "2023-02-04T20:53:10.080Z"
   },
   {
    "duration": 391,
    "start_time": "2023-02-04T20:53:22.133Z"
   },
   {
    "duration": 344,
    "start_time": "2023-02-04T22:19:52.047Z"
   },
   {
    "duration": 436,
    "start_time": "2023-02-04T22:28:42.767Z"
   },
   {
    "duration": 252,
    "start_time": "2023-02-04T22:46:18.842Z"
   },
   {
    "duration": 236,
    "start_time": "2023-02-04T22:46:34.105Z"
   },
   {
    "duration": 238,
    "start_time": "2023-02-04T22:46:57.175Z"
   },
   {
    "duration": 206,
    "start_time": "2023-02-04T22:48:28.532Z"
   },
   {
    "duration": 229,
    "start_time": "2023-02-04T22:48:35.754Z"
   },
   {
    "duration": 222,
    "start_time": "2023-02-04T22:53:58.962Z"
   },
   {
    "duration": 9,
    "start_time": "2023-02-04T23:17:34.592Z"
   },
   {
    "duration": 8,
    "start_time": "2023-02-04T23:17:41.188Z"
   },
   {
    "duration": 8,
    "start_time": "2023-02-04T23:18:55.830Z"
   },
   {
    "duration": 9,
    "start_time": "2023-02-04T23:19:05.860Z"
   },
   {
    "duration": 5,
    "start_time": "2023-02-04T23:20:26.400Z"
   },
   {
    "duration": 1144,
    "start_time": "2023-02-05T20:09:25.234Z"
   },
   {
    "duration": 66,
    "start_time": "2023-02-05T20:09:26.380Z"
   },
   {
    "duration": 10,
    "start_time": "2023-02-05T20:09:26.448Z"
   },
   {
    "duration": 9,
    "start_time": "2023-02-05T20:09:26.460Z"
   },
   {
    "duration": 15,
    "start_time": "2023-02-05T20:09:26.470Z"
   },
   {
    "duration": 14,
    "start_time": "2023-02-05T20:09:26.486Z"
   },
   {
    "duration": 314,
    "start_time": "2023-02-05T20:09:26.502Z"
   },
   {
    "duration": 12,
    "start_time": "2023-02-05T20:09:26.817Z"
   },
   {
    "duration": 245,
    "start_time": "2023-02-05T20:09:26.831Z"
   },
   {
    "duration": 5,
    "start_time": "2023-02-05T20:09:27.078Z"
   },
   {
    "duration": 128,
    "start_time": "2023-02-05T20:09:27.084Z"
   },
   {
    "duration": 18,
    "start_time": "2023-02-05T20:09:27.214Z"
   },
   {
    "duration": 14,
    "start_time": "2023-02-05T20:09:27.233Z"
   },
   {
    "duration": 7,
    "start_time": "2023-02-05T20:09:27.248Z"
   },
   {
    "duration": 7,
    "start_time": "2023-02-05T20:09:27.257Z"
   },
   {
    "duration": 207,
    "start_time": "2023-02-05T20:09:27.265Z"
   },
   {
    "duration": 10,
    "start_time": "2023-02-05T20:09:27.473Z"
   },
   {
    "duration": 94,
    "start_time": "2023-02-05T20:09:27.484Z"
   },
   {
    "duration": 11,
    "start_time": "2023-02-05T20:09:27.580Z"
   },
   {
    "duration": 274,
    "start_time": "2023-02-05T20:09:27.593Z"
   },
   {
    "duration": 405,
    "start_time": "2023-02-05T20:09:27.869Z"
   },
   {
    "duration": 336,
    "start_time": "2023-02-05T20:09:28.276Z"
   },
   {
    "duration": 453,
    "start_time": "2023-02-05T20:09:28.613Z"
   },
   {
    "duration": 336,
    "start_time": "2023-02-05T20:09:29.068Z"
   },
   {
    "duration": 467,
    "start_time": "2023-02-05T20:09:29.405Z"
   },
   {
    "duration": 8,
    "start_time": "2023-02-05T20:09:29.873Z"
   },
   {
    "duration": 9,
    "start_time": "2023-02-05T20:09:29.883Z"
   },
   {
    "duration": 267,
    "start_time": "2023-02-05T20:09:29.895Z"
   },
   {
    "duration": 5,
    "start_time": "2023-02-05T20:09:30.164Z"
   },
   {
    "duration": 23,
    "start_time": "2023-02-05T20:09:30.170Z"
   },
   {
    "duration": 259,
    "start_time": "2023-02-05T20:09:30.195Z"
   },
   {
    "duration": 241,
    "start_time": "2023-02-05T20:09:30.456Z"
   },
   {
    "duration": 4,
    "start_time": "2023-02-05T20:09:30.699Z"
   },
   {
    "duration": 57,
    "start_time": "2023-02-05T20:09:30.705Z"
   },
   {
    "duration": 154,
    "start_time": "2023-02-05T20:09:30.763Z"
   },
   {
    "duration": 30,
    "start_time": "2023-02-05T20:09:30.919Z"
   },
   {
    "duration": 13,
    "start_time": "2023-02-05T20:09:30.950Z"
   },
   {
    "duration": 21,
    "start_time": "2023-02-05T20:09:30.965Z"
   },
   {
    "duration": 24,
    "start_time": "2023-02-05T20:09:30.987Z"
   },
   {
    "duration": 59,
    "start_time": "2023-02-05T20:09:31.013Z"
   },
   {
    "duration": 16,
    "start_time": "2023-02-05T20:09:31.075Z"
   }
  ],
  "kernelspec": {
   "display_name": "Python 3 (ipykernel)",
   "language": "python",
   "name": "python3"
  },
  "language_info": {
   "codemirror_mode": {
    "name": "ipython",
    "version": 3
   },
   "file_extension": ".py",
   "mimetype": "text/x-python",
   "name": "python",
   "nbconvert_exporter": "python",
   "pygments_lexer": "ipython3",
   "version": "3.9.12"
  },
  "toc": {
   "base_numbering": 1,
   "nav_menu": {},
   "number_sections": false,
   "sideBar": true,
   "skip_h1_title": false,
   "title_cell": "Table of Contents",
   "title_sidebar": "Contents",
   "toc_cell": false,
   "toc_position": {
    "height": "calc(100% - 180px)",
    "left": "10px",
    "top": "150px",
    "width": "226.179px"
   },
   "toc_section_display": true,
   "toc_window_display": true
  }
 },
 "nbformat": 4,
 "nbformat_minor": 2
}
