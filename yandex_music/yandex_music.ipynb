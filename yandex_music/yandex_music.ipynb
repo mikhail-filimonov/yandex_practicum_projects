{
 "cells": [
  {
   "cell_type": "markdown",
   "metadata": {
    "deletable": false,
    "editable": false,
    "id": "E0vqbgi9ay0H"
   },
   "source": [
    "# Яндекс Музыка"
   ]
  },
  {
   "cell_type": "markdown",
   "metadata": {
    "deletable": false,
    "editable": false,
    "id": "VUC88oWjTJw2"
   },
   "source": [
    "Сравнение Москвы и Петербурга окружено мифами. Например:\n",
    " * Москва — мегаполис, подчинённый жёсткому ритму рабочей недели;\n",
    " * Петербург — культурная столица, со своими вкусами.\n",
    "\n",
    "На данных Яндекс Музыки вы сравните поведение пользователей двух столиц.\n",
    "\n",
    "**Цель исследования** — проверьте три гипотезы:\n",
    "1. Активность пользователей зависит от дня недели. Причём в Москве и Петербурге это проявляется по-разному.\n",
    "2. В понедельник утром в Москве преобладают одни жанры, а в Петербурге — другие. Так же и вечером пятницы преобладают разные жанры — в зависимости от города. \n",
    "3. Москва и Петербург предпочитают разные жанры музыки. В Москве чаще слушают поп-музыку, в Петербурге — русский рэп.\n",
    "\n",
    "**Ход исследования**\n",
    "\n",
    "Данные о поведении пользователей вы получите из файла `yandex_music_project.csv`. О качестве данных ничего не известно. Поэтому перед проверкой гипотез понадобится обзор данных. \n",
    "\n",
    "Вы проверите данные на ошибки и оцените их влияние на исследование. Затем, на этапе предобработки вы поищете возможность исправить самые критичные ошибки данных.\n",
    " \n",
    "Таким образом, исследование пройдёт в три этапа:\n",
    " 1. Обзор данных.\n",
    " 2. Предобработка данных.\n",
    " 3. Проверка гипотез.\n",
    "\n"
   ]
  },
  {
   "cell_type": "markdown",
   "metadata": {
    "deletable": false,
    "editable": false,
    "id": "Ml1hmfXC_Zcs"
   },
   "source": [
    "## Обзор данных\n",
    "\n",
    "Составьте первое представление о данных Яндекс Музыки.\n",
    "\n",
    "\n"
   ]
  },
  {
   "cell_type": "markdown",
   "metadata": {
    "deletable": false,
    "editable": false,
    "id": "57eAOGIz_Zcs",
    "tags": [
     "start_task"
    ]
   },
   "source": [
    "**Задание 1**\n",
    "\n",
    "Основной инструмент аналитика — `pandas`. Импортируйте эту библиотеку."
   ]
  },
  {
   "cell_type": "code",
   "execution_count": 46,
   "metadata": {
    "deletable": false,
    "id": "AXN7PHPN_Zcs"
   },
   "outputs": [],
   "source": [
    "# импорт библиотеки pandas\n",
    "import pandas as pd"
   ]
  },
  {
   "cell_type": "markdown",
   "metadata": {
    "deletable": false,
    "editable": false,
    "id": "SG23P8tt_Zcs",
    "tags": [
     "start_task"
    ]
   },
   "source": [
    "**Задание 2**\n",
    "\n",
    "Прочитайте файл `yandex_music_project.csv` из папки `/datasets` и сохраните его в переменной `df`:"
   ]
  },
  {
   "cell_type": "code",
   "execution_count": 2,
   "metadata": {
    "deletable": false,
    "id": "fFVu7vqh_Zct"
   },
   "outputs": [],
   "source": [
    "# чтение файла с данными и сохранение в df\n",
    "df = pd.read_csv('/datasets/yandex_music_project.csv')"
   ]
  },
  {
   "cell_type": "markdown",
   "metadata": {
    "deletable": false,
    "editable": false,
    "id": "rDoOMd3uTqnZ",
    "tags": [
     "start_task"
    ]
   },
   "source": [
    "**Задание 3**\n",
    "\n",
    "\n",
    "Выведите на экран первые десять строк таблицы:"
   ]
  },
  {
   "cell_type": "code",
   "execution_count": 3,
   "metadata": {
    "deletable": false,
    "id": "oWTVX3gW_Zct"
   },
   "outputs": [
    {
     "data": {
      "text/html": [
       "<div>\n",
       "<style scoped>\n",
       "    .dataframe tbody tr th:only-of-type {\n",
       "        vertical-align: middle;\n",
       "    }\n",
       "\n",
       "    .dataframe tbody tr th {\n",
       "        vertical-align: top;\n",
       "    }\n",
       "\n",
       "    .dataframe thead th {\n",
       "        text-align: right;\n",
       "    }\n",
       "</style>\n",
       "<table border=\"1\" class=\"dataframe\">\n",
       "  <thead>\n",
       "    <tr style=\"text-align: right;\">\n",
       "      <th></th>\n",
       "      <th>userID</th>\n",
       "      <th>Track</th>\n",
       "      <th>artist</th>\n",
       "      <th>genre</th>\n",
       "      <th>City</th>\n",
       "      <th>time</th>\n",
       "      <th>Day</th>\n",
       "    </tr>\n",
       "  </thead>\n",
       "  <tbody>\n",
       "    <tr>\n",
       "      <th>0</th>\n",
       "      <td>FFB692EC</td>\n",
       "      <td>Kamigata To Boots</td>\n",
       "      <td>The Mass Missile</td>\n",
       "      <td>rock</td>\n",
       "      <td>Saint-Petersburg</td>\n",
       "      <td>20:28:33</td>\n",
       "      <td>Wednesday</td>\n",
       "    </tr>\n",
       "    <tr>\n",
       "      <th>1</th>\n",
       "      <td>55204538</td>\n",
       "      <td>Delayed Because of Accident</td>\n",
       "      <td>Andreas Rönnberg</td>\n",
       "      <td>rock</td>\n",
       "      <td>Moscow</td>\n",
       "      <td>14:07:09</td>\n",
       "      <td>Friday</td>\n",
       "    </tr>\n",
       "    <tr>\n",
       "      <th>2</th>\n",
       "      <td>20EC38</td>\n",
       "      <td>Funiculì funiculà</td>\n",
       "      <td>Mario Lanza</td>\n",
       "      <td>pop</td>\n",
       "      <td>Saint-Petersburg</td>\n",
       "      <td>20:58:07</td>\n",
       "      <td>Wednesday</td>\n",
       "    </tr>\n",
       "    <tr>\n",
       "      <th>3</th>\n",
       "      <td>A3DD03C9</td>\n",
       "      <td>Dragons in the Sunset</td>\n",
       "      <td>Fire + Ice</td>\n",
       "      <td>folk</td>\n",
       "      <td>Saint-Petersburg</td>\n",
       "      <td>08:37:09</td>\n",
       "      <td>Monday</td>\n",
       "    </tr>\n",
       "    <tr>\n",
       "      <th>4</th>\n",
       "      <td>E2DC1FAE</td>\n",
       "      <td>Soul People</td>\n",
       "      <td>Space Echo</td>\n",
       "      <td>dance</td>\n",
       "      <td>Moscow</td>\n",
       "      <td>08:34:34</td>\n",
       "      <td>Monday</td>\n",
       "    </tr>\n",
       "    <tr>\n",
       "      <th>5</th>\n",
       "      <td>842029A1</td>\n",
       "      <td>Преданная</td>\n",
       "      <td>IMPERVTOR</td>\n",
       "      <td>rusrap</td>\n",
       "      <td>Saint-Petersburg</td>\n",
       "      <td>13:09:41</td>\n",
       "      <td>Friday</td>\n",
       "    </tr>\n",
       "    <tr>\n",
       "      <th>6</th>\n",
       "      <td>4CB90AA5</td>\n",
       "      <td>True</td>\n",
       "      <td>Roman Messer</td>\n",
       "      <td>dance</td>\n",
       "      <td>Moscow</td>\n",
       "      <td>13:00:07</td>\n",
       "      <td>Wednesday</td>\n",
       "    </tr>\n",
       "    <tr>\n",
       "      <th>7</th>\n",
       "      <td>F03E1C1F</td>\n",
       "      <td>Feeling This Way</td>\n",
       "      <td>Polina Griffith</td>\n",
       "      <td>dance</td>\n",
       "      <td>Moscow</td>\n",
       "      <td>20:47:49</td>\n",
       "      <td>Wednesday</td>\n",
       "    </tr>\n",
       "    <tr>\n",
       "      <th>8</th>\n",
       "      <td>8FA1D3BE</td>\n",
       "      <td>И вновь продолжается бой</td>\n",
       "      <td>NaN</td>\n",
       "      <td>ruspop</td>\n",
       "      <td>Moscow</td>\n",
       "      <td>09:17:40</td>\n",
       "      <td>Friday</td>\n",
       "    </tr>\n",
       "    <tr>\n",
       "      <th>9</th>\n",
       "      <td>E772D5C0</td>\n",
       "      <td>Pessimist</td>\n",
       "      <td>NaN</td>\n",
       "      <td>dance</td>\n",
       "      <td>Saint-Petersburg</td>\n",
       "      <td>21:20:49</td>\n",
       "      <td>Wednesday</td>\n",
       "    </tr>\n",
       "  </tbody>\n",
       "</table>\n",
       "</div>"
      ],
      "text/plain": [
       "     userID                        Track            artist   genre  \\\n",
       "0  FFB692EC            Kamigata To Boots  The Mass Missile    rock   \n",
       "1  55204538  Delayed Because of Accident  Andreas Rönnberg    rock   \n",
       "2    20EC38            Funiculì funiculà       Mario Lanza     pop   \n",
       "3  A3DD03C9        Dragons in the Sunset        Fire + Ice    folk   \n",
       "4  E2DC1FAE                  Soul People        Space Echo   dance   \n",
       "5  842029A1                    Преданная         IMPERVTOR  rusrap   \n",
       "6  4CB90AA5                         True      Roman Messer   dance   \n",
       "7  F03E1C1F             Feeling This Way   Polina Griffith   dance   \n",
       "8  8FA1D3BE     И вновь продолжается бой               NaN  ruspop   \n",
       "9  E772D5C0                    Pessimist               NaN   dance   \n",
       "\n",
       "             City        time        Day  \n",
       "0  Saint-Petersburg  20:28:33  Wednesday  \n",
       "1            Moscow  14:07:09     Friday  \n",
       "2  Saint-Petersburg  20:58:07  Wednesday  \n",
       "3  Saint-Petersburg  08:37:09     Monday  \n",
       "4            Moscow  08:34:34     Monday  \n",
       "5  Saint-Petersburg  13:09:41     Friday  \n",
       "6            Moscow  13:00:07  Wednesday  \n",
       "7            Moscow  20:47:49  Wednesday  \n",
       "8            Moscow  09:17:40     Friday  \n",
       "9  Saint-Petersburg  21:20:49  Wednesday  "
      ]
     },
     "execution_count": 3,
     "metadata": {},
     "output_type": "execute_result"
    }
   ],
   "source": [
    "# получение первых 10 строк таблицы df\n",
    "df.head(10)"
   ]
  },
  {
   "cell_type": "markdown",
   "metadata": {
    "deletable": false,
    "editable": false,
    "id": "EO73Kwic_Zct",
    "tags": [
     "start_task"
    ]
   },
   "source": [
    "**Задание 4**\n",
    "\n",
    "\n",
    "Одной командой получить общую информацию о таблице c помощью метода `info()`:"
   ]
  },
  {
   "cell_type": "code",
   "execution_count": 4,
   "metadata": {
    "deletable": false,
    "id": "DSf2kIb-_Zct"
   },
   "outputs": [
    {
     "name": "stdout",
     "output_type": "stream",
     "text": [
      "<class 'pandas.core.frame.DataFrame'>\n",
      "RangeIndex: 65079 entries, 0 to 65078\n",
      "Data columns (total 7 columns):\n",
      " #   Column    Non-Null Count  Dtype \n",
      "---  ------    --------------  ----- \n",
      " 0     userID  65079 non-null  object\n",
      " 1   Track     63848 non-null  object\n",
      " 2   artist    57876 non-null  object\n",
      " 3   genre     63881 non-null  object\n",
      " 4     City    65079 non-null  object\n",
      " 5   time      65079 non-null  object\n",
      " 6   Day       65079 non-null  object\n",
      "dtypes: object(7)\n",
      "memory usage: 3.5+ MB\n"
     ]
    }
   ],
   "source": [
    "# получение общей информации о данных в таблице df\n",
    "df.info()"
   ]
  },
  {
   "cell_type": "markdown",
   "metadata": {
    "deletable": false,
    "editable": false,
    "id": "TaQ2Iwbr_Zct"
   },
   "source": [
    "Итак, в таблице семь столбцов. Тип данных во всех столбцах — `object`.\n",
    "\n",
    "Согласно документации к данным:\n",
    "* `userID` — идентификатор пользователя;\n",
    "* `Track` — название трека;  \n",
    "* `artist` — имя исполнителя;\n",
    "* `genre` — название жанра;\n",
    "* `City` — город пользователя;\n",
    "* `time` — время начала прослушивания;\n",
    "* `Day` — день недели.\n",
    "\n",
    "Количество значений в столбцах различается. Значит, в данных есть пропущенные значения."
   ]
  },
  {
   "cell_type": "markdown",
   "metadata": {
    "deletable": false,
    "editable": false,
    "id": "rAfziTBDmf2h",
    "tags": [
     "start_task"
    ]
   },
   "source": [
    "**Задание 5**\n",
    "\n",
    "**Вопрос со свободной формой ответа**\n",
    "\n",
    "В названиях колонок видны нарушения стиля:\n",
    "* Строчные буквы сочетаются с прописными.\n",
    "* Встречаются пробелы.\n",
    "\n",
    "Какое третье нарушение?"
   ]
  },
  {
   "cell_type": "code",
   "execution_count": 5,
   "metadata": {
    "id": "jD8EXEIvmf2h"
   },
   "outputs": [],
   "source": [
    "# Отсутствие snake_case. Не удаляйте символ #. Не меняйте тип этой ячейки на Markdown."
   ]
  },
  {
   "cell_type": "markdown",
   "metadata": {
    "deletable": false,
    "editable": false,
    "id": "MCB6-dXG_Zct"
   },
   "source": [
    "**Выводы**\n",
    "\n",
    "В каждой строке таблицы — данные о прослушанном треке. Часть колонок описывает саму композицию: название, исполнителя и жанр. Остальные данные рассказывают о пользователе: из какого он города, когда он слушал музыку. \n",
    "\n",
    "Предварительно можно утверждать, что данных достаточно для проверки гипотез. Но встречаются пропуски в данных, а в названиях колонок — расхождения с хорошим стилем.\n",
    "\n",
    "Чтобы двигаться дальше, нужно устранить проблемы в данных."
   ]
  },
  {
   "cell_type": "markdown",
   "metadata": {
    "deletable": false,
    "editable": false,
    "id": "SjYF6Ub9_Zct"
   },
   "source": [
    "## Предобработка данных\n",
    "Исправьте стиль в заголовках столбцов, исключите пропуски. Затем проверьте данные на дубликаты."
   ]
  },
  {
   "cell_type": "markdown",
   "metadata": {
    "deletable": false,
    "editable": false,
    "id": "dIaKXr29_Zct",
    "tags": [
     "start_task"
    ]
   },
   "source": [
    "### Стиль заголовков\n",
    "\n",
    "**Задание 6**\n",
    "\n",
    "Выведите на экран названия столбцов:"
   ]
  },
  {
   "cell_type": "code",
   "execution_count": 6,
   "metadata": {
    "deletable": false,
    "id": "oKOTdF_Q_Zct"
   },
   "outputs": [
    {
     "data": {
      "text/plain": [
       "Index(['  userID', 'Track', 'artist', 'genre', '  City  ', 'time', 'Day'], dtype='object')"
      ]
     },
     "execution_count": 6,
     "metadata": {},
     "output_type": "execute_result"
    }
   ],
   "source": [
    "# перечень названий столбцов таблицы df\n",
    "df.columns"
   ]
  },
  {
   "cell_type": "markdown",
   "metadata": {
    "deletable": false,
    "editable": false,
    "id": "zj5534cv_Zct",
    "tags": [
     "start_task"
    ]
   },
   "source": [
    "**Задание 7**\n",
    "\n",
    "\n",
    "Приведите названия в соответствие с хорошим стилем:\n",
    "* несколько слов в названии запишите в «змеином_регистре»,\n",
    "* все символы сделайте строчными,\n",
    "* устраните пробелы.\n",
    "\n",
    "Для этого переименуйте колонки так:\n",
    "* `'  userID'` → `'user_id'`;\n",
    "* `'Track'` → `'track'`;\n",
    "* `'  City  '` → `'city'`;\n",
    "* `'Day'` → `'day'`."
   ]
  },
  {
   "cell_type": "code",
   "execution_count": 7,
   "metadata": {
    "deletable": false,
    "id": "ISlFqs5y_Zct"
   },
   "outputs": [
    {
     "data": {
      "text/plain": [
       "Index(['user_id', 'track', 'artist', 'genre', 'city', 'time', 'day'], dtype='object')"
      ]
     },
     "execution_count": 7,
     "metadata": {},
     "output_type": "execute_result"
    }
   ],
   "source": [
    "# переименование столбцов\n",
    "df = df.rename(\n",
    "    columns={\n",
    "        '  userID':'user_id',\n",
    "        'Track':'track',\n",
    "        '  City  ':'city',\n",
    "        'Day':'day',\n",
    "    }\n",
    ")\n",
    "df.columns"
   ]
  },
  {
   "cell_type": "markdown",
   "metadata": {
    "deletable": false,
    "editable": false,
    "id": "1dqbh00J_Zct",
    "tags": [
     "start_task"
    ]
   },
   "source": [
    "**Задание 8**\n",
    "\n",
    "\n",
    "Проверьте результат. Для этого ещё раз выведите на экран названия столбцов:"
   ]
  },
  {
   "cell_type": "code",
   "execution_count": 8,
   "metadata": {
    "deletable": false,
    "id": "d4NOAmTW_Zct"
   },
   "outputs": [
    {
     "data": {
      "text/plain": [
       "Index(['user_id', 'track', 'artist', 'genre', 'city', 'time', 'day'], dtype='object')"
      ]
     },
     "execution_count": 8,
     "metadata": {},
     "output_type": "execute_result"
    }
   ],
   "source": [
    "# проверка результатов - перечень названий столбцов\n",
    "df.columns"
   ]
  },
  {
   "cell_type": "markdown",
   "metadata": {
    "deletable": false,
    "editable": false,
    "id": "5ISfbcfY_Zct",
    "tags": [
     "start_task"
    ]
   },
   "source": [
    "### Пропуски значений\n",
    "\n",
    "**Задание 9**\n",
    "\n",
    "Сначала посчитайте, сколько в таблице пропущенных значений. Для этого достаточно двух методов `pandas`:"
   ]
  },
  {
   "cell_type": "code",
   "execution_count": 9,
   "metadata": {
    "deletable": false,
    "id": "RskX29qr_Zct"
   },
   "outputs": [
    {
     "data": {
      "text/plain": [
       "user_id       0\n",
       "track      1231\n",
       "artist     7203\n",
       "genre      1198\n",
       "city          0\n",
       "time          0\n",
       "day           0\n",
       "dtype: int64"
      ]
     },
     "execution_count": 9,
     "metadata": {},
     "output_type": "execute_result"
    }
   ],
   "source": [
    "# подсчёт пропусков\n",
    "df.isna().sum()"
   ]
  },
  {
   "cell_type": "markdown",
   "metadata": {
    "deletable": false,
    "editable": false,
    "id": "qubhgnlO_Zct"
   },
   "source": [
    "Не все пропущенные значения влияют на исследование. Так в `track` и `artist` пропуски не важны для вашей работы. Достаточно заменить их явными обозначениями.\n",
    "\n",
    "Но пропуски в `genre` могут помешать сравнению музыкальных вкусов в Москве и Санкт-Петербурге. На практике было бы правильно установить причину пропусков и восстановить данные. Такой возможности нет в учебном проекте. Придётся:\n",
    "* заполнить и эти пропуски явными обозначениями;\n",
    "* оценить, насколько они повредят расчётам. "
   ]
  },
  {
   "cell_type": "markdown",
   "metadata": {
    "deletable": false,
    "editable": false,
    "id": "fSv2laPA_Zct",
    "tags": [
     "start_task"
    ]
   },
   "source": [
    "**Задание 10**\n",
    "\n",
    "Замените пропущенные значения в столбцах `track`, `artist` и `genre` на строку `'unknown'`. Для этого создайте список `columns_to_replace`, переберите его элементы циклом `for` и для каждого столбца выполните замену пропущенных значений:"
   ]
  },
  {
   "cell_type": "code",
   "execution_count": 10,
   "metadata": {
    "deletable": false,
    "id": "KplB5qWs_Zct"
   },
   "outputs": [],
   "source": [
    "# перебор названий столбцов в цикле и замена пропущенных значений на 'unknown'\n",
    "\n",
    "columns_to_replace = ['track', 'artist', 'genre']\n",
    "\n",
    "for column in columns_to_replace:\n",
    "    df[column] = df[column].fillna('unknown')\n",
    "    "
   ]
  },
  {
   "cell_type": "markdown",
   "metadata": {
    "deletable": false,
    "editable": false,
    "id": "Ilsm-MZo_Zct",
    "tags": [
     "start_task"
    ]
   },
   "source": [
    "**Задание 11**\n",
    "\n",
    "Убедитесь, что в таблице не осталось пропусков. Для этого ещё раз посчитайте пропущенные значения."
   ]
  },
  {
   "cell_type": "code",
   "execution_count": 11,
   "metadata": {
    "deletable": false,
    "id": "Tq4nYRX4_Zct"
   },
   "outputs": [
    {
     "data": {
      "text/plain": [
       "user_id    0\n",
       "track      0\n",
       "artist     0\n",
       "genre      0\n",
       "city       0\n",
       "time       0\n",
       "day        0\n",
       "dtype: int64"
      ]
     },
     "execution_count": 11,
     "metadata": {},
     "output_type": "execute_result"
    }
   ],
   "source": [
    "# подсчёт пропусков\n",
    "df.isna().sum()"
   ]
  },
  {
   "cell_type": "markdown",
   "metadata": {
    "deletable": false,
    "editable": false,
    "id": "BWKRtBJ3_Zct",
    "tags": [
     "start_task"
    ]
   },
   "source": [
    "### Дубликаты\n",
    "\n",
    "**Задание 12**\n",
    "\n",
    "Посчитайте явные дубликаты в таблице одной командой:"
   ]
  },
  {
   "cell_type": "code",
   "execution_count": 12,
   "metadata": {
    "deletable": false,
    "id": "36eES_S0_Zct"
   },
   "outputs": [
    {
     "data": {
      "text/plain": [
       "3826"
      ]
     },
     "execution_count": 12,
     "metadata": {},
     "output_type": "execute_result"
    }
   ],
   "source": [
    "# подсчёт явных дубликатов\n",
    "df.duplicated().sum()"
   ]
  },
  {
   "cell_type": "markdown",
   "metadata": {
    "deletable": false,
    "editable": false,
    "id": "Ot25h6XR_Zct",
    "tags": [
     "start_task"
    ]
   },
   "source": [
    "**Задание 13**\n",
    "\n",
    "Вызовите специальный метод `pandas`, чтобы удалить явные дубликаты:"
   ]
  },
  {
   "cell_type": "code",
   "execution_count": 13,
   "metadata": {
    "deletable": false,
    "id": "exFHq6tt_Zct",
    "scrolled": true
   },
   "outputs": [],
   "source": [
    "# удаление явных дубликатов\n",
    "df = df.drop_duplicates()"
   ]
  },
  {
   "cell_type": "markdown",
   "metadata": {
    "deletable": false,
    "editable": false,
    "id": "Im2YwBEG_Zct",
    "tags": [
     "start_task"
    ]
   },
   "source": [
    "**Задание 14**\n",
    "\n",
    "Ещё раз посчитайте явные дубликаты в таблице — убедитесь, что полностью от них избавились:"
   ]
  },
  {
   "cell_type": "code",
   "execution_count": 14,
   "metadata": {
    "deletable": false,
    "id": "-8PuNWQ0_Zct"
   },
   "outputs": [
    {
     "data": {
      "text/plain": [
       "0"
      ]
     },
     "execution_count": 14,
     "metadata": {},
     "output_type": "execute_result"
    }
   ],
   "source": [
    "# проверка на отсутствие дубликатов\n",
    "df.duplicated().sum()"
   ]
  },
  {
   "cell_type": "markdown",
   "metadata": {
    "deletable": false,
    "editable": false,
    "id": "QlFBsxAr_Zct"
   },
   "source": [
    "Теперь избавьтесь от неявных дубликатов в колонке `genre`. Например, название одного и того же жанра может быть записано немного по-разному. Такие ошибки тоже повлияют на результат исследования."
   ]
  },
  {
   "cell_type": "markdown",
   "metadata": {
    "deletable": false,
    "editable": false,
    "id": "eSjWwsOh_Zct",
    "tags": [
     "start_task"
    ]
   },
   "source": [
    "**Задание 15**\n",
    "\n",
    "Выведите на экран список уникальных названий жанров, отсортированный в алфавитном порядке. Для этого:\n",
    "1. извлеките нужный столбец датафрейма; \n",
    "2. примените к нему метод сортировки;\n",
    "3. для отсортированного столбца вызовите метод, который вернёт уникальные значения из столбца."
   ]
  },
  {
   "cell_type": "code",
   "execution_count": 15,
   "metadata": {
    "deletable": false,
    "id": "JIUcqzZN_Zct"
   },
   "outputs": [
    {
     "data": {
      "text/plain": [
       "array(['acid', 'acoustic', 'action', 'adult', 'africa', 'afrikaans',\n",
       "       'alternative', 'alternativepunk', 'ambient', 'americana',\n",
       "       'animated', 'anime', 'arabesk', 'arabic', 'arena',\n",
       "       'argentinetango', 'art', 'audiobook', 'author', 'avantgarde',\n",
       "       'axé', 'baile', 'balkan', 'beats', 'bigroom', 'black', 'bluegrass',\n",
       "       'blues', 'bollywood', 'bossa', 'brazilian', 'breakbeat', 'breaks',\n",
       "       'broadway', 'cantautori', 'cantopop', 'canzone', 'caribbean',\n",
       "       'caucasian', 'celtic', 'chamber', 'chanson', 'children', 'chill',\n",
       "       'chinese', 'choral', 'christian', 'christmas', 'classical',\n",
       "       'classicmetal', 'club', 'colombian', 'comedy', 'conjazz',\n",
       "       'contemporary', 'country', 'cuban', 'dance', 'dancehall',\n",
       "       'dancepop', 'dark', 'death', 'deep', 'deutschrock', 'deutschspr',\n",
       "       'dirty', 'disco', 'dnb', 'documentary', 'downbeat', 'downtempo',\n",
       "       'drum', 'dub', 'dubstep', 'eastern', 'easy', 'electronic',\n",
       "       'electropop', 'emo', 'entehno', 'epicmetal', 'estrada', 'ethnic',\n",
       "       'eurofolk', 'european', 'experimental', 'extrememetal', 'fado',\n",
       "       'fairytail', 'film', 'fitness', 'flamenco', 'folk', 'folklore',\n",
       "       'folkmetal', 'folkrock', 'folktronica', 'forró', 'frankreich',\n",
       "       'französisch', 'french', 'funk', 'future', 'gangsta', 'garage',\n",
       "       'german', 'ghazal', 'gitarre', 'glitch', 'gospel', 'gothic',\n",
       "       'grime', 'grunge', 'gypsy', 'handsup', \"hard'n'heavy\", 'hardcore',\n",
       "       'hardstyle', 'hardtechno', 'hip', 'hip-hop', 'hiphop',\n",
       "       'historisch', 'holiday', 'hop', 'horror', 'house', 'hymn', 'idm',\n",
       "       'independent', 'indian', 'indie', 'indipop', 'industrial',\n",
       "       'inspirational', 'instrumental', 'international', 'irish', 'jam',\n",
       "       'japanese', 'jazz', 'jewish', 'jpop', 'jungle', 'k-pop',\n",
       "       'karadeniz', 'karaoke', 'kayokyoku', 'korean', 'laiko', 'latin',\n",
       "       'latino', 'leftfield', 'local', 'lounge', 'loungeelectronic',\n",
       "       'lovers', 'malaysian', 'mandopop', 'marschmusik', 'meditative',\n",
       "       'mediterranean', 'melodic', 'metal', 'metalcore', 'mexican',\n",
       "       'middle', 'minimal', 'miscellaneous', 'modern', 'mood', 'mpb',\n",
       "       'muslim', 'native', 'neoklassik', 'neue', 'new', 'newage',\n",
       "       'newwave', 'nu', 'nujazz', 'numetal', 'oceania', 'old', 'opera',\n",
       "       'orchestral', 'other', 'piano', 'podcasts', 'pop', 'popdance',\n",
       "       'popelectronic', 'popeurodance', 'poprussian', 'post',\n",
       "       'posthardcore', 'postrock', 'power', 'progmetal', 'progressive',\n",
       "       'psychedelic', 'punjabi', 'punk', 'quebecois', 'ragga', 'ram',\n",
       "       'rancheras', 'rap', 'rave', 'reggae', 'reggaeton', 'regional',\n",
       "       'relax', 'religious', 'retro', 'rhythm', 'rnb', 'rnr', 'rock',\n",
       "       'rockabilly', 'rockalternative', 'rockindie', 'rockother',\n",
       "       'romance', 'roots', 'ruspop', 'rusrap', 'rusrock', 'russian',\n",
       "       'salsa', 'samba', 'scenic', 'schlager', 'self', 'sertanejo',\n",
       "       'shanson', 'shoegazing', 'showtunes', 'singer', 'ska', 'skarock',\n",
       "       'slow', 'smooth', 'soft', 'soul', 'soulful', 'sound', 'soundtrack',\n",
       "       'southern', 'specialty', 'speech', 'spiritual', 'sport',\n",
       "       'stonerrock', 'surf', 'swing', 'synthpop', 'synthrock',\n",
       "       'sängerportrait', 'tango', 'tanzorchester', 'taraftar', 'tatar',\n",
       "       'tech', 'techno', 'teen', 'thrash', 'top', 'traditional',\n",
       "       'tradjazz', 'trance', 'tribal', 'trip', 'triphop', 'tropical',\n",
       "       'türk', 'türkçe', 'ukrrock', 'unknown', 'urban', 'uzbek',\n",
       "       'variété', 'vi', 'videogame', 'vocal', 'western', 'world',\n",
       "       'worldbeat', 'ïîï', 'электроника'], dtype=object)"
      ]
     },
     "execution_count": 15,
     "metadata": {},
     "output_type": "execute_result"
    }
   ],
   "source": [
    "# Просмотр уникальных названий жанров\n",
    "df['genre'].sort_values().unique()"
   ]
  },
  {
   "cell_type": "markdown",
   "metadata": {
    "deletable": false,
    "editable": false,
    "id": "qej-Qmuo_Zct",
    "tags": [
     "start_task"
    ]
   },
   "source": [
    "**Задание 16**\n",
    "\n",
    "Просмотрите список и найдите неявные дубликаты названия `hiphop`. Это могут быть названия с ошибками или альтернативные названия того же жанра.\n",
    "\n",
    "Вы увидите следующие неявные дубликаты:\n",
    "* *hip*,\n",
    "* *hop*,\n",
    "* *hip-hop*.\n",
    "\n",
    "Чтобы очистить от них таблицу используйте метод `replace()` с двумя аргументами: списком строк-дубликатов (включащий *hip*, *hop* и *hip-hop*) и строкой с правильным значением. Вам нужно исправить колонку `genre` в таблице `df`: заменить каждое значение из списка дубликатов на верное. Вместо `hip`, `hop` и `hip-hop` в таблице должно быть значение `hiphop`:"
   ]
  },
  {
   "cell_type": "code",
   "execution_count": 16,
   "metadata": {
    "deletable": false,
    "id": "ErNDkmns_Zct"
   },
   "outputs": [],
   "source": [
    "# Устранение неявных дубликатов\n",
    "duplicates = ['hip', 'hop', 'hip-hop']\n",
    "name = 'hiphop'\n",
    "df['genre'] = df['genre'].replace(duplicates, name)"
   ]
  },
  {
   "cell_type": "markdown",
   "metadata": {
    "deletable": false,
    "editable": false,
    "id": "zQKF16_RG15m",
    "tags": [
     "start_task"
    ]
   },
   "source": [
    "**Задание 17**\n",
    "\n",
    "Проверьте, что заменили неправильные названия:\n",
    "\n",
    "*   hip,\n",
    "*   hop,\n",
    "*   hip-hop.\n",
    "\n",
    "Выведите отсортированный список уникальных значений столбца `genre`:"
   ]
  },
  {
   "cell_type": "code",
   "execution_count": 17,
   "metadata": {
    "deletable": false,
    "id": "wvixALnFG15m"
   },
   "outputs": [
    {
     "data": {
      "text/plain": [
       "array(['acid', 'acoustic', 'action', 'adult', 'africa', 'afrikaans',\n",
       "       'alternative', 'alternativepunk', 'ambient', 'americana',\n",
       "       'animated', 'anime', 'arabesk', 'arabic', 'arena',\n",
       "       'argentinetango', 'art', 'audiobook', 'author', 'avantgarde',\n",
       "       'axé', 'baile', 'balkan', 'beats', 'bigroom', 'black', 'bluegrass',\n",
       "       'blues', 'bollywood', 'bossa', 'brazilian', 'breakbeat', 'breaks',\n",
       "       'broadway', 'cantautori', 'cantopop', 'canzone', 'caribbean',\n",
       "       'caucasian', 'celtic', 'chamber', 'chanson', 'children', 'chill',\n",
       "       'chinese', 'choral', 'christian', 'christmas', 'classical',\n",
       "       'classicmetal', 'club', 'colombian', 'comedy', 'conjazz',\n",
       "       'contemporary', 'country', 'cuban', 'dance', 'dancehall',\n",
       "       'dancepop', 'dark', 'death', 'deep', 'deutschrock', 'deutschspr',\n",
       "       'dirty', 'disco', 'dnb', 'documentary', 'downbeat', 'downtempo',\n",
       "       'drum', 'dub', 'dubstep', 'eastern', 'easy', 'electronic',\n",
       "       'electropop', 'emo', 'entehno', 'epicmetal', 'estrada', 'ethnic',\n",
       "       'eurofolk', 'european', 'experimental', 'extrememetal', 'fado',\n",
       "       'fairytail', 'film', 'fitness', 'flamenco', 'folk', 'folklore',\n",
       "       'folkmetal', 'folkrock', 'folktronica', 'forró', 'frankreich',\n",
       "       'französisch', 'french', 'funk', 'future', 'gangsta', 'garage',\n",
       "       'german', 'ghazal', 'gitarre', 'glitch', 'gospel', 'gothic',\n",
       "       'grime', 'grunge', 'gypsy', 'handsup', \"hard'n'heavy\", 'hardcore',\n",
       "       'hardstyle', 'hardtechno', 'hiphop', 'historisch', 'holiday',\n",
       "       'horror', 'house', 'hymn', 'idm', 'independent', 'indian', 'indie',\n",
       "       'indipop', 'industrial', 'inspirational', 'instrumental',\n",
       "       'international', 'irish', 'jam', 'japanese', 'jazz', 'jewish',\n",
       "       'jpop', 'jungle', 'k-pop', 'karadeniz', 'karaoke', 'kayokyoku',\n",
       "       'korean', 'laiko', 'latin', 'latino', 'leftfield', 'local',\n",
       "       'lounge', 'loungeelectronic', 'lovers', 'malaysian', 'mandopop',\n",
       "       'marschmusik', 'meditative', 'mediterranean', 'melodic', 'metal',\n",
       "       'metalcore', 'mexican', 'middle', 'minimal', 'miscellaneous',\n",
       "       'modern', 'mood', 'mpb', 'muslim', 'native', 'neoklassik', 'neue',\n",
       "       'new', 'newage', 'newwave', 'nu', 'nujazz', 'numetal', 'oceania',\n",
       "       'old', 'opera', 'orchestral', 'other', 'piano', 'podcasts', 'pop',\n",
       "       'popdance', 'popelectronic', 'popeurodance', 'poprussian', 'post',\n",
       "       'posthardcore', 'postrock', 'power', 'progmetal', 'progressive',\n",
       "       'psychedelic', 'punjabi', 'punk', 'quebecois', 'ragga', 'ram',\n",
       "       'rancheras', 'rap', 'rave', 'reggae', 'reggaeton', 'regional',\n",
       "       'relax', 'religious', 'retro', 'rhythm', 'rnb', 'rnr', 'rock',\n",
       "       'rockabilly', 'rockalternative', 'rockindie', 'rockother',\n",
       "       'romance', 'roots', 'ruspop', 'rusrap', 'rusrock', 'russian',\n",
       "       'salsa', 'samba', 'scenic', 'schlager', 'self', 'sertanejo',\n",
       "       'shanson', 'shoegazing', 'showtunes', 'singer', 'ska', 'skarock',\n",
       "       'slow', 'smooth', 'soft', 'soul', 'soulful', 'sound', 'soundtrack',\n",
       "       'southern', 'specialty', 'speech', 'spiritual', 'sport',\n",
       "       'stonerrock', 'surf', 'swing', 'synthpop', 'synthrock',\n",
       "       'sängerportrait', 'tango', 'tanzorchester', 'taraftar', 'tatar',\n",
       "       'tech', 'techno', 'teen', 'thrash', 'top', 'traditional',\n",
       "       'tradjazz', 'trance', 'tribal', 'trip', 'triphop', 'tropical',\n",
       "       'türk', 'türkçe', 'ukrrock', 'unknown', 'urban', 'uzbek',\n",
       "       'variété', 'vi', 'videogame', 'vocal', 'western', 'world',\n",
       "       'worldbeat', 'ïîï', 'электроника'], dtype=object)"
      ]
     },
     "execution_count": 17,
     "metadata": {},
     "output_type": "execute_result"
    }
   ],
   "source": [
    "# Проверка на неявные дубликаты\n",
    "df['genre'].sort_values().unique()"
   ]
  },
  {
   "cell_type": "markdown",
   "metadata": {
    "deletable": false,
    "editable": false,
    "id": "jz6a9-7HQUDd"
   },
   "source": [
    "**Выводы**\n",
    "\n",
    "Предобработка обнаружила три проблемы в данных:\n",
    "\n",
    "- нарушения в стиле заголовков,\n",
    "- пропущенные значения,\n",
    "- дубликаты — явные и неявные.\n",
    "\n",
    "Вы исправили заголовки, чтобы упростить работу с таблицей. Без дубликатов исследование станет более точным.\n",
    "\n",
    "Пропущенные значения вы заменили на `'unknown'`. Ещё предстоит увидеть, не повредят ли исследованию пропуски в колонке `genre`.\n",
    "\n",
    "Теперь можно перейти к проверке гипотез. "
   ]
  },
  {
   "cell_type": "markdown",
   "metadata": {
    "deletable": false,
    "editable": false,
    "id": "WttZHXH0SqKk"
   },
   "source": [
    "## Проверка гипотез"
   ]
  },
  {
   "cell_type": "markdown",
   "metadata": {
    "deletable": false,
    "editable": false,
    "id": "Im936VVi_Zcu"
   },
   "source": [
    "### Сравнение поведения пользователей двух столиц"
   ]
  },
  {
   "cell_type": "markdown",
   "metadata": {
    "deletable": false,
    "editable": false,
    "id": "nwt_MuaL_Zcu"
   },
   "source": [
    "Первая гипотеза утверждает, что пользователи по-разному слушают музыку в Москве и Санкт-Петербурге. Проверьте это предположение по данным о трёх днях недели — понедельнике, среде и пятнице. Для этого:\n",
    "\n",
    "* Разделите пользователей Москвы и Санкт-Петербурга.\n",
    "* Сравните, сколько треков послушала каждая группа пользователей в понедельник, среду и пятницу.\n"
   ]
  },
  {
   "cell_type": "markdown",
   "metadata": {
    "deletable": false,
    "editable": false,
    "id": "8Dw_YMmT_Zcu",
    "tags": [
     "start_task"
    ]
   },
   "source": [
    "**Задание 18**\n",
    "\n",
    "Для тренировки сначала выполните каждый из расчётов по отдельности. \n",
    "\n",
    "Оцените активность пользователей в каждом городе. Сгруппируйте данные по городу и посчитайте прослушивания в каждой группе.\n",
    "\n"
   ]
  },
  {
   "cell_type": "code",
   "execution_count": 18,
   "metadata": {
    "deletable": false,
    "id": "0_Qs96oh_Zcu"
   },
   "outputs": [
    {
     "data": {
      "text/plain": [
       "city\n",
       "Moscow              42741\n",
       "Saint-Petersburg    18512\n",
       "Name: city, dtype: int64"
      ]
     },
     "execution_count": 18,
     "metadata": {},
     "output_type": "execute_result"
    }
   ],
   "source": [
    "# Подсчёт прослушиваний в каждом городе\n",
    "df.groupby('city')['city'].count()"
   ]
  },
  {
   "cell_type": "markdown",
   "metadata": {
    "deletable": false,
    "editable": false,
    "id": "dzli3w8o_Zcu",
    "tags": [
     "start_task"
    ]
   },
   "source": [
    "В Москве прослушиваний больше, чем в Петербурге. Из этого не следует, что московские пользователи чаще слушают музыку. Просто самих пользователей в Москве больше.\n",
    "\n",
    "**Задание 19**\n",
    "\n",
    "Теперь сгруппируйте данные по дню недели и посчитайте прослушивания в понедельник, среду и пятницу. Учтите, что в данных есть информация о прослушиваниях только за эти дни.\n"
   ]
  },
  {
   "cell_type": "code",
   "execution_count": 19,
   "metadata": {
    "deletable": false,
    "id": "uZMKjiJz_Zcu"
   },
   "outputs": [
    {
     "data": {
      "text/plain": [
       "day\n",
       "Friday       21840\n",
       "Monday       21354\n",
       "Wednesday    18059\n",
       "Name: day, dtype: int64"
      ]
     },
     "execution_count": 19,
     "metadata": {},
     "output_type": "execute_result"
    }
   ],
   "source": [
    "# Подсчёт прослушиваний в каждый из трёх дней\n",
    "df.groupby('day')['day'].count()"
   ]
  },
  {
   "cell_type": "markdown",
   "metadata": {
    "deletable": false,
    "editable": false,
    "id": "cC2tNrlL_Zcu"
   },
   "source": [
    "В среднем пользователи из двух городов менее активны по средам. Но картина может измениться, если рассмотреть каждый город в отдельности."
   ]
  },
  {
   "cell_type": "markdown",
   "metadata": {
    "deletable": false,
    "editable": false,
    "id": "POzs8bGa_Zcu",
    "tags": [
     "start_task"
    ]
   },
   "source": [
    "**Задание 20**\n",
    "\n",
    "\n",
    "Вы видели, как работает группировка по городу и по дням недели. Теперь напишите функцию, которая объединит два эти расчёта.\n",
    "\n",
    "Создайте функцию `number_tracks()`, которая посчитает прослушивания для заданного дня и города. Ей понадобятся два параметра:\n",
    "* день недели,\n",
    "* название города.\n",
    "\n",
    "В функции сохраните в переменную строки исходной таблицы, у которых значение:\n",
    "  * в колонке `day` равно параметру `day`,\n",
    "  * в колонке `city` равно параметру `city`.\n",
    "\n",
    "Для этого примените последовательную фильтрацию с логической индексацией (или сложные логические выражения в одну строку, если вы уже знакомы с ними).\n",
    "\n",
    "Затем посчитайте значения в столбце `user_id` получившейся таблицы. Результат сохраните в новую переменную. Верните эту переменную из функции."
   ]
  },
  {
   "cell_type": "code",
   "execution_count": 20,
   "metadata": {
    "deletable": false,
    "id": "Nz3GdQB1_Zcu"
   },
   "outputs": [
    {
     "data": {
      "text/plain": [
       "15740"
      ]
     },
     "execution_count": 20,
     "metadata": {},
     "output_type": "execute_result"
    }
   ],
   "source": [
    "# <создание функции number_tracks()>\n",
    "# Объявляется функция с двумя параметрами: day, city.\n",
    "# В переменной track_list сохраняются те строки таблицы df, для которых \n",
    "# значение в столбце 'day' равно параметру day и одновременно значение\n",
    "# в столбце 'city' равно параметру city (используйте последовательную фильтрацию\n",
    "# с помощью логической индексации или сложные логические выражения в одну строку, если вы уже знакомы с ними).\n",
    "# В переменной track_list_count сохраняется число значений столбца 'user_id',\n",
    "# рассчитанное методом count() для таблицы track_list.\n",
    "# Функция возвращает число - значение track_list_count.\n",
    "\n",
    "def number_tracks(day, city):\n",
    "    track_list = df[df['city'] == city]\n",
    "    track_list = track_list[track_list['day'] == day]\n",
    "    track_list_count = track_list['user_id'].count()\n",
    "    return track_list_count\n",
    "\n",
    "number_tracks('Monday', 'Moscow')"
   ]
  },
  {
   "cell_type": "markdown",
   "metadata": {
    "deletable": false,
    "editable": false,
    "id": "ytf7xFrFJQ2r",
    "tags": [
     "start_task"
    ]
   },
   "source": [
    "**Задание 21**\n",
    "\n",
    "Вызовите `number_tracks()` шесть раз, меняя значение параметров — так, чтобы получить данные для каждого города в каждый из трёх дней."
   ]
  },
  {
   "cell_type": "code",
   "execution_count": 21,
   "metadata": {
    "deletable": false,
    "id": "rJcRATNQ_Zcu"
   },
   "outputs": [
    {
     "data": {
      "text/plain": [
       "15740"
      ]
     },
     "execution_count": 21,
     "metadata": {},
     "output_type": "execute_result"
    }
   ],
   "source": [
    "# количество прослушиваний в Москве по понедельникам\n",
    "number_tracks('Monday', 'Moscow')"
   ]
  },
  {
   "cell_type": "code",
   "execution_count": 22,
   "metadata": {
    "deletable": false,
    "id": "hq_ncZ5T_Zcu"
   },
   "outputs": [
    {
     "data": {
      "text/plain": [
       "5614"
      ]
     },
     "execution_count": 22,
     "metadata": {},
     "output_type": "execute_result"
    }
   ],
   "source": [
    "# количество прослушиваний в Санкт-Петербурге по понедельникам\n",
    "number_tracks('Monday', 'Saint-Petersburg')"
   ]
  },
  {
   "cell_type": "code",
   "execution_count": 23,
   "metadata": {
    "deletable": false,
    "id": "_NTy2VPU_Zcu"
   },
   "outputs": [
    {
     "data": {
      "text/plain": [
       "11056"
      ]
     },
     "execution_count": 23,
     "metadata": {},
     "output_type": "execute_result"
    }
   ],
   "source": [
    "# количество прослушиваний в Москве по средам\n",
    "number_tracks('Wednesday', 'Moscow')"
   ]
  },
  {
   "cell_type": "code",
   "execution_count": 24,
   "metadata": {
    "deletable": false,
    "id": "j2y3TAwo_Zcu"
   },
   "outputs": [
    {
     "data": {
      "text/plain": [
       "7003"
      ]
     },
     "execution_count": 24,
     "metadata": {},
     "output_type": "execute_result"
    }
   ],
   "source": [
    "# количество прослушиваний в Санкт-Петербурге по средам\n",
    "number_tracks('Wednesday', 'Saint-Petersburg')"
   ]
  },
  {
   "cell_type": "code",
   "execution_count": 25,
   "metadata": {
    "deletable": false,
    "id": "vYDw5u_K_Zcu"
   },
   "outputs": [
    {
     "data": {
      "text/plain": [
       "15945"
      ]
     },
     "execution_count": 25,
     "metadata": {},
     "output_type": "execute_result"
    }
   ],
   "source": [
    "# количество прослушиваний в Москве по пятницам\n",
    "number_tracks('Friday', 'Moscow')"
   ]
  },
  {
   "cell_type": "code",
   "execution_count": 26,
   "metadata": {
    "deletable": false,
    "id": "8_yzFtW3_Zcu"
   },
   "outputs": [
    {
     "data": {
      "text/plain": [
       "5895"
      ]
     },
     "execution_count": 26,
     "metadata": {},
     "output_type": "execute_result"
    }
   ],
   "source": [
    "# количество прослушиваний в Санкт-Петербурге по пятницам\n",
    "number_tracks('Friday', 'Saint-Petersburg')"
   ]
  },
  {
   "cell_type": "markdown",
   "metadata": {
    "deletable": false,
    "editable": false,
    "id": "7QXffbO-_Zcu",
    "tags": [
     "start_task"
    ]
   },
   "source": [
    "**Задание 22**\n",
    "\n",
    "Создайте c помощью конструктора `pd.DataFrame` таблицу, где\n",
    "* названия колонок — `['city', 'monday', 'wednesday', 'friday']`;\n",
    "* данные — результаты, которые вы получили с помощью `number_tracks`."
   ]
  },
  {
   "cell_type": "code",
   "execution_count": 27,
   "metadata": {
    "deletable": false,
    "id": "APAcLpOr_Zcu"
   },
   "outputs": [
    {
     "data": {
      "text/html": [
       "<div>\n",
       "<style scoped>\n",
       "    .dataframe tbody tr th:only-of-type {\n",
       "        vertical-align: middle;\n",
       "    }\n",
       "\n",
       "    .dataframe tbody tr th {\n",
       "        vertical-align: top;\n",
       "    }\n",
       "\n",
       "    .dataframe thead th {\n",
       "        text-align: right;\n",
       "    }\n",
       "</style>\n",
       "<table border=\"1\" class=\"dataframe\">\n",
       "  <thead>\n",
       "    <tr style=\"text-align: right;\">\n",
       "      <th></th>\n",
       "      <th>city</th>\n",
       "      <th>monday</th>\n",
       "      <th>wednesday</th>\n",
       "      <th>friday</th>\n",
       "    </tr>\n",
       "  </thead>\n",
       "  <tbody>\n",
       "    <tr>\n",
       "      <th>0</th>\n",
       "      <td>Москва</td>\n",
       "      <td>15740</td>\n",
       "      <td>11056</td>\n",
       "      <td>15945</td>\n",
       "    </tr>\n",
       "    <tr>\n",
       "      <th>1</th>\n",
       "      <td>Санкт-Петербург</td>\n",
       "      <td>5614</td>\n",
       "      <td>7003</td>\n",
       "      <td>5895</td>\n",
       "    </tr>\n",
       "  </tbody>\n",
       "</table>\n",
       "</div>"
      ],
      "text/plain": [
       "              city  monday  wednesday  friday\n",
       "0           Москва   15740      11056   15945\n",
       "1  Санкт-Петербург    5614       7003    5895"
      ]
     },
     "execution_count": 27,
     "metadata": {},
     "output_type": "execute_result"
    }
   ],
   "source": [
    "# Таблица с результатами\n",
    "pd.DataFrame(data=[['Москва', 15740, 11056, 15945], ['Санкт-Петербург', 5614, 7003, 5895]], columns=['city', 'monday', 'wednesday', 'friday'])\n"
   ]
  },
  {
   "cell_type": "markdown",
   "metadata": {
    "deletable": false,
    "editable": false,
    "id": "-EgPIHYu_Zcu"
   },
   "source": [
    "**Выводы**\n",
    "\n",
    "Данные показывают разницу поведения пользователей:\n",
    "\n",
    "- В Москве пик прослушиваний приходится на понедельник и пятницу, а в среду заметен спад.\n",
    "- В Петербурге, наоборот, больше слушают музыку по средам. Активность в понедельник и пятницу здесь почти в равной мере уступает среде.\n",
    "\n",
    "Значит, данные говорят в пользу первой гипотезы."
   ]
  },
  {
   "cell_type": "markdown",
   "metadata": {
    "deletable": false,
    "editable": false,
    "id": "atZAxtq4_Zcu"
   },
   "source": [
    "### Музыка в начале и в конце недели"
   ]
  },
  {
   "cell_type": "markdown",
   "metadata": {
    "deletable": false,
    "editable": false,
    "id": "eXrQqXFH_Zcu"
   },
   "source": [
    "Согласно второй гипотезе, утром в понедельник в Москве преобладают одни жанры, а в Петербурге — другие. Так же и вечером пятницы преобладают разные жанры — в зависимости от города."
   ]
  },
  {
   "cell_type": "markdown",
   "metadata": {
    "deletable": false,
    "editable": false,
    "id": "S8UcW6Hw_Zcu",
    "tags": [
     "start_task"
    ]
   },
   "source": [
    "**Задание 23**\n",
    "\n",
    "Сохраните таблицы с данными в две переменные:\n",
    "* по Москве — в `moscow_general`;\n",
    "* по Санкт-Петербургу — в `spb_general`."
   ]
  },
  {
   "cell_type": "code",
   "execution_count": 28,
   "metadata": {
    "deletable": false,
    "id": "qeaFfM_P_Zcu"
   },
   "outputs": [],
   "source": [
    "# получение таблицы moscow_general из тех строк таблицы df, \n",
    "# для которых значение в столбце 'city' равно 'Moscow'\n",
    "moscow_general = df[df['city'] == 'Moscow']\n"
   ]
  },
  {
   "cell_type": "code",
   "execution_count": 29,
   "metadata": {
    "deletable": false,
    "id": "ORaVRKto_Zcu"
   },
   "outputs": [],
   "source": [
    "# получение таблицы spb_general из тех строк таблицы df,\n",
    "# для которых значение в столбце 'city' равно 'Saint-Petersburg'\n",
    "spb_general = df[df['city'] == 'Saint-Petersburg']\n"
   ]
  },
  {
   "cell_type": "markdown",
   "metadata": {
    "deletable": false,
    "editable": false,
    "id": "MEJV-CX2_Zcu",
    "tags": [
     "start_task"
    ]
   },
   "source": [
    "**Задание 24**\n",
    "\n",
    "Создайте функцию `genre_weekday()` с четырьмя параметрами:\n",
    "* таблица (датафрейм) с данными,\n",
    "* день недели,\n",
    "* начальная временная метка в формате 'hh:mm', \n",
    "* последняя временная метка в формате 'hh:mm'.\n",
    "\n",
    "Функция должна вернуть информацию о топ-10 жанров тех треков, которые прослушивали в указанный день, в промежутке между двумя отметками времени."
   ]
  },
  {
   "cell_type": "code",
   "execution_count": 33,
   "metadata": {
    "deletable": false,
    "id": "laJT9BYl_Zcu"
   },
   "outputs": [],
   "source": [
    "# Объявление функции genre_weekday() с параметрами table, day, time1, time2,\n",
    "# которая возвращает информацию о самых популярных жанрах в указанный день в\n",
    "# заданное время:\n",
    "# 1) в переменную genre_df сохраняются те строки переданного датафрейма table, для\n",
    "#    которых одновременно:\n",
    "#    - значение в столбце day равно значению аргумента day\n",
    "#    - значение в столбце time больше значения аргумента time1\n",
    "#    - значение в столбце time меньше значения аргумента time2\n",
    "#    Используйте последовательную фильтрацию с помощью логической индексации.\n",
    "# 2) сгруппировать датафрейм genre_df по столбцу genre, взять один из его\n",
    "#    столбцов и посчитать методом count() количество записей для каждого из\n",
    "#    присутствующих жанров, получившийся Series записать в переменную\n",
    "#    genre_df_count\n",
    "# 3) отсортировать genre_df_count по убыванию встречаемости и сохранить\n",
    "#    в переменную genre_df_sorted\n",
    "# 4) вернуть Series из 10 первых значений genre_df_sorted, это будут топ-10\n",
    "#    популярных жанров (в указанный день, в заданное время)\n",
    "\n",
    "def genre_weekday(df, day, time1, time2):\n",
    "    # последовательная фильтрация\n",
    "    # оставляем в genre_df только те строки df, у которых день равен day\n",
    "    genre_df = df[df['day'] == day]\n",
    "    # оставляем в genre_df только те строки genre_df, у которых время меньше time2\n",
    "    genre_df = genre_df[genre_df['time'] < time2]\n",
    "    # оставляем в genre_df только те строки genre_df, у которых время больше time1\n",
    "    genre_df = genre_df[genre_df['time'] > time1]\n",
    "    # сгруппируем отфильтрованный датафрейм по столбцу с названиями жанров, возьмём столбец genre и посчитаем кол-во строк для каждого жанра методом count()\n",
    "    genre_df_grouped = genre_df.groupby('genre')['genre'].count()\n",
    "    # отсортируем результат по убыванию (чтобы в начале Series оказались самые популярные жанры)\n",
    "    genre_df_sorted = genre_df_grouped.sort_values(ascending=False)\n",
    "    # вернём Series с 10 самыми популярными жанрами в указанный отрезок времени заданного дня\n",
    "    return genre_df_sorted[:10]"
   ]
  },
  {
   "cell_type": "markdown",
   "metadata": {
    "deletable": false,
    "editable": false,
    "id": "la2s2_PF_Zcu",
    "tags": [
     "start_task"
    ]
   },
   "source": [
    "**Задание 25**\n",
    "\n",
    "\n",
    "Cравните результаты функции `genre_weekday()` для Москвы и Санкт-Петербурга в понедельник утром (с 7:00 до 11:00) и в пятницу вечером (с 17:00 до 23:00):"
   ]
  },
  {
   "cell_type": "code",
   "execution_count": 45,
   "metadata": {
    "deletable": false,
    "id": "yz7itPUQ_Zcu"
   },
   "outputs": [
    {
     "data": {
      "text/plain": [
       "genre\n",
       "pop            781\n",
       "dance          549\n",
       "electronic     480\n",
       "rock           474\n",
       "hiphop         286\n",
       "ruspop         186\n",
       "world          181\n",
       "rusrap         175\n",
       "alternative    164\n",
       "unknown        161\n",
       "Name: genre, dtype: int64"
      ]
     },
     "execution_count": 45,
     "metadata": {},
     "output_type": "execute_result"
    }
   ],
   "source": [
    "# вызов функции для утра понедельника в Москве (вместо df — таблица moscow_general)\n",
    "# объекты, хранящие время, являются строками и сравниваются как строки\n",
    "# пример вызова: genre_weekday(moscow_general, 'Monday', '07:00', '11:00')\n",
    "genre_weekday(moscow_general, 'Monday', '07:00', '11:00')"
   ]
  },
  {
   "cell_type": "code",
   "execution_count": 47,
   "metadata": {
    "deletable": false,
    "id": "kwUcHPdy_Zcu"
   },
   "outputs": [
    {
     "data": {
      "text/plain": [
       "genre\n",
       "pop            218\n",
       "dance          182\n",
       "rock           162\n",
       "electronic     147\n",
       "hiphop          80\n",
       "ruspop          64\n",
       "alternative     58\n",
       "rusrap          55\n",
       "jazz            44\n",
       "classical       40\n",
       "Name: genre, dtype: int64"
      ]
     },
     "execution_count": 47,
     "metadata": {},
     "output_type": "execute_result"
    }
   ],
   "source": [
    "# вызов функции для утра понедельника в Петербурге (вместо df — таблица spb_general)\n",
    "genre_weekday(spb_general, 'Monday', '07:00', '11:00')"
   ]
  },
  {
   "cell_type": "code",
   "execution_count": 48,
   "metadata": {
    "deletable": false,
    "id": "EzXVRE1o_Zcu"
   },
   "outputs": [
    {
     "data": {
      "text/plain": [
       "genre\n",
       "pop            713\n",
       "rock           517\n",
       "dance          495\n",
       "electronic     482\n",
       "hiphop         273\n",
       "world          208\n",
       "ruspop         170\n",
       "alternative    163\n",
       "classical      163\n",
       "rusrap         142\n",
       "Name: genre, dtype: int64"
      ]
     },
     "execution_count": 48,
     "metadata": {},
     "output_type": "execute_result"
    }
   ],
   "source": [
    "# вызов функции для вечера пятницы в Москве\n",
    "genre_weekday(moscow_general, 'Friday', '17:00', '23:00')"
   ]
  },
  {
   "cell_type": "code",
   "execution_count": 50,
   "metadata": {
    "deletable": false,
    "id": "JZaEKu5v_Zcu"
   },
   "outputs": [
    {
     "data": {
      "text/plain": [
       "genre\n",
       "pop            256\n",
       "electronic     216\n",
       "rock           216\n",
       "dance          210\n",
       "hiphop          97\n",
       "alternative     63\n",
       "jazz            61\n",
       "classical       60\n",
       "rusrap          59\n",
       "world           54\n",
       "Name: genre, dtype: int64"
      ]
     },
     "execution_count": 50,
     "metadata": {},
     "output_type": "execute_result"
    }
   ],
   "source": [
    "# вызов функции для вечера пятницы в Петербурге\n",
    "genre_weekday(spb_general, 'Friday', '17:00', '23:00')"
   ]
  },
  {
   "cell_type": "markdown",
   "metadata": {
    "deletable": false,
    "editable": false,
    "id": "wrCe4MNX_Zcu"
   },
   "source": [
    "**Выводы**\n",
    "\n",
    "Если сравнить топ-10 жанров в понедельник утром, можно сделать такие выводы:\n",
    "\n",
    "1. В Москве и Петербурге слушают похожую музыку. Единственное отличие — в московский рейтинг вошёл жанр “world”, а в петербургский — джаз и классика.\n",
    "\n",
    "2. В Москве пропущенных значений оказалось так много, что значение `'unknown'` заняло десятое место среди самых популярных жанров. Значит, пропущенные значения занимают существенную долю в данных и угрожают достоверности исследования.\n",
    "\n",
    "Вечер пятницы не меняет эту картину. Некоторые жанры поднимаются немного выше, другие спускаются, но в целом топ-10 остаётся тем же самым.\n",
    "\n",
    "Таким образом, вторая гипотеза подтвердилась лишь частично:\n",
    "* Пользователи слушают похожую музыку в начале недели и в конце.\n",
    "* Разница между Москвой и Петербургом не слишком выражена. В Москве чаще слушают русскую популярную музыку, в Петербурге — джаз.\n",
    "\n",
    "Однако пропуски в данных ставят под сомнение этот результат. В Москве их так много, что рейтинг топ-10 мог бы выглядеть иначе, если бы не утерянные  данные о жанрах."
   ]
  },
  {
   "cell_type": "markdown",
   "metadata": {
    "deletable": false,
    "editable": false,
    "id": "JolODAqr_Zcu"
   },
   "source": [
    "### Жанровые предпочтения в Москве и Петербурге\n",
    "\n",
    "Гипотеза: Петербург — столица рэпа, музыку этого жанра там слушают чаще, чем в Москве.  А Москва — город контрастов, в котором, тем не менее, преобладает поп-музыка."
   ]
  },
  {
   "cell_type": "markdown",
   "metadata": {
    "deletable": false,
    "editable": false,
    "id": "DlegSvaT_Zcu",
    "tags": [
     "start_task"
    ]
   },
   "source": [
    "**Задание 26**\n",
    "\n",
    "Сгруппируйте таблицу `moscow_general` по жанру и посчитайте прослушивания треков каждого жанра методом `count()`. Затем отсортируйте результат в порядке убывания и сохраните его в таблице `moscow_genres`."
   ]
  },
  {
   "cell_type": "code",
   "execution_count": 70,
   "metadata": {
    "deletable": false,
    "id": "r19lIPke_Zcu"
   },
   "outputs": [],
   "source": [
    "# одной строкой: группировка таблицы moscow_general по столбцу 'genre', \n",
    "# подсчёт числа значений 'genre' в этой группировке методом count(), \n",
    "# сортировка получившегося Series в порядке убывания и сохранение в moscow_genres\n",
    "moscow_genres = moscow_general.groupby('genre')['genre'].count().sort_values(ascending=False)\n"
   ]
  },
  {
   "cell_type": "markdown",
   "metadata": {
    "deletable": false,
    "editable": false,
    "id": "6kMuomxTiIr8",
    "tags": [
     "start_task"
    ]
   },
   "source": [
    "**Задание 27**\n",
    "\n",
    "Выведите на экран первые десять строк `moscow_genres`:"
   ]
  },
  {
   "cell_type": "code",
   "execution_count": 72,
   "metadata": {
    "deletable": false,
    "id": "WhCSooF8_Zcv"
   },
   "outputs": [
    {
     "data": {
      "text/plain": [
       "genre\n",
       "pop            5892\n",
       "dance          4435\n",
       "rock           3965\n",
       "electronic     3786\n",
       "hiphop         2096\n",
       "classical      1616\n",
       "world          1432\n",
       "alternative    1379\n",
       "ruspop         1372\n",
       "rusrap         1161\n",
       "Name: genre, dtype: int64"
      ]
     },
     "execution_count": 72,
     "metadata": {},
     "output_type": "execute_result"
    }
   ],
   "source": [
    "# просмотр первых 10 строк moscow_genres\n",
    "moscow_genres.head(10)"
   ]
  },
  {
   "cell_type": "markdown",
   "metadata": {
    "deletable": false,
    "editable": false,
    "id": "cnPG2vnN_Zcv",
    "tags": [
     "start_task"
    ]
   },
   "source": [
    "**Задание 28**\n",
    "\n",
    "\n",
    "Теперь повторите то же и для Петербурга.\n",
    "\n",
    "Сгруппируйте таблицу `spb_general` по жанру. Посчитайте прослушивания треков каждого жанра. Результат отсортируйте в порядке убывания и сохраните в таблице `spb_genres`:\n"
   ]
  },
  {
   "cell_type": "code",
   "execution_count": 73,
   "metadata": {
    "deletable": false,
    "id": "gluLIpE7_Zcv"
   },
   "outputs": [],
   "source": [
    "# одной строкой: группировка таблицы spb_general по столбцу 'genre', \n",
    "# подсчёт числа значений 'genre' в этой группировке методом count(), \n",
    "# сортировка получившегося Series в порядке убывания и сохранение в spb_genres\n",
    "spb_genres = spb_general.groupby('genre')['genre'].count().sort_values(ascending=False)"
   ]
  },
  {
   "cell_type": "markdown",
   "metadata": {
    "deletable": false,
    "editable": false,
    "id": "5Doha_ODgyQ8",
    "tags": [
     "start_task"
    ]
   },
   "source": [
    "**Задание 29**\n",
    "\n",
    "Выведите на экран первые десять строк `spb_genres`:"
   ]
  },
  {
   "cell_type": "code",
   "execution_count": 74,
   "metadata": {
    "deletable": false,
    "id": "uaGJHjVU_Zcv"
   },
   "outputs": [
    {
     "data": {
      "text/plain": [
       "genre\n",
       "pop            2431\n",
       "dance          1932\n",
       "rock           1879\n",
       "electronic     1736\n",
       "hiphop          960\n",
       "alternative     649\n",
       "classical       646\n",
       "rusrap          564\n",
       "ruspop          538\n",
       "world           515\n",
       "Name: genre, dtype: int64"
      ]
     },
     "execution_count": 74,
     "metadata": {},
     "output_type": "execute_result"
    }
   ],
   "source": [
    "# просмотр первых 10 строк spb_genres\n",
    "spb_genres.head(10)"
   ]
  },
  {
   "cell_type": "markdown",
   "metadata": {
    "deletable": false,
    "editable": false,
    "id": "RY51YJYu_Zcv"
   },
   "source": [
    "**Выводы**"
   ]
  },
  {
   "cell_type": "markdown",
   "metadata": {
    "deletable": false,
    "editable": false,
    "id": "nVhnJEm__Zcv"
   },
   "source": [
    "Гипотеза частично подтвердилась:\n",
    "* Поп-музыка — самый популярный жанр в Москве, как и предполагала гипотеза. Более того, в топ-10 жанров встречается близкий жанр — русская популярная музыка.\n",
    "* Вопреки ожиданиям, рэп одинаково популярен в Москве и Петербурге. \n"
   ]
  },
  {
   "cell_type": "markdown",
   "metadata": {
    "deletable": false,
    "editable": false,
    "id": "ykKQ0N65_Zcv"
   },
   "source": [
    "## Итоги исследования"
   ]
  },
  {
   "cell_type": "markdown",
   "metadata": {
    "deletable": false,
    "editable": false,
    "id": "tjUwbHb3_Zcv"
   },
   "source": [
    "Вы проверили три гипотезы и установили:\n",
    "\n",
    "1. День недели по-разному влияет на активность пользователей в Москве и Петербурге. \n",
    "\n",
    "Первая гипотеза полностью подтвердилась.\n",
    "\n",
    "2. Музыкальные предпочтения не сильно меняются в течение недели — будь то Москва или Петербург. Небольшие различия заметны в начале недели, по понедельникам:\n",
    "* в Москве слушают музыку жанра “world”,\n",
    "* в Петербурге — джаз и классику.\n",
    "\n",
    "Таким образом, вторая гипотеза подтвердилась лишь отчасти. Этот результат мог оказаться иным, если бы не пропуски в данных.\n",
    "\n",
    "3. Во вкусах пользователей Москвы и Петербурга больше общего чем различий. Вопреки ожиданиям, предпочтения жанров в Петербурге напоминают московские.\n",
    "\n",
    "Третья гипотеза не подтвердилась. Если различия в предпочтениях и существуют, на основной массе пользователей они незаметны.\n",
    "\n",
    "**На практике исследования содержат проверки статистических гипотез.**\n",
    "Из данных одного сервиса не всегда можно сделать вывод о всех жителях города.\n",
    "Проверки статистических гипотез покажут, насколько они достоверны, исходя из имеющихся данных. \n",
    "С методами проверок гипотез вы ещё познакомитесь в следующих темах."
   ]
  }
 ],
 "metadata": {
  "ExecuteTimeLog": [
   {
    "duration": 397,
    "start_time": "2022-09-28T18:59:57.478Z"
   },
   {
    "duration": 56,
    "start_time": "2022-09-28T19:01:49.037Z"
   },
   {
    "duration": 7,
    "start_time": "2022-09-28T19:01:59.202Z"
   },
   {
    "duration": 211,
    "start_time": "2022-09-28T19:04:06.696Z"
   },
   {
    "duration": 2,
    "start_time": "2022-09-28T19:04:09.770Z"
   },
   {
    "duration": 157,
    "start_time": "2022-09-28T19:04:10.246Z"
   },
   {
    "duration": 14,
    "start_time": "2022-09-28T19:04:10.974Z"
   },
   {
    "duration": 401,
    "start_time": "2022-09-28T19:04:49.486Z"
   },
   {
    "duration": 150,
    "start_time": "2022-09-28T19:04:49.888Z"
   },
   {
    "duration": 15,
    "start_time": "2022-09-28T19:04:50.040Z"
   },
   {
    "duration": 10,
    "start_time": "2022-09-28T19:04:50.057Z"
   },
   {
    "duration": 6,
    "start_time": "2022-09-28T19:04:50.069Z"
   },
   {
    "duration": 9,
    "start_time": "2022-09-28T19:04:50.076Z"
   },
   {
    "duration": 14,
    "start_time": "2022-09-28T19:04:50.087Z"
   },
   {
    "duration": 14,
    "start_time": "2022-09-28T19:04:50.103Z"
   },
   {
    "duration": 19,
    "start_time": "2022-09-28T19:04:50.119Z"
   },
   {
    "duration": 8,
    "start_time": "2022-09-28T19:04:50.140Z"
   },
   {
    "duration": 16,
    "start_time": "2022-09-28T19:04:50.149Z"
   },
   {
    "duration": 5,
    "start_time": "2022-09-28T19:04:50.166Z"
   },
   {
    "duration": 11,
    "start_time": "2022-09-28T19:04:50.173Z"
   },
   {
    "duration": 8,
    "start_time": "2022-09-28T19:04:50.185Z"
   },
   {
    "duration": 7,
    "start_time": "2022-09-28T19:04:50.195Z"
   },
   {
    "duration": 13,
    "start_time": "2022-09-28T19:04:50.203Z"
   },
   {
    "duration": 4,
    "start_time": "2022-09-28T19:04:50.218Z"
   },
   {
    "duration": 5,
    "start_time": "2022-09-28T19:04:50.223Z"
   },
   {
    "duration": 8,
    "start_time": "2022-09-28T19:04:50.230Z"
   },
   {
    "duration": 11,
    "start_time": "2022-09-28T19:04:50.239Z"
   },
   {
    "duration": 13,
    "start_time": "2022-09-28T19:04:50.251Z"
   },
   {
    "duration": 7,
    "start_time": "2022-09-28T19:04:50.265Z"
   },
   {
    "duration": 5,
    "start_time": "2022-09-28T19:04:50.273Z"
   },
   {
    "duration": 9,
    "start_time": "2022-09-28T19:04:50.280Z"
   },
   {
    "duration": 14,
    "start_time": "2022-09-28T19:04:50.291Z"
   },
   {
    "duration": 5,
    "start_time": "2022-09-28T19:04:50.307Z"
   },
   {
    "duration": 18,
    "start_time": "2022-09-28T19:04:50.313Z"
   },
   {
    "duration": 12,
    "start_time": "2022-09-28T19:04:50.334Z"
   },
   {
    "duration": 8,
    "start_time": "2022-09-28T19:04:50.347Z"
   },
   {
    "duration": 41,
    "start_time": "2022-09-28T19:04:50.356Z"
   },
   {
    "duration": 0,
    "start_time": "2022-09-28T19:04:50.399Z"
   },
   {
    "duration": 0,
    "start_time": "2022-09-28T19:04:50.400Z"
   },
   {
    "duration": 0,
    "start_time": "2022-09-28T19:04:50.402Z"
   },
   {
    "duration": 0,
    "start_time": "2022-09-28T19:04:50.403Z"
   },
   {
    "duration": 0,
    "start_time": "2022-09-28T19:04:50.404Z"
   },
   {
    "duration": 0,
    "start_time": "2022-09-28T19:04:50.405Z"
   },
   {
    "duration": 0,
    "start_time": "2022-09-28T19:04:50.407Z"
   },
   {
    "duration": 0,
    "start_time": "2022-09-28T19:04:50.408Z"
   },
   {
    "duration": 3,
    "start_time": "2022-09-28T19:05:54.564Z"
   },
   {
    "duration": 2,
    "start_time": "2022-09-28T19:05:56.609Z"
   },
   {
    "duration": 2,
    "start_time": "2022-09-28T19:05:59.270Z"
   },
   {
    "duration": 3,
    "start_time": "2022-09-28T19:06:09.508Z"
   },
   {
    "duration": 2,
    "start_time": "2022-09-28T19:06:10.713Z"
   },
   {
    "duration": 3,
    "start_time": "2022-09-28T19:06:14.142Z"
   },
   {
    "duration": 28,
    "start_time": "2022-09-28T19:06:49.927Z"
   },
   {
    "duration": 58,
    "start_time": "2022-09-28T19:10:18.547Z"
   },
   {
    "duration": 3,
    "start_time": "2022-09-28T19:10:55.876Z"
   },
   {
    "duration": 10,
    "start_time": "2022-09-28T19:14:58.961Z"
   },
   {
    "duration": 14,
    "start_time": "2022-09-28T19:15:11.771Z"
   },
   {
    "duration": 4,
    "start_time": "2022-09-28T19:16:43.565Z"
   },
   {
    "duration": 21,
    "start_time": "2022-09-28T19:17:23.297Z"
   },
   {
    "duration": 26,
    "start_time": "2022-09-28T19:30:45.004Z"
   },
   {
    "duration": 16,
    "start_time": "2022-09-28T19:30:48.347Z"
   },
   {
    "duration": 23,
    "start_time": "2022-09-28T19:31:25.077Z"
   },
   {
    "duration": 10,
    "start_time": "2022-09-28T19:32:12.014Z"
   },
   {
    "duration": 59,
    "start_time": "2022-09-28T19:32:49.127Z"
   },
   {
    "duration": 3,
    "start_time": "2022-09-28T19:33:09.320Z"
   },
   {
    "duration": 72,
    "start_time": "2022-09-28T19:33:33.143Z"
   },
   {
    "duration": 63,
    "start_time": "2022-09-28T19:33:59.919Z"
   },
   {
    "duration": 76,
    "start_time": "2022-09-28T19:34:07.003Z"
   },
   {
    "duration": 80,
    "start_time": "2022-09-28T19:34:17.412Z"
   },
   {
    "duration": 57,
    "start_time": "2022-09-28T19:34:20.735Z"
   },
   {
    "duration": 54,
    "start_time": "2022-09-28T19:34:53.720Z"
   },
   {
    "duration": 76,
    "start_time": "2022-09-28T19:34:56.383Z"
   },
   {
    "duration": 83,
    "start_time": "2022-09-28T19:35:20.952Z"
   },
   {
    "duration": 69,
    "start_time": "2022-09-28T19:35:24.223Z"
   },
   {
    "duration": 66,
    "start_time": "2022-09-28T19:35:26.074Z"
   },
   {
    "duration": 73,
    "start_time": "2022-09-28T19:35:38.972Z"
   },
   {
    "duration": 69,
    "start_time": "2022-09-28T19:35:47.456Z"
   },
   {
    "duration": 16,
    "start_time": "2022-09-28T19:36:08.029Z"
   },
   {
    "duration": 21,
    "start_time": "2022-09-28T19:36:10.125Z"
   },
   {
    "duration": 416,
    "start_time": "2022-09-28T19:36:18.211Z"
   },
   {
    "duration": 175,
    "start_time": "2022-09-28T19:36:18.629Z"
   },
   {
    "duration": 24,
    "start_time": "2022-09-28T19:36:18.806Z"
   },
   {
    "duration": 25,
    "start_time": "2022-09-28T19:36:18.832Z"
   },
   {
    "duration": 3,
    "start_time": "2022-09-28T19:36:18.859Z"
   },
   {
    "duration": 8,
    "start_time": "2022-09-28T19:36:18.863Z"
   },
   {
    "duration": 45,
    "start_time": "2022-09-28T19:36:18.873Z"
   },
   {
    "duration": 8,
    "start_time": "2022-09-28T19:36:18.919Z"
   },
   {
    "duration": 38,
    "start_time": "2022-09-28T19:36:18.928Z"
   },
   {
    "duration": 17,
    "start_time": "2022-09-28T19:36:18.969Z"
   },
   {
    "duration": 32,
    "start_time": "2022-09-28T19:36:18.987Z"
   },
   {
    "duration": 66,
    "start_time": "2022-09-28T19:36:19.021Z"
   },
   {
    "duration": 86,
    "start_time": "2022-09-28T19:36:19.100Z"
   },
   {
    "duration": 83,
    "start_time": "2022-09-28T19:36:19.187Z"
   },
   {
    "duration": 2,
    "start_time": "2022-09-28T19:36:19.272Z"
   },
   {
    "duration": 5,
    "start_time": "2022-09-28T19:36:19.276Z"
   },
   {
    "duration": 3,
    "start_time": "2022-09-28T19:36:19.300Z"
   },
   {
    "duration": 21,
    "start_time": "2022-09-28T19:36:19.305Z"
   },
   {
    "duration": 17,
    "start_time": "2022-09-28T19:36:19.328Z"
   },
   {
    "duration": 18,
    "start_time": "2022-09-28T19:36:19.346Z"
   },
   {
    "duration": 10,
    "start_time": "2022-09-28T19:36:19.365Z"
   },
   {
    "duration": 9,
    "start_time": "2022-09-28T19:36:19.376Z"
   },
   {
    "duration": 15,
    "start_time": "2022-09-28T19:36:19.387Z"
   },
   {
    "duration": 22,
    "start_time": "2022-09-28T19:36:19.405Z"
   },
   {
    "duration": 13,
    "start_time": "2022-09-28T19:36:19.429Z"
   },
   {
    "duration": 10,
    "start_time": "2022-09-28T19:36:19.444Z"
   },
   {
    "duration": 7,
    "start_time": "2022-09-28T19:36:19.456Z"
   },
   {
    "duration": 3,
    "start_time": "2022-09-28T19:36:19.466Z"
   },
   {
    "duration": 17,
    "start_time": "2022-09-28T19:36:19.470Z"
   },
   {
    "duration": 52,
    "start_time": "2022-09-28T19:36:19.489Z"
   },
   {
    "duration": 0,
    "start_time": "2022-09-28T19:36:19.542Z"
   },
   {
    "duration": 0,
    "start_time": "2022-09-28T19:36:19.543Z"
   },
   {
    "duration": 0,
    "start_time": "2022-09-28T19:36:19.544Z"
   },
   {
    "duration": 0,
    "start_time": "2022-09-28T19:36:19.545Z"
   },
   {
    "duration": 0,
    "start_time": "2022-09-28T19:36:19.546Z"
   },
   {
    "duration": 0,
    "start_time": "2022-09-28T19:36:19.547Z"
   },
   {
    "duration": 0,
    "start_time": "2022-09-28T19:36:19.548Z"
   },
   {
    "duration": 1,
    "start_time": "2022-09-28T19:36:19.549Z"
   },
   {
    "duration": 2,
    "start_time": "2022-09-28T19:38:14.153Z"
   },
   {
    "duration": 153,
    "start_time": "2022-09-28T19:38:40.334Z"
   },
   {
    "duration": 103,
    "start_time": "2022-09-28T19:38:48.659Z"
   },
   {
    "duration": 74,
    "start_time": "2022-09-28T19:39:09.609Z"
   },
   {
    "duration": 151,
    "start_time": "2022-09-28T19:39:44.480Z"
   },
   {
    "duration": 86,
    "start_time": "2022-09-28T19:40:15.894Z"
   },
   {
    "duration": 81,
    "start_time": "2022-09-28T19:40:20.114Z"
   },
   {
    "duration": 85,
    "start_time": "2022-09-28T19:40:23.384Z"
   },
   {
    "duration": 7,
    "start_time": "2022-09-28T20:55:17.658Z"
   },
   {
    "duration": 58,
    "start_time": "2022-09-28T20:56:46.668Z"
   },
   {
    "duration": 9,
    "start_time": "2022-09-28T20:57:07.624Z"
   },
   {
    "duration": 9,
    "start_time": "2022-09-28T20:57:09.639Z"
   },
   {
    "duration": 7,
    "start_time": "2022-09-28T20:57:19.222Z"
   },
   {
    "duration": 34,
    "start_time": "2022-09-28T20:57:27.095Z"
   },
   {
    "duration": 35,
    "start_time": "2022-09-28T20:57:36.711Z"
   },
   {
    "duration": 15,
    "start_time": "2022-09-28T21:01:14.735Z"
   },
   {
    "duration": 10,
    "start_time": "2022-09-28T21:01:28.261Z"
   },
   {
    "duration": 8,
    "start_time": "2022-09-28T21:02:06.227Z"
   },
   {
    "duration": 46,
    "start_time": "2022-09-28T21:02:20.486Z"
   },
   {
    "duration": 6,
    "start_time": "2022-09-28T21:21:05.153Z"
   },
   {
    "duration": 8,
    "start_time": "2022-09-28T21:21:16.139Z"
   },
   {
    "duration": 6,
    "start_time": "2022-09-28T21:21:21.708Z"
   },
   {
    "duration": 761,
    "start_time": "2022-09-28T21:21:33.735Z"
   },
   {
    "duration": 8,
    "start_time": "2022-09-28T21:21:40.751Z"
   },
   {
    "duration": 3,
    "start_time": "2022-09-28T21:24:26.991Z"
   },
   {
    "duration": 3,
    "start_time": "2022-09-28T21:24:29.113Z"
   },
   {
    "duration": 4,
    "start_time": "2022-09-28T21:24:43.459Z"
   },
   {
    "duration": 795,
    "start_time": "2022-09-28T21:24:52.780Z"
   },
   {
    "duration": 1232,
    "start_time": "2022-09-28T21:25:13.409Z"
   },
   {
    "duration": 1207,
    "start_time": "2022-09-28T21:25:31.022Z"
   },
   {
    "duration": 1145,
    "start_time": "2022-09-28T21:25:41.875Z"
   },
   {
    "duration": 1158,
    "start_time": "2022-09-28T21:25:46.676Z"
   },
   {
    "duration": 701,
    "start_time": "2022-09-28T21:26:11.117Z"
   },
   {
    "duration": 747,
    "start_time": "2022-09-28T21:26:39.468Z"
   },
   {
    "duration": 1001,
    "start_time": "2022-09-28T21:27:03.512Z"
   },
   {
    "duration": 57,
    "start_time": "2022-09-28T21:27:33.263Z"
   },
   {
    "duration": 1065,
    "start_time": "2022-09-28T21:27:40.786Z"
   },
   {
    "duration": 757,
    "start_time": "2022-09-28T21:28:43.195Z"
   },
   {
    "duration": 833,
    "start_time": "2022-09-28T21:29:26.667Z"
   },
   {
    "duration": 3,
    "start_time": "2022-09-28T21:29:41.961Z"
   },
   {
    "duration": 154,
    "start_time": "2022-09-28T21:29:41.965Z"
   },
   {
    "duration": 9,
    "start_time": "2022-09-28T21:29:42.121Z"
   },
   {
    "duration": 34,
    "start_time": "2022-09-28T21:29:42.132Z"
   },
   {
    "duration": 2,
    "start_time": "2022-09-28T21:29:42.168Z"
   },
   {
    "duration": 7,
    "start_time": "2022-09-28T21:29:42.171Z"
   },
   {
    "duration": 22,
    "start_time": "2022-09-28T21:29:42.179Z"
   },
   {
    "duration": 3,
    "start_time": "2022-09-28T21:29:42.202Z"
   },
   {
    "duration": 22,
    "start_time": "2022-09-28T21:29:42.207Z"
   },
   {
    "duration": 15,
    "start_time": "2022-09-28T21:29:42.230Z"
   },
   {
    "duration": 19,
    "start_time": "2022-09-28T21:29:42.247Z"
   },
   {
    "duration": 78,
    "start_time": "2022-09-28T21:29:42.267Z"
   },
   {
    "duration": 62,
    "start_time": "2022-09-28T21:29:42.347Z"
   },
   {
    "duration": 50,
    "start_time": "2022-09-28T21:29:42.411Z"
   },
   {
    "duration": 46,
    "start_time": "2022-09-28T21:29:42.462Z"
   },
   {
    "duration": 9,
    "start_time": "2022-09-28T21:29:42.510Z"
   },
   {
    "duration": 33,
    "start_time": "2022-09-28T21:29:42.520Z"
   },
   {
    "duration": 14,
    "start_time": "2022-09-28T21:29:52.903Z"
   },
   {
    "duration": 13,
    "start_time": "2022-09-28T21:30:11.072Z"
   },
   {
    "duration": 22,
    "start_time": "2022-09-28T21:30:33.673Z"
   },
   {
    "duration": 30,
    "start_time": "2022-09-28T21:31:47.128Z"
   },
   {
    "duration": 26,
    "start_time": "2022-09-28T21:32:15.033Z"
   },
   {
    "duration": 26,
    "start_time": "2022-09-28T21:33:37.021Z"
   },
   {
    "duration": 6,
    "start_time": "2022-09-28T21:34:31.409Z"
   },
   {
    "duration": 8,
    "start_time": "2022-09-28T21:34:54.493Z"
   },
   {
    "duration": 3,
    "start_time": "2022-09-28T21:35:07.945Z"
   },
   {
    "duration": 3,
    "start_time": "2022-09-28T21:35:09.049Z"
   },
   {
    "duration": 4,
    "start_time": "2022-09-28T21:35:16.670Z"
   },
   {
    "duration": 25,
    "start_time": "2022-09-28T21:35:26.749Z"
   },
   {
    "duration": 22,
    "start_time": "2022-09-28T21:35:35.648Z"
   },
   {
    "duration": 21,
    "start_time": "2022-09-28T21:35:42.174Z"
   },
   {
    "duration": 28,
    "start_time": "2022-09-28T21:36:02.392Z"
   },
   {
    "duration": 37,
    "start_time": "2022-09-28T21:36:18.991Z"
   },
   {
    "duration": 34,
    "start_time": "2022-09-28T21:36:29.149Z"
   },
   {
    "duration": 26,
    "start_time": "2022-09-28T21:36:37.640Z"
   },
   {
    "duration": 20,
    "start_time": "2022-09-28T21:37:24.323Z"
   },
   {
    "duration": 22,
    "start_time": "2022-09-28T21:37:45.452Z"
   },
   {
    "duration": 28,
    "start_time": "2022-09-28T21:37:49.232Z"
   },
   {
    "duration": 30,
    "start_time": "2022-09-28T21:38:00.456Z"
   },
   {
    "duration": 29,
    "start_time": "2022-09-28T21:38:04.540Z"
   },
   {
    "duration": 18,
    "start_time": "2022-09-28T21:38:19.900Z"
   },
   {
    "duration": 21,
    "start_time": "2022-09-28T21:43:46.189Z"
   },
   {
    "duration": 21,
    "start_time": "2022-09-28T21:43:56.150Z"
   },
   {
    "duration": 49,
    "start_time": "2022-09-28T21:44:06.560Z"
   },
   {
    "duration": 27,
    "start_time": "2022-09-28T21:44:57.200Z"
   },
   {
    "duration": 27,
    "start_time": "2022-09-28T21:45:01.498Z"
   },
   {
    "duration": 44,
    "start_time": "2022-09-28T21:45:13.987Z"
   },
   {
    "duration": 3,
    "start_time": "2022-09-28T21:45:50.816Z"
   },
   {
    "duration": 4,
    "start_time": "2022-09-28T21:45:53.461Z"
   },
   {
    "duration": 43,
    "start_time": "2022-09-28T21:45:59.434Z"
   },
   {
    "duration": 65,
    "start_time": "2022-09-28T21:46:23.821Z"
   },
   {
    "duration": 61,
    "start_time": "2022-09-28T21:46:29.510Z"
   },
   {
    "duration": 28,
    "start_time": "2022-09-28T21:46:37.632Z"
   },
   {
    "duration": 45,
    "start_time": "2022-09-28T21:47:24.032Z"
   },
   {
    "duration": 375,
    "start_time": "2022-09-28T21:47:37.222Z"
   },
   {
    "duration": 161,
    "start_time": "2022-09-28T21:47:37.599Z"
   },
   {
    "duration": 16,
    "start_time": "2022-09-28T21:47:37.762Z"
   },
   {
    "duration": 33,
    "start_time": "2022-09-28T21:47:37.780Z"
   },
   {
    "duration": 2,
    "start_time": "2022-09-28T21:47:37.815Z"
   },
   {
    "duration": 7,
    "start_time": "2022-09-28T21:47:37.819Z"
   },
   {
    "duration": 15,
    "start_time": "2022-09-28T21:47:37.827Z"
   },
   {
    "duration": 5,
    "start_time": "2022-09-28T21:47:37.844Z"
   },
   {
    "duration": 24,
    "start_time": "2022-09-28T21:47:37.850Z"
   },
   {
    "duration": 40,
    "start_time": "2022-09-28T21:47:37.876Z"
   },
   {
    "duration": 21,
    "start_time": "2022-09-28T21:47:37.918Z"
   },
   {
    "duration": 76,
    "start_time": "2022-09-28T21:47:37.940Z"
   },
   {
    "duration": 62,
    "start_time": "2022-09-28T21:47:38.018Z"
   },
   {
    "duration": 62,
    "start_time": "2022-09-28T21:47:38.081Z"
   },
   {
    "duration": 33,
    "start_time": "2022-09-28T21:47:38.144Z"
   },
   {
    "duration": 26,
    "start_time": "2022-09-28T21:47:38.179Z"
   },
   {
    "duration": 34,
    "start_time": "2022-09-28T21:47:38.206Z"
   },
   {
    "duration": 59,
    "start_time": "2022-09-28T21:47:38.242Z"
   },
   {
    "duration": 2,
    "start_time": "2022-09-28T21:47:38.302Z"
   },
   {
    "duration": 7,
    "start_time": "2022-09-28T21:47:38.306Z"
   },
   {
    "duration": 4,
    "start_time": "2022-09-28T21:47:38.314Z"
   },
   {
    "duration": 6,
    "start_time": "2022-09-28T21:47:38.319Z"
   },
   {
    "duration": 6,
    "start_time": "2022-09-28T21:47:38.326Z"
   },
   {
    "duration": 6,
    "start_time": "2022-09-28T21:47:38.333Z"
   },
   {
    "duration": 5,
    "start_time": "2022-09-28T21:47:38.340Z"
   },
   {
    "duration": 4,
    "start_time": "2022-09-28T21:47:38.346Z"
   },
   {
    "duration": 6,
    "start_time": "2022-09-28T21:47:38.351Z"
   },
   {
    "duration": 5,
    "start_time": "2022-09-28T21:47:38.359Z"
   },
   {
    "duration": 6,
    "start_time": "2022-09-28T21:47:38.365Z"
   },
   {
    "duration": 41,
    "start_time": "2022-09-28T21:47:38.372Z"
   },
   {
    "duration": 0,
    "start_time": "2022-09-28T21:47:38.415Z"
   },
   {
    "duration": 0,
    "start_time": "2022-09-28T21:47:38.416Z"
   },
   {
    "duration": 0,
    "start_time": "2022-09-28T21:47:38.417Z"
   },
   {
    "duration": 0,
    "start_time": "2022-09-28T21:47:38.418Z"
   },
   {
    "duration": 0,
    "start_time": "2022-09-28T21:47:38.419Z"
   },
   {
    "duration": 0,
    "start_time": "2022-09-28T21:47:38.420Z"
   },
   {
    "duration": 0,
    "start_time": "2022-09-28T21:47:38.421Z"
   },
   {
    "duration": 0,
    "start_time": "2022-09-28T21:47:38.422Z"
   },
   {
    "duration": 41,
    "start_time": "2022-09-28T21:48:19.231Z"
   },
   {
    "duration": 2,
    "start_time": "2022-09-28T21:48:29.688Z"
   },
   {
    "duration": 400,
    "start_time": "2022-09-28T21:49:42.575Z"
   },
   {
    "duration": 143,
    "start_time": "2022-09-28T21:49:42.976Z"
   },
   {
    "duration": 14,
    "start_time": "2022-09-28T21:49:43.121Z"
   },
   {
    "duration": 25,
    "start_time": "2022-09-28T21:49:43.137Z"
   },
   {
    "duration": 3,
    "start_time": "2022-09-28T21:49:43.163Z"
   },
   {
    "duration": 6,
    "start_time": "2022-09-28T21:49:43.167Z"
   },
   {
    "duration": 32,
    "start_time": "2022-09-28T21:49:43.174Z"
   },
   {
    "duration": 6,
    "start_time": "2022-09-28T21:49:43.208Z"
   },
   {
    "duration": 23,
    "start_time": "2022-09-28T21:49:43.215Z"
   },
   {
    "duration": 18,
    "start_time": "2022-09-28T21:49:43.241Z"
   },
   {
    "duration": 42,
    "start_time": "2022-09-28T21:49:43.260Z"
   },
   {
    "duration": 59,
    "start_time": "2022-09-28T21:49:43.303Z"
   },
   {
    "duration": 82,
    "start_time": "2022-09-28T21:49:43.364Z"
   },
   {
    "duration": 62,
    "start_time": "2022-09-28T21:49:43.449Z"
   },
   {
    "duration": 34,
    "start_time": "2022-09-28T21:49:43.513Z"
   },
   {
    "duration": 9,
    "start_time": "2022-09-28T21:49:43.548Z"
   },
   {
    "duration": 53,
    "start_time": "2022-09-28T21:49:43.559Z"
   },
   {
    "duration": 2,
    "start_time": "2022-09-28T21:49:43.613Z"
   },
   {
    "duration": 5,
    "start_time": "2022-09-28T21:49:43.617Z"
   },
   {
    "duration": 7,
    "start_time": "2022-09-28T21:49:43.623Z"
   },
   {
    "duration": 10,
    "start_time": "2022-09-28T21:49:43.631Z"
   },
   {
    "duration": 9,
    "start_time": "2022-09-28T21:49:43.643Z"
   },
   {
    "duration": 7,
    "start_time": "2022-09-28T21:49:43.653Z"
   },
   {
    "duration": 5,
    "start_time": "2022-09-28T21:49:43.662Z"
   },
   {
    "duration": 8,
    "start_time": "2022-09-28T21:49:43.668Z"
   },
   {
    "duration": 6,
    "start_time": "2022-09-28T21:49:43.678Z"
   },
   {
    "duration": 5,
    "start_time": "2022-09-28T21:49:43.685Z"
   },
   {
    "duration": 7,
    "start_time": "2022-09-28T21:49:43.693Z"
   },
   {
    "duration": 2,
    "start_time": "2022-09-28T21:49:43.702Z"
   },
   {
    "duration": 39,
    "start_time": "2022-09-28T21:49:43.705Z"
   },
   {
    "duration": 0,
    "start_time": "2022-09-28T21:49:43.746Z"
   },
   {
    "duration": 0,
    "start_time": "2022-09-28T21:49:43.747Z"
   },
   {
    "duration": 0,
    "start_time": "2022-09-28T21:49:43.748Z"
   },
   {
    "duration": 0,
    "start_time": "2022-09-28T21:49:43.749Z"
   },
   {
    "duration": 0,
    "start_time": "2022-09-28T21:49:43.750Z"
   },
   {
    "duration": 0,
    "start_time": "2022-09-28T21:49:43.751Z"
   },
   {
    "duration": 0,
    "start_time": "2022-09-28T21:49:43.752Z"
   },
   {
    "duration": 0,
    "start_time": "2022-09-28T21:49:43.754Z"
   },
   {
    "duration": 57,
    "start_time": "2022-09-28T21:50:16.962Z"
   },
   {
    "duration": 8,
    "start_time": "2022-09-28T21:50:23.337Z"
   },
   {
    "duration": 7,
    "start_time": "2022-09-28T21:50:25.812Z"
   },
   {
    "duration": 9,
    "start_time": "2022-09-28T21:50:38.188Z"
   },
   {
    "duration": 45,
    "start_time": "2022-09-28T21:50:58.327Z"
   },
   {
    "duration": 11,
    "start_time": "2022-09-28T21:51:04.595Z"
   },
   {
    "duration": 8,
    "start_time": "2022-09-28T21:52:45.538Z"
   },
   {
    "duration": 11,
    "start_time": "2022-09-28T21:52:57.358Z"
   },
   {
    "duration": 10,
    "start_time": "2022-09-28T21:53:35.233Z"
   },
   {
    "duration": 11,
    "start_time": "2022-09-28T21:53:39.006Z"
   },
   {
    "duration": 14,
    "start_time": "2022-09-28T21:53:41.445Z"
   },
   {
    "duration": 9,
    "start_time": "2022-09-28T21:53:51.730Z"
   },
   {
    "duration": 9,
    "start_time": "2022-09-28T21:56:41.388Z"
   },
   {
    "duration": 9,
    "start_time": "2022-09-28T21:57:13.645Z"
   },
   {
    "duration": 10,
    "start_time": "2022-09-28T21:57:29.754Z"
   },
   {
    "duration": 10,
    "start_time": "2022-09-28T21:57:51.472Z"
   },
   {
    "duration": 391,
    "start_time": "2022-09-28T21:57:58.292Z"
   },
   {
    "duration": 141,
    "start_time": "2022-09-28T21:57:58.685Z"
   },
   {
    "duration": 15,
    "start_time": "2022-09-28T21:57:58.828Z"
   },
   {
    "duration": 24,
    "start_time": "2022-09-28T21:57:58.845Z"
   },
   {
    "duration": 2,
    "start_time": "2022-09-28T21:57:58.870Z"
   },
   {
    "duration": 7,
    "start_time": "2022-09-28T21:57:58.874Z"
   },
   {
    "duration": 23,
    "start_time": "2022-09-28T21:57:58.882Z"
   },
   {
    "duration": 7,
    "start_time": "2022-09-28T21:57:58.906Z"
   },
   {
    "duration": 24,
    "start_time": "2022-09-28T21:57:58.914Z"
   },
   {
    "duration": 29,
    "start_time": "2022-09-28T21:57:58.940Z"
   },
   {
    "duration": 30,
    "start_time": "2022-09-28T21:57:58.971Z"
   },
   {
    "duration": 57,
    "start_time": "2022-09-28T21:57:59.003Z"
   },
   {
    "duration": 77,
    "start_time": "2022-09-28T21:57:59.062Z"
   },
   {
    "duration": 60,
    "start_time": "2022-09-28T21:57:59.141Z"
   },
   {
    "duration": 31,
    "start_time": "2022-09-28T21:57:59.203Z"
   },
   {
    "duration": 9,
    "start_time": "2022-09-28T21:57:59.236Z"
   },
   {
    "duration": 30,
    "start_time": "2022-09-28T21:57:59.246Z"
   },
   {
    "duration": 28,
    "start_time": "2022-09-28T21:57:59.278Z"
   },
   {
    "duration": 9,
    "start_time": "2022-09-28T21:57:59.308Z"
   },
   {
    "duration": 2,
    "start_time": "2022-09-28T21:57:59.318Z"
   },
   {
    "duration": 8,
    "start_time": "2022-09-28T21:57:59.321Z"
   },
   {
    "duration": 4,
    "start_time": "2022-09-28T21:57:59.330Z"
   },
   {
    "duration": 7,
    "start_time": "2022-09-28T21:57:59.335Z"
   },
   {
    "duration": 7,
    "start_time": "2022-09-28T21:57:59.343Z"
   },
   {
    "duration": 7,
    "start_time": "2022-09-28T21:57:59.352Z"
   },
   {
    "duration": 6,
    "start_time": "2022-09-28T21:57:59.360Z"
   },
   {
    "duration": 5,
    "start_time": "2022-09-28T21:57:59.367Z"
   },
   {
    "duration": 5,
    "start_time": "2022-09-28T21:57:59.375Z"
   },
   {
    "duration": 7,
    "start_time": "2022-09-28T21:57:59.381Z"
   },
   {
    "duration": 74,
    "start_time": "2022-09-28T21:57:59.389Z"
   },
   {
    "duration": 0,
    "start_time": "2022-09-28T21:57:59.465Z"
   },
   {
    "duration": 0,
    "start_time": "2022-09-28T21:57:59.467Z"
   },
   {
    "duration": 0,
    "start_time": "2022-09-28T21:57:59.468Z"
   },
   {
    "duration": 0,
    "start_time": "2022-09-28T21:57:59.469Z"
   },
   {
    "duration": 0,
    "start_time": "2022-09-28T21:57:59.470Z"
   },
   {
    "duration": 0,
    "start_time": "2022-09-28T21:57:59.471Z"
   },
   {
    "duration": 0,
    "start_time": "2022-09-28T21:57:59.472Z"
   },
   {
    "duration": 0,
    "start_time": "2022-09-28T21:57:59.473Z"
   },
   {
    "duration": 30,
    "start_time": "2022-09-28T21:58:20.230Z"
   },
   {
    "duration": 10,
    "start_time": "2022-09-28T21:58:34.545Z"
   },
   {
    "duration": 10,
    "start_time": "2022-09-28T21:58:51.411Z"
   },
   {
    "duration": 59,
    "start_time": "2022-09-28T21:59:07.090Z"
   },
   {
    "duration": 10,
    "start_time": "2022-09-28T21:59:15.119Z"
   },
   {
    "duration": 6,
    "start_time": "2022-09-28T21:59:24.925Z"
   },
   {
    "duration": 4,
    "start_time": "2022-09-28T21:59:29.866Z"
   },
   {
    "duration": 10,
    "start_time": "2022-09-28T21:59:40.167Z"
   },
   {
    "duration": 3,
    "start_time": "2022-09-28T21:59:43.323Z"
   },
   {
    "duration": 11,
    "start_time": "2022-09-28T21:59:48.510Z"
   },
   {
    "duration": 15,
    "start_time": "2022-09-28T22:48:37.513Z"
   },
   {
    "duration": 15,
    "start_time": "2022-09-28T22:48:55.531Z"
   },
   {
    "duration": 12,
    "start_time": "2022-09-28T22:49:14.043Z"
   },
   {
    "duration": 12,
    "start_time": "2022-09-28T22:50:06.833Z"
   },
   {
    "duration": 13,
    "start_time": "2022-09-28T22:50:47.956Z"
   },
   {
    "duration": 16,
    "start_time": "2022-09-28T22:51:44.440Z"
   },
   {
    "duration": 13,
    "start_time": "2022-09-28T22:51:48.871Z"
   },
   {
    "duration": 13,
    "start_time": "2022-09-28T22:51:56.247Z"
   },
   {
    "duration": 10,
    "start_time": "2022-09-28T22:52:31.962Z"
   },
   {
    "duration": 8,
    "start_time": "2022-09-28T22:52:36.302Z"
   },
   {
    "duration": 9,
    "start_time": "2022-09-28T22:52:46.116Z"
   },
   {
    "duration": 7,
    "start_time": "2022-09-28T22:52:58.063Z"
   },
   {
    "duration": 8,
    "start_time": "2022-09-28T22:53:11.068Z"
   },
   {
    "duration": 8,
    "start_time": "2022-09-28T22:55:24.869Z"
   },
   {
    "duration": 9,
    "start_time": "2022-09-28T22:55:38.982Z"
   },
   {
    "duration": 386,
    "start_time": "2022-09-28T22:56:26.798Z"
   },
   {
    "duration": 141,
    "start_time": "2022-09-28T22:56:27.186Z"
   },
   {
    "duration": 16,
    "start_time": "2022-09-28T22:56:27.328Z"
   },
   {
    "duration": 25,
    "start_time": "2022-09-28T22:56:27.345Z"
   },
   {
    "duration": 2,
    "start_time": "2022-09-28T22:56:27.372Z"
   },
   {
    "duration": 5,
    "start_time": "2022-09-28T22:56:27.375Z"
   },
   {
    "duration": 12,
    "start_time": "2022-09-28T22:56:27.400Z"
   },
   {
    "duration": 5,
    "start_time": "2022-09-28T22:56:27.413Z"
   },
   {
    "duration": 31,
    "start_time": "2022-09-28T22:56:27.419Z"
   },
   {
    "duration": 15,
    "start_time": "2022-09-28T22:56:27.452Z"
   },
   {
    "duration": 35,
    "start_time": "2022-09-28T22:56:27.469Z"
   },
   {
    "duration": 54,
    "start_time": "2022-09-28T22:56:27.505Z"
   },
   {
    "duration": 73,
    "start_time": "2022-09-28T22:56:27.561Z"
   },
   {
    "duration": 53,
    "start_time": "2022-09-28T22:56:27.637Z"
   },
   {
    "duration": 33,
    "start_time": "2022-09-28T22:56:27.700Z"
   },
   {
    "duration": 8,
    "start_time": "2022-09-28T22:56:27.734Z"
   },
   {
    "duration": 30,
    "start_time": "2022-09-28T22:56:27.744Z"
   },
   {
    "duration": 27,
    "start_time": "2022-09-28T22:56:27.775Z"
   },
   {
    "duration": 9,
    "start_time": "2022-09-28T22:56:27.803Z"
   },
   {
    "duration": 7,
    "start_time": "2022-09-28T22:56:27.814Z"
   },
   {
    "duration": 6,
    "start_time": "2022-09-28T22:56:27.823Z"
   },
   {
    "duration": 6,
    "start_time": "2022-09-28T22:56:27.830Z"
   },
   {
    "duration": 5,
    "start_time": "2022-09-28T22:56:27.837Z"
   },
   {
    "duration": 4,
    "start_time": "2022-09-28T22:56:27.844Z"
   },
   {
    "duration": 5,
    "start_time": "2022-09-28T22:56:27.850Z"
   },
   {
    "duration": 5,
    "start_time": "2022-09-28T22:56:27.857Z"
   },
   {
    "duration": 6,
    "start_time": "2022-09-28T22:56:27.863Z"
   },
   {
    "duration": 5,
    "start_time": "2022-09-28T22:56:27.870Z"
   },
   {
    "duration": 4,
    "start_time": "2022-09-28T22:56:27.876Z"
   },
   {
    "duration": 45,
    "start_time": "2022-09-28T22:56:27.899Z"
   },
   {
    "duration": 0,
    "start_time": "2022-09-28T22:56:27.945Z"
   },
   {
    "duration": 0,
    "start_time": "2022-09-28T22:56:27.946Z"
   },
   {
    "duration": 0,
    "start_time": "2022-09-28T22:56:27.947Z"
   },
   {
    "duration": 0,
    "start_time": "2022-09-28T22:56:27.948Z"
   },
   {
    "duration": 0,
    "start_time": "2022-09-28T22:56:27.948Z"
   },
   {
    "duration": 0,
    "start_time": "2022-09-28T22:56:27.949Z"
   },
   {
    "duration": 0,
    "start_time": "2022-09-28T22:56:27.950Z"
   },
   {
    "duration": 0,
    "start_time": "2022-09-28T22:56:27.951Z"
   },
   {
    "duration": 12,
    "start_time": "2022-09-28T22:56:54.136Z"
   },
   {
    "duration": 9,
    "start_time": "2022-09-28T22:56:56.133Z"
   },
   {
    "duration": 9,
    "start_time": "2022-09-28T23:02:43.975Z"
   },
   {
    "duration": 13,
    "start_time": "2022-09-28T23:02:46.434Z"
   },
   {
    "duration": 9,
    "start_time": "2022-09-28T23:02:56.653Z"
   },
   {
    "duration": 8,
    "start_time": "2022-09-28T23:03:10.939Z"
   },
   {
    "duration": 11,
    "start_time": "2022-09-28T23:03:15.629Z"
   },
   {
    "duration": 4,
    "start_time": "2022-09-28T23:03:53.089Z"
   },
   {
    "duration": 3,
    "start_time": "2022-09-28T23:03:55.783Z"
   },
   {
    "duration": 63,
    "start_time": "2022-09-28T23:04:33.111Z"
   },
   {
    "duration": 9,
    "start_time": "2022-09-28T23:04:46.668Z"
   },
   {
    "duration": 10,
    "start_time": "2022-09-28T23:04:51.817Z"
   },
   {
    "duration": 159,
    "start_time": "2022-09-28T23:04:59.224Z"
   },
   {
    "duration": 14,
    "start_time": "2022-09-28T23:05:59.673Z"
   },
   {
    "duration": 13,
    "start_time": "2022-09-28T23:06:25.152Z"
   },
   {
    "duration": 10,
    "start_time": "2022-09-28T23:09:24.397Z"
   },
   {
    "duration": 20,
    "start_time": "2022-09-28T23:10:19.097Z"
   },
   {
    "duration": 19,
    "start_time": "2022-09-28T23:11:11.604Z"
   },
   {
    "duration": 13,
    "start_time": "2022-09-28T23:13:12.821Z"
   },
   {
    "duration": 17,
    "start_time": "2022-09-28T23:13:15.131Z"
   },
   {
    "duration": 14,
    "start_time": "2022-09-28T23:13:17.226Z"
   },
   {
    "duration": 20,
    "start_time": "2022-09-28T23:13:20.010Z"
   },
   {
    "duration": 13,
    "start_time": "2022-09-28T23:13:22.252Z"
   },
   {
    "duration": 8,
    "start_time": "2022-09-28T23:17:10.961Z"
   },
   {
    "duration": 11,
    "start_time": "2022-09-28T23:20:31.008Z"
   },
   {
    "duration": 13,
    "start_time": "2022-09-28T23:20:35.079Z"
   },
   {
    "duration": 20,
    "start_time": "2022-09-28T23:20:43.096Z"
   },
   {
    "duration": 11,
    "start_time": "2022-09-28T23:20:50.540Z"
   },
   {
    "duration": 9,
    "start_time": "2022-09-28T23:21:16.335Z"
   },
   {
    "duration": 20,
    "start_time": "2022-09-28T23:21:23.730Z"
   },
   {
    "duration": 20,
    "start_time": "2022-09-28T23:21:50.471Z"
   },
   {
    "duration": 9,
    "start_time": "2022-09-28T23:21:57.947Z"
   },
   {
    "duration": 9,
    "start_time": "2022-09-28T23:22:01.820Z"
   },
   {
    "duration": 332,
    "start_time": "2022-09-28T23:23:07.052Z"
   },
   {
    "duration": 154,
    "start_time": "2022-09-28T23:23:07.386Z"
   },
   {
    "duration": 15,
    "start_time": "2022-09-28T23:23:07.541Z"
   },
   {
    "duration": 37,
    "start_time": "2022-09-28T23:23:07.558Z"
   },
   {
    "duration": 2,
    "start_time": "2022-09-28T23:23:07.597Z"
   },
   {
    "duration": 7,
    "start_time": "2022-09-28T23:23:07.600Z"
   },
   {
    "duration": 13,
    "start_time": "2022-09-28T23:23:07.609Z"
   },
   {
    "duration": 6,
    "start_time": "2022-09-28T23:23:07.624Z"
   },
   {
    "duration": 29,
    "start_time": "2022-09-28T23:23:07.631Z"
   },
   {
    "duration": 21,
    "start_time": "2022-09-28T23:23:07.664Z"
   },
   {
    "duration": 38,
    "start_time": "2022-09-28T23:23:07.687Z"
   },
   {
    "duration": 76,
    "start_time": "2022-09-28T23:23:07.727Z"
   },
   {
    "duration": 69,
    "start_time": "2022-09-28T23:23:07.805Z"
   },
   {
    "duration": 77,
    "start_time": "2022-09-28T23:23:07.875Z"
   },
   {
    "duration": 34,
    "start_time": "2022-09-28T23:23:07.954Z"
   },
   {
    "duration": 11,
    "start_time": "2022-09-28T23:23:07.999Z"
   },
   {
    "duration": 31,
    "start_time": "2022-09-28T23:23:08.011Z"
   },
   {
    "duration": 10,
    "start_time": "2022-09-28T23:23:08.043Z"
   },
   {
    "duration": 8,
    "start_time": "2022-09-28T23:23:08.054Z"
   },
   {
    "duration": 45,
    "start_time": "2022-09-28T23:23:08.064Z"
   },
   {
    "duration": 15,
    "start_time": "2022-09-28T23:23:08.110Z"
   },
   {
    "duration": 11,
    "start_time": "2022-09-28T23:23:08.127Z"
   },
   {
    "duration": 15,
    "start_time": "2022-09-28T23:23:08.139Z"
   },
   {
    "duration": 11,
    "start_time": "2022-09-28T23:23:08.156Z"
   },
   {
    "duration": 44,
    "start_time": "2022-09-28T23:23:08.168Z"
   },
   {
    "duration": 12,
    "start_time": "2022-09-28T23:23:08.214Z"
   },
   {
    "duration": 15,
    "start_time": "2022-09-28T23:23:08.227Z"
   },
   {
    "duration": 12,
    "start_time": "2022-09-28T23:23:08.245Z"
   },
   {
    "duration": 8,
    "start_time": "2022-09-28T23:23:08.259Z"
   },
   {
    "duration": 52,
    "start_time": "2022-09-28T23:23:08.269Z"
   },
   {
    "duration": 0,
    "start_time": "2022-09-28T23:23:08.323Z"
   },
   {
    "duration": 0,
    "start_time": "2022-09-28T23:23:08.324Z"
   },
   {
    "duration": 0,
    "start_time": "2022-09-28T23:23:08.325Z"
   },
   {
    "duration": 0,
    "start_time": "2022-09-28T23:23:08.326Z"
   },
   {
    "duration": 0,
    "start_time": "2022-09-28T23:23:08.327Z"
   },
   {
    "duration": 0,
    "start_time": "2022-09-28T23:23:08.328Z"
   },
   {
    "duration": 0,
    "start_time": "2022-09-28T23:23:08.330Z"
   },
   {
    "duration": 0,
    "start_time": "2022-09-28T23:23:08.330Z"
   },
   {
    "duration": 4,
    "start_time": "2022-09-29T00:32:27.963Z"
   },
   {
    "duration": 4,
    "start_time": "2022-09-29T00:32:44.472Z"
   },
   {
    "duration": 4,
    "start_time": "2022-09-29T00:32:47.613Z"
   },
   {
    "duration": 11,
    "start_time": "2022-09-29T00:35:53.453Z"
   },
   {
    "duration": 55,
    "start_time": "2022-09-29T00:36:10.203Z"
   },
   {
    "duration": 6,
    "start_time": "2022-09-29T00:36:17.295Z"
   },
   {
    "duration": 7,
    "start_time": "2022-09-29T00:39:48.694Z"
   },
   {
    "duration": 12,
    "start_time": "2022-09-29T00:39:55.454Z"
   },
   {
    "duration": 6,
    "start_time": "2022-09-29T00:40:00.637Z"
   },
   {
    "duration": 4,
    "start_time": "2022-09-29T00:40:20.878Z"
   },
   {
    "duration": 507,
    "start_time": "2022-09-29T00:40:27.714Z"
   },
   {
    "duration": 1988,
    "start_time": "2022-09-29T00:40:51.713Z"
   },
   {
    "duration": 17,
    "start_time": "2022-09-29T00:43:01.079Z"
   },
   {
    "duration": 15,
    "start_time": "2022-09-29T00:43:16.929Z"
   },
   {
    "duration": 15,
    "start_time": "2022-09-29T00:43:22.853Z"
   },
   {
    "duration": 2,
    "start_time": "2022-09-29T00:46:12.017Z"
   },
   {
    "duration": 13,
    "start_time": "2022-09-29T00:47:27.879Z"
   },
   {
    "duration": 16,
    "start_time": "2022-09-29T00:48:35.012Z"
   },
   {
    "duration": 78,
    "start_time": "2022-09-29T00:48:49.798Z"
   },
   {
    "duration": 13,
    "start_time": "2022-09-29T00:49:25.572Z"
   },
   {
    "duration": 6,
    "start_time": "2022-09-29T00:51:21.803Z"
   },
   {
    "duration": 22,
    "start_time": "2022-09-29T00:51:31.055Z"
   },
   {
    "duration": 10,
    "start_time": "2022-09-29T00:51:42.784Z"
   },
   {
    "duration": 9,
    "start_time": "2022-09-29T00:52:25.485Z"
   },
   {
    "duration": 7,
    "start_time": "2022-09-29T00:53:12.151Z"
   },
   {
    "duration": 10,
    "start_time": "2022-09-29T00:53:20.703Z"
   },
   {
    "duration": 9,
    "start_time": "2022-09-29T00:53:32.910Z"
   },
   {
    "duration": 12,
    "start_time": "2022-09-29T00:54:41.466Z"
   },
   {
    "duration": 12,
    "start_time": "2022-09-29T00:54:53.942Z"
   },
   {
    "duration": 13,
    "start_time": "2022-09-29T00:55:15.304Z"
   },
   {
    "duration": 9,
    "start_time": "2022-09-29T00:55:23.878Z"
   },
   {
    "duration": 9,
    "start_time": "2022-09-29T00:55:31.269Z"
   },
   {
    "duration": 12,
    "start_time": "2022-09-29T00:55:37.427Z"
   },
   {
    "duration": 10,
    "start_time": "2022-09-29T00:55:53.407Z"
   },
   {
    "duration": 7,
    "start_time": "2022-09-29T00:56:16.812Z"
   },
   {
    "duration": 25,
    "start_time": "2022-09-29T00:56:25.945Z"
   },
   {
    "duration": 25,
    "start_time": "2022-09-29T00:56:47.468Z"
   },
   {
    "duration": 11,
    "start_time": "2022-09-29T00:57:10.726Z"
   },
   {
    "duration": 10,
    "start_time": "2022-09-29T00:57:36.781Z"
   },
   {
    "duration": 7,
    "start_time": "2022-09-29T00:57:49.975Z"
   },
   {
    "duration": 4,
    "start_time": "2022-09-29T00:58:45.647Z"
   },
   {
    "duration": 5,
    "start_time": "2022-09-29T00:59:57.778Z"
   },
   {
    "duration": 4,
    "start_time": "2022-09-29T01:00:14.776Z"
   }
  ],
  "colab": {
   "collapsed_sections": [
    "E0vqbgi9ay0H",
    "VUC88oWjTJw2"
   ],
   "name": "automatization_template_upd4.ipynb",
   "provenance": []
  },
  "kernelspec": {
   "display_name": "Python 3 (ipykernel)",
   "language": "python",
   "name": "python3"
  },
  "language_info": {
   "codemirror_mode": {
    "name": "ipython",
    "version": 3
   },
   "file_extension": ".py",
   "mimetype": "text/x-python",
   "name": "python",
   "nbconvert_exporter": "python",
   "pygments_lexer": "ipython3",
   "version": "3.9.5"
  },
  "toc": {
   "base_numbering": 1,
   "nav_menu": {
    "height": "215px",
    "width": "403px"
   },
   "number_sections": true,
   "sideBar": true,
   "skip_h1_title": true,
   "title_cell": "Table of Contents",
   "title_sidebar": "Contents",
   "toc_cell": false,
   "toc_position": {
    "height": "calc(100% - 180px)",
    "left": "10px",
    "top": "150px",
    "width": "285.825px"
   },
   "toc_section_display": true,
   "toc_window_display": false
  }
 },
 "nbformat": 4,
 "nbformat_minor": 1
}
