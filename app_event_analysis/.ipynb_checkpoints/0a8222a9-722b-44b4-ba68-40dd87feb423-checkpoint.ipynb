{
 "cells": [
  {
   "cell_type": "markdown",
   "metadata": {},
   "source": [
    "# Исследование поведения пользователей мобильного приложения"
   ]
  },
  {
   "cell_type": "markdown",
   "metadata": {},
   "source": [
    "**Цель исследования**:\n",
    "\n",
    "Целью данной работы является анализ поведения пользователей, которые пользуются мобильным приложением компании-заказчика по продаже продуктов питания. Для этого составим воронку действий пользователей и исследуем результаты А/А/В-теста по изменению визуального дизайна приложения.\n",
    "\n",
    "**Ход исследования**:\n",
    "\n",
    "Для исследования был предоставлен датасет `logs_exp.csv`, который содержит данные о событиях и действиях пользователей, а так же отметку о принадлежности к группе тестирования. Само исследование пройдет в следующие несколько этапов:\n",
    "\n",
    "1. Первичный обзор и предобработка данных\n",
    "\n",
    "Произведем первичный обзор данных из датасета. При обзоре будет совершена проверка на возможные ошибки, которые могут помешать исследованию. После обзора данных проведем предобработку с целью исправления ошибок и пропущенных значений, при необходимости будут изменены типы данных.\n",
    "\n",
    "2. Исследовательский анализ данных\n",
    "\n",
    "Определим количество событий и пользователей в логе данных, среднее количество событий на пользователя, временной промежуток и полноту предоставленных данных.\n",
    "\n",
    "3. Событийная аналитика и воронка действий пользователей\n",
    "\n",
    "Оценим частоту совершения пользователями событий, возможный порядок событий для пользователя и составим воронку конверсии пользователей между шагами, чтобы выявить наиболее проблемные действия и долю пользователей, которая доходит до оплаты товара.\n",
    "\n",
    "4. Анализ результатов А/А/В-тестирования\n",
    "\n",
    "Рассчитаем количество пользователей каждой из групп, проверим контрольные группы А/А на наличие между ними статистически значимой разницы, проверим корректность разбивок на группы, а затем проверим наличие статистической значимости различий между контрольными и экспериментальной группой.\n",
    "\n",
    "5. Общие выводы и рекомендации\n",
    "\n",
    "Соберем промежуточные выводы предыдущих этапов и на их основе составим возможные рекомендации для компании-заказчика."
   ]
  },
  {
   "cell_type": "markdown",
   "metadata": {},
   "source": [
    "## Первичный обзор и предобработка данных"
   ]
  },
  {
   "cell_type": "code",
   "execution_count": null,
   "metadata": {},
   "outputs": [],
   "source": [
    "# импортируем библиотеки для работы с данными\n",
    "\n",
    "import os\n",
    "import pandas as pd\n",
    "import numpy as np\n",
    "from scipy import stats as st\n",
    "import math as mth\n",
    "from datetime import datetime, timedelta\n",
    "import seaborn as sns\n",
    "from matplotlib import pyplot as plt\n",
    "from plotly import graph_objects as go\n",
    "import plotly.express as px\n",
    "import plotly.io as pio"
   ]
  },
  {
   "cell_type": "code",
   "execution_count": null,
   "metadata": {},
   "outputs": [],
   "source": [
    "# обьявим параметры для работы:\n",
    "\n",
    "pd.options.display.float_format = '{:,.2f}'.format\n",
    "pd.options.mode.chained_assignment = None\n",
    "sns.set_style('darkgrid')\n",
    "sns.set(font_scale = 2)\n",
    "plt.rcParams.update({'axes.labelsize': 15,'axes.titlesize': 25})\n",
    "\n",
    "os.chdir('C:\\\\Users\\\\79771\\\\Documents\\\\GitHub\\\\yandex_practicum_projects\\\\datasets')"
   ]
  },
  {
   "cell_type": "code",
   "execution_count": null,
   "metadata": {},
   "outputs": [],
   "source": [
    "# загрузим датасет через конструкцию try-except\n",
    "# для работы в локальном режиме и переименуем столбцы:\n",
    "\n",
    "try:\n",
    "    logs = (pd\n",
    "    .read_csv('logs_exp.csv', sep='\\t')\n",
    "    .rename(columns={'EventName':'event_type', \n",
    "                     'DeviceIDHash':'user_id', \n",
    "                     'EventTimestamp':'event_time', \n",
    "                     'ExpId':'test_group'})\n",
    ")\n",
    "\n",
    "except:\n",
    "    logs = (pd\n",
    "    .read_csv('/datasets/logs_exp.csv', sep='\\t')\n",
    "    .rename(columns={'EventName':'event_type', \n",
    "                     'DeviceIDHash':'user_id', \n",
    "                     'EventTimestamp':'event_time', \n",
    "                     'ExpId':'test_group'})\n",
    ")"
   ]
  },
  {
   "cell_type": "code",
   "execution_count": null,
   "metadata": {},
   "outputs": [],
   "source": [
    "# напишем функцию для обзора таблиц\n",
    "\n",
    "def overview(df):\n",
    "    \n",
    "    print('Общая информация:\\n')\n",
    "    df.info() # общая информация о таблице\n",
    "    print()\n",
    "    print('Описательная статистика:\\n')\n",
    "    display(df.describe(include='all', datetime_is_numeric=True))\n",
    "    print()\n",
    "    print('Пять случайных строк датасета:\\n')\n",
    "    display(df.sample(5)) # 5 случайных строк\n",
    "    print()\n",
    "    print('Проверка на дубликаты и пропуски:\\n')\n",
    "    \n",
    "    # проверка явных дубликатов\n",
    "    \n",
    "    if df.duplicated().sum() > 0: \n",
    "        print(f'- В таблице содержатся дубликаты, {df.duplicated().sum()} строк.')\n",
    "    else:\n",
    "        print('- Дубликатов не обнаружено')\n",
    "    print()\n",
    "    \n",
    "    # проверка пропусков\n",
    "    \n",
    "    if df.isna().sum().sum() > 0: \n",
    "        print(f'- В таблице содержатся пропуски, {df.duplicated().sum()} строк.')\n",
    "    else:\n",
    "        print('- Пропусков не обнаружено')  \n",
    "\n",
    "# функция для визуализации пропусков в отдельных столбцах таблицы\n",
    "\n",
    "def pass_value_barh(data):\n",
    "    try:\n",
    "        (\n",
    "            (data.isna().mean()*100)\n",
    "            .to_frame()\n",
    "            .rename(columns = {0:'space'})\n",
    "            .query('space > 0')\n",
    "            .sort_values(by = 'space', ascending = True)\n",
    "            .plot(kind = 'barh', figsize = (19,6), rot = -5, legend = False, fontsize = 16)\n",
    "            .set_title('NaN Percentage' + \"\\n\", fontsize = 22, color = 'SteelBlue')    \n",
    "        );    \n",
    "    except:\n",
    "        print('Пропусков не осталось')\n"
   ]
  },
  {
   "cell_type": "code",
   "execution_count": null,
   "metadata": {},
   "outputs": [],
   "source": [
    "# рассмотрим через функцию весь датасет\n",
    "\n",
    "overview(logs)"
   ]
  },
  {
   "cell_type": "markdown",
   "metadata": {},
   "source": [
    "Каждая запись в логе — это действие или событие, связанное с пользователем. В процессе загрузки датасета мы поменяли названия столбцов на варианты формата 'snake_case' для оптимизации работы, теперь столбцы датасета выглядят следующим образом:\n",
    "\n",
    "- `event_type` (ранее - `EventName`) — название события;\n",
    "- `user_id` (`DeviceIDHash`) — уникальный идентификатор пользователя;\n",
    "- `event_time` (`EventTimestamp`) — время события;\n",
    "- `test_group` (`ExpId`) — номер эксперимента: 246 и 247 — контрольные группы, а 248 — экспериментальная.\n",
    "\n",
    "Пропусков в данных не обнаружено, но присутствуют явные дубликаты строк - прежде чем разобраться с причинами возникновения дубликатов, рассмотрим каждый из столбцов отдельно. Начнем со столбца `event_time` - даты события:"
   ]
  },
  {
   "cell_type": "code",
   "execution_count": null,
   "metadata": {},
   "outputs": [],
   "source": [
    "# перед предобработкой на всякий случай сохраним сырой датасет\n",
    "\n",
    "logs_raw = logs.copy()\n",
    "\n",
    "# преобразуем дату\n",
    "\n",
    "logs['event_time'] = pd.to_datetime(logs['event_time'], unit='s')\n",
    "\n",
    "# выделяем дату в отдельный столбец для возможного когортного анализа\n",
    "\n",
    "logs['event_date'] = (\n",
    "    logs['event_time']\n",
    "    .dt.date\n",
    "    .astype('datetime64[ns]')\n",
    ")\n",
    "\n",
    "# выведем описательную статистику\n",
    "\n",
    "logs['event_date'].describe(datetime_is_numeric=True)"
   ]
  },
  {
   "cell_type": "markdown",
   "metadata": {},
   "source": [
    "- Данные содержат события с 25-07-2019 по 07-08-2019 - т.е., рассматриваемый временной промежуток составляет примерно две недели."
   ]
  },
  {
   "cell_type": "code",
   "execution_count": null,
   "metadata": {},
   "outputs": [],
   "source": [
    "# столбец с событиями \n",
    "# выведем описательную статистику и посчитаем уникальные события\n",
    "\n",
    "logs['event_type'].describe()\n",
    "logs['event_type'].value_counts()"
   ]
  },
  {
   "cell_type": "markdown",
   "metadata": {},
   "source": [
    "Всего в данных столбца содержится пять уникальных пользовательских событий:\n",
    "\n",
    "- `MainScreenAppear` - отображение главного экрана\n",
    "- `OffersScreenAppear` - отображение экрана с предложением\n",
    "- `CartScreenAppear` - отображение экрана с корзиной товаров\n",
    "- `PaymentScreenSuccessful` - экран с сообщением об успешной оплате\n",
    "- `Tutorial` - обучение"
   ]
  },
  {
   "cell_type": "code",
   "execution_count": null,
   "metadata": {},
   "outputs": [],
   "source": [
    "# для экономии памяти преобразуем данные в категорию и перейдём к следующему столбцу:\n",
    "\n",
    "logs['event_type'] = logs['event_type'].astype('category')"
   ]
  },
  {
   "cell_type": "code",
   "execution_count": null,
   "metadata": {},
   "outputs": [],
   "source": [
    "# столбец с уникальным идентификатором пользователя\n",
    "# посчитаем количество уникальных значений столбца пользователей\n",
    "# и используем предыдущий столбец для подсчёта среднего количества событий и покупок\n",
    "\n",
    "unique_users = logs['user_id'].unique().size\n",
    "events_total = logs['event_type'].size\n",
    "mean_events = round(logs['event_type'].count()/unique_users)\n",
    "mean_purhases = round(\n",
    "    logs[\n",
    "        logs['event_type'] == 'PaymentScreenSuccessful'\n",
    "    ]['event_type']\n",
    "    .count()/unique_users)\n",
    "\n",
    "print(f'''- Исходная таблица содержит данные {unique_users} уникальных пользователей и {events_total} событий,\n",
    "  на каждого пользователя в среднем приходится {mean_events} события, в том числе {mean_purhases} покупок.''')"
   ]
  },
  {
   "cell_type": "code",
   "execution_count": null,
   "metadata": {},
   "outputs": [],
   "source": [
    "# столбец с номером группы в A/A/B тестировании\n",
    "# согласно документации в данных должно быть только три группы\n",
    "\n",
    "logs['test_group'].value_counts()"
   ]
  },
  {
   "cell_type": "markdown",
   "metadata": {},
   "source": [
    "Число групп в данных совпадает с числом групп в документации. Для удобства чтения заменим номер группы на соответствущее буквенное обозначение:"
   ]
  },
  {
   "cell_type": "code",
   "execution_count": null,
   "metadata": {},
   "outputs": [],
   "source": [
    "# контрольные группы назовём 'A_1' и 'A_2'\n",
    "# а эксперементальную -'B'\n",
    "\n",
    "logs['test_group'] = (\n",
    "    logs['test_group']\n",
    "    .replace({246:'A_1', 247:'A_2', 248:'B'})\n",
    "    .astype('category')\n",
    ")\n",
    "logs['test_group'].value_counts()"
   ]
  },
  {
   "cell_type": "code",
   "execution_count": null,
   "metadata": {},
   "outputs": [],
   "source": [
    "# напишем функцию для проверки совпадений \n",
    "# идентификаторов пользователей разных групп\n",
    "\n",
    "def inter_check(group_1, group_2):\n",
    "    \n",
    "    inter = np.intersect1d(\n",
    "        logs[logs['test_group'] == group_1]['user_id'].unique(),\n",
    "        logs[logs['test_group'] == group_2]['user_id'].unique()\n",
    "    )\n",
    "    return inter.size\n",
    "\n",
    "inter = sum(\n",
    "    [inter_check('A_1', 'A_2'),\n",
    "     inter_check('A_1', 'B'),\n",
    "     inter_check('A_2', 'B')]\n",
    ")\n",
    "            \n",
    "print(f' Уникальных пользователей, попавших в две группы одновременно - {inter}')"
   ]
  },
  {
   "cell_type": "code",
   "execution_count": null,
   "metadata": {},
   "outputs": [],
   "source": [
    "dup_sum = logs.duplicated().sum()\n",
    "dup_share = round(dup_sum/len(logs), 4)\n",
    "\n",
    "print(f'Данные содержат {dup_sum} задублированных строк, их доля составляет {dup_share}.')"
   ]
  },
  {
   "cell_type": "code",
   "execution_count": null,
   "metadata": {},
   "outputs": [],
   "source": [
    "logs[logs.duplicated()].sort_values(by='user_id').head(20)"
   ]
  },
  {
   "cell_type": "markdown",
   "metadata": {},
   "source": [
    "- Поверхностный осмотр строк-дубликатов датасета показал, что некоторые строки дублируются полностью, а другие дублируются во всем кроме даты. Наиболее вероятно, что причиной возникновения строк-дубликатов в датасете являются технические сбои работы программы или ошибки при выгрузке данных. Так как количество строк-дубликатов составляет заметно менее 1% от общего числа данных, что не является статистически значимым показателем - принято решение оставить данные как есть."
   ]
  },
  {
   "cell_type": "markdown",
   "metadata": {},
   "source": [
    "### Выводы - Первичный осмотр и предобработка данных"
   ]
  },
  {
   "cell_type": "code",
   "execution_count": null,
   "metadata": {},
   "outputs": [],
   "source": [
    "overview(logs)"
   ]
  },
  {
   "cell_type": "markdown",
   "metadata": {},
   "source": [
    "- В процессе загрузки датасета мы поменяли названия столбцов на варианты формата 'snake_case' для оптимизации работы, добавили дополнительный столбец с датой в формате `datetime` для когортного анализа и заменили типы данных столбцов для экономии памяти.\n",
    "\n",
    "\n",
    "- Таблица содержит данные 7551 уникальных пользователей  и 243329 событий - на каждого пользователя в среднем приходится 32 события, в том числе 5 покупок.\n",
    "\n",
    "\n",
    "- Всего в данных столбца содержится пять уникальных пользовательских событий:\n",
    "\n",
    " - `MainScreenAppear` - отображение главного экрана\n",
    " - `OffersScreenAppear` - отображение экрана с предложением\n",
    " - `CartScreenAppear` - отображение экрана с корзиной товаров\n",
    " - `PaymentScreenSuccessful` - экран с сообщением об успешной оплате\n",
    " - `Tutorial` - обучение\n",
    "\n",
    "\n",
    "- Поверхностный осмотр строк-дубликатов датасета показал, что некоторые строки дублируются полностью, а другие дублируются во всем кроме даты. Наиболее вероятно, что причиной возникновения строк-дубликатов в датасете являются технические сбои работы программы или ошибки при выгрузке данных. Так как количество строк-дубликатов составляет заметно менее 1% от общего числа данных, что не является статистически значимым показателем - принято решение оставить данные как есть."
   ]
  },
  {
   "cell_type": "markdown",
   "metadata": {},
   "source": [
    "## Исследовательский анализ данных"
   ]
  },
  {
   "cell_type": "markdown",
   "metadata": {},
   "source": [
    "Основные задачи данного этапа исследования - это определить количество событий и пользователей в логе данных, среднее количество событий на пользователя, временной промежуток и полноту предоставленных данных.\n",
    "\n",
    "Для начала посчитаем количество уникальных пользователей за каждый день (метрика DAU) и количество событий:"
   ]
  },
  {
   "cell_type": "code",
   "execution_count": null,
   "metadata": {
    "scrolled": false
   },
   "outputs": [],
   "source": [
    "# сделаем копию датасета для eda\n",
    "\n",
    "eda = logs.copy()\n",
    "\n",
    "# считаем dau и количество событий\n",
    "\n",
    "dau_events = (\n",
    "    eda\n",
    "    .pivot_table(index='event_date', \n",
    "                 values=('user_id', 'event_type'),\n",
    "                 aggfunc={'user_id':'nunique', 'event_type':'count'}\n",
    "                )\n",
    "    .reset_index()\n",
    "    .rename(columns={'event_date':'date',\n",
    "                     'event_type':'events',\n",
    "                     'user_id':'unique_users'\n",
    "                    })\n",
    ")\n",
    "\n",
    "# визуализируем результат\n",
    "\n",
    "dates = (\n",
    "    dau_events['date']\n",
    "    .dt.strftime('%d-%m')\n",
    ")\n",
    "\n",
    "def barp(par, ax):\n",
    "    \n",
    "    sns.barplot(data=dau_events,\n",
    "                x=par, y='date', \n",
    "                ax=ax, palette='dark:salmon')\n",
    "\n",
    "    \n",
    "fig, (ax1, ax2) = plt.subplots(1, 2, figsize= (20, 10), sharey=True)\n",
    "\n",
    "barp('unique_users', ax1)\n",
    "barp('events', ax2)\n",
    "\n",
    "\n",
    "ax1.set_yticklabels(dates)\n",
    "ax1.set_ylabel(None)\n",
    "ax1.set_xlabel('Количество уникальных пользователей', fontsize=20)\n",
    "\n",
    "ax2.set_ylabel(None)\n",
    "ax2.set_xlabel('Количество событий', fontsize=20)\n",
    "\n",
    "\n",
    "plt.suptitle('Количество уникальных пользователей и событий', fontsize=25)\n",
    "plt.tight_layout()\n",
    "\n",
    "plt.show()\n",
    "\n",
    "display(dau_events.T)"
   ]
  },
  {
   "cell_type": "markdown",
   "metadata": {},
   "source": [
    "- На графиках количества уникальных пользователей и событий можно отметить минимальную активность до 31-07-2019, затем идет резкий подьем значений. Не исключена вероятность, что сравнительно малое количество данных в июле является следствием относительно недавнего основания компании-заказчика или технической ошибкой при сборе/выгрузке данных. Большинство уникальных пользователей и событий за день зафиксировано после 31 июля 2019 года, так что мы возьмем эту дату как отправную точку полноценной активности."
   ]
  },
  {
   "cell_type": "code",
   "execution_count": null,
   "metadata": {},
   "outputs": [],
   "source": [
    "# фильтруем данные\n",
    "\n",
    "eda = eda.query('20190731 <= event_time')"
   ]
  },
  {
   "cell_type": "markdown",
   "metadata": {},
   "source": [
    "Теперь заново расчитаем основные параметры - количество уникальных событий и пользователей, среднее количество событий, распределение пользователей по группа эксперемента:"
   ]
  },
  {
   "cell_type": "code",
   "execution_count": null,
   "metadata": {},
   "outputs": [],
   "source": [
    "eda_unique_users = eda['user_id'].unique().size\n",
    "eda_events_cnt = eda['event_type'].count()\n",
    "eda_mean_events = round(eda['event_type'].count()/unique_users)\n",
    "eda_mean_purhases = round(\n",
    "    eda[\n",
    "        eda['event_type'] == 'PaymentScreenSuccessful'\n",
    "    ]['event_type']\n",
    "    .count()/unique_users)\n",
    "\n",
    "print(f'''- Обработанная таблица содержит данные {eda_unique_users} уникальных пользователей и {eda_events_cnt} событий,\n",
    "  на каждого пользователя в среднем приходится {eda_mean_events} события,\n",
    "  в том числе {eda_mean_purhases} покупок. Было удалено {round(len(eda)/len(logs), 2)}% оригинального датасета.\n",
    "  Разница в количестве уникальных пользователей составляет {unique_users-eda_unique_users}.'''\n",
    "     )"
   ]
  },
  {
   "cell_type": "markdown",
   "metadata": {},
   "source": [
    "Сократив исследуемый период вдвое, мы потеряли лишь 1% данных и 9 уникальных пользователей - но среднее число событий и покупок осталось без изменений. Последний шаг - проверим соотношение распределения пользователей по эксперементальным группам:"
   ]
  },
  {
   "cell_type": "code",
   "execution_count": null,
   "metadata": {},
   "outputs": [],
   "source": [
    "# посчитаем уникальных пользователей оригинального датафрейма\n",
    "# и добавим данные обработанной таблицы\n",
    "\n",
    "test_groups = (\n",
    "    logs['test_group']\n",
    "    .value_counts()\n",
    "    .reset_index()\n",
    "    .rename(columns={\n",
    "        'index':'group',\n",
    "        'test_group':'original_users'})\n",
    "    .merge(eda['test_group']\n",
    "           .value_counts()\n",
    "           .reset_index(), \n",
    "           right_on='index',\n",
    "           left_on='group')\n",
    "    .drop('index', axis=1)\n",
    "    .rename(columns={'test_group':'actual_users'})\n",
    "    .set_index('group')\n",
    ")\n",
    "\n",
    "# посчитаем оригинальное соотношение\n",
    "\n",
    "test_groups['original_ratio'] = round(\n",
    "    test_groups['original_users']/\n",
    "    test_groups['original_users'].sum(), 2\n",
    ")\n",
    "\n",
    "# соотношение обработанной таблицы\n",
    "\n",
    "test_groups['actual_ratio'] = round(\n",
    "    test_groups['actual_users']/\n",
    "    test_groups['actual_users'].sum(), 2\n",
    ")\n",
    "\n",
    "test_groups"
   ]
  },
  {
   "cell_type": "markdown",
   "metadata": {},
   "source": [
    "Соотношение распределения пользователей по эксперементальным группам также не изменилось, что лишний раз подтверждает корректность установленного актуального периода исследования."
   ]
  },
  {
   "cell_type": "code",
   "execution_count": null,
   "metadata": {},
   "outputs": [],
   "source": [
    "# обновляем датафрейм\n",
    "\n",
    "logs = eda.copy()\n",
    "\n",
    "# смотрим минимальное и максимальное время в обновлённых данных\n",
    "\n",
    "display(logs['event_time'].min())\n",
    "logs['event_time'].max()"
   ]
  },
  {
   "cell_type": "markdown",
   "metadata": {},
   "source": [
    "### Выводы - Исследовательский анализ данных"
   ]
  },
  {
   "cell_type": "markdown",
   "metadata": {},
   "source": [
    "- На графиках количества уникальных пользователей и событий можно отметить минимальную активность до 31-07-2019, затем идет резкий подьем значений. Не исключена вероятность, что сравнительно малое количество данных в июле является следствием относительно недавнего основания компании-заказчика или технической ошибкой при сборе/выгрузке данных. Большинство уникальных пользователей и событий за день зафиксировано после 31 июля 2019 года, так что мы возьмем эту дату как отправную точку полноценной активности.\n",
    "\n",
    "\n",
    "- Выбранный актуальный период исследования - с 2019-07-31 01:11:46 по 2019-08-07 21:15:17.\n",
    "\n",
    "\n",
    "- Обработанная таблица содержит данные 7542 уникальных пользователей, на каждого в среднем приходится 32 события, в том числе 5 покупок. Было удалено 1.0% оригинального датасета. Разница в количестве уникальных пользователей составляет 9. Сократив исследуемый период вдвое, мы потеряли лишь 1% данных и 9 уникальных пользователей - но среднее число событий и покупок осталось без изменений. \n",
    "\n",
    "\n",
    "- Соотношение распределения пользователей по эксперементальным группам также не изменилось, что лишний раз подтверждает корректность установленного актуального периода исследования."
   ]
  },
  {
   "cell_type": "markdown",
   "metadata": {},
   "source": [
    "## Событийная аналитика и воронка действий пользователей"
   ]
  },
  {
   "cell_type": "markdown",
   "metadata": {},
   "source": [
    "Для построения воронки действий пользователей рассмотрим события пользователей и частоту их появления:"
   ]
  },
  {
   "cell_type": "code",
   "execution_count": null,
   "metadata": {},
   "outputs": [],
   "source": [
    "event_count = (\n",
    "    logs.groupby('event_type')\n",
    "        .agg({'user_id':'count'})\n",
    "        .reset_index()\n",
    "        .rename(columns = {'user_id':'event_count'})\n",
    "        .sort_values('event_count', ascending = False)\n",
    ")\n",
    "event_count"
   ]
  },
  {
   "cell_type": "markdown",
   "metadata": {},
   "source": [
    "- Всего в данных столбца содержится пять уникальных пользовательских событий:\n",
    "\n",
    " - `MainScreenAppear` - отображение главного экрана, самое распространенное событие\n",
    " - `OffersScreenAppear` - отображение экрана с предложением\n",
    " - `CartScreenAppear` - отображение экрана с корзиной товаров\n",
    " - `PaymentScreenSuccessful` - экран с сообщением об успешной оплате\n",
    " - `Tutorial` - обучение, самое редкое событие в данных"
   ]
  },
  {
   "cell_type": "markdown",
   "metadata": {},
   "source": [
    "Далее визуализируем распределение типов событий для каждого дня рассматриваемого временного промежутка:"
   ]
  },
  {
   "cell_type": "code",
   "execution_count": null,
   "metadata": {},
   "outputs": [],
   "source": [
    "# группируем данные\n",
    "\n",
    "events = (\n",
    "    logs\n",
    "    .pivot_table(index=('event_date','event_type'), \n",
    "                 values='user_id',\n",
    "                 aggfunc=('count','nunique')\n",
    "                )\n",
    "    .reset_index()\n",
    "    .rename(columns=dict(\n",
    "        count = 'events',\n",
    "        nunique='unique_users'))\n",
    "    .sort_values('events', ascending=False)\n",
    ")\n",
    "\n",
    "# визуализируем количество событий по типам\n",
    "\n",
    "labels = dict(\n",
    "    event_date = 'День',\n",
    "    event_type = 'Событие',\n",
    "    events = 'Количество событий'\n",
    ")\n",
    "\n",
    "fig = px.bar(\n",
    "    events, x='event_date', \n",
    "    y='events', color='event_type', \n",
    "    labels=labels,  pattern_shape=\"event_type\"\n",
    ")\n",
    "\n",
    "fig.update_layout(title = 'Количество событий на каждый день исследуемого периода', title_x= .2)\n",
    "fig.show()"
   ]
  },
  {
   "cell_type": "markdown",
   "metadata": {},
   "source": [
    "- Тип события `Tutorial` выделяется на фоне остальных малочисленностью - вероятнее всего это событие не является обязательным для взаимодействия с интернет-магазином и пользователи его пропускают. В таком случае включать его в воронку событий будет нецелесообразно. Количество других событий же может говорить об их прямой последовательности, несмотря на то, что экран с предложением (`OffersScreenAppear`) может обозначать как товарное предложение для пользователя, так и акционное предложение.\n",
    "\n",
    "Построим воронку событий пользователей:"
   ]
  },
  {
   "cell_type": "code",
   "execution_count": null,
   "metadata": {},
   "outputs": [],
   "source": [
    "# сгруппируем данные, уберём экран обучения из воронки\n",
    "\n",
    "events = (\n",
    "    logs\n",
    "    .groupby('event_type')\n",
    "    .agg(dict(user_id='nunique'))\n",
    "    .drop(labels='Tutorial', axis=0)\n",
    "    .reset_index()\n",
    "    .append(\n",
    "        dict(event_type='UsersTotalCount',\n",
    "             user_id=eda_unique_users), ignore_index=True)\n",
    "    .sort_values('user_id', ascending=False)\n",
    "    .reset_index(drop=True)\n",
    "    .rename(columns=dict(\n",
    "        count = 'events',\n",
    "        user_id='unique_users'))\n",
    ")"
   ]
  },
  {
   "cell_type": "code",
   "execution_count": null,
   "metadata": {},
   "outputs": [],
   "source": [
    "# строим воронку\n",
    "\n",
    "fig = go.Figure(go.Funnel(\n",
    "    y = events['event_type'],\n",
    "    x = events['unique_users'],\n",
    "    textposition = \"inside\",\n",
    "    textinfo = \"value+percent initial\",\n",
    "    opacity = 0.6,marker = {\"color\": [\"darkblue\", \"blue\", \"royalblue\", \"skyblue\", \"lightblue\"],\n",
    "    \"line\": {\"width\": [4, 2, 2, 3, 1, 1], \"color\": [\"wheat\", \"wheat\", \"wheat\", \"wheat\", \"wheat\"]}},\n",
    "    connector = {\"line\": {\"color\": \"wheat\", \"dash\": \"dot\", \"width\": 3}})\n",
    "    )\n",
    "\n",
    "\n",
    "fig.update_layout(title = 'Воронка событий по количеству уникальных пользователей', title_x= .3)\n",
    "fig.show()"
   ]
  },
  {
   "cell_type": "markdown",
   "metadata": {},
   "source": [
    "- Воронка событий показывает очень хорошие показатели конверсии пользователей: за период наблюдения 47% от общего числа уникальных пользователей совершили покупку, а конверсия в шаг превышает 80% для всех этапов - за исключением этапа предложения (`OffersScreenAppear`, 62%)\n",
    "\n",
    "\n",
    "- Разница между общим количеством пользователей и пользователями, которые взаимодействовали с главной страницей интернет-магазина (первый шаг воронки) составляет около 1.5%. Вполне вероятно, что данные пользователи могли пропустить главную страницу и перейти сразу к этапу предложения по внешней ссылке.\n",
    "\n",
    "\n",
    "- Сравнивая показатели конверсии между шагами, переход между главным экраном и экраном товарного предложения (`MainScreenAppear` и `OffersScreenAppear`, соответственно) имеет самые низкие показатели (62% против 80% и более у остальных шагов). Вероятно, что это является особенностью маркетинга интернет-магазинов в целом и потенциальные покупатели чаще переходят по ссылкам с интересующим товаром напрямую, чем через главную страницу."
   ]
  },
  {
   "cell_type": "markdown",
   "metadata": {},
   "source": [
    "### Выводы - Событийная аналитика и воронка действий пользователей"
   ]
  },
  {
   "cell_type": "markdown",
   "metadata": {},
   "source": [
    "- Всего в данных столбца содержится пять уникальных пользовательских событий:\n",
    "\n",
    " - `MainScreenAppear` - отображение главного экрана, самое распространенное событие\n",
    " - `OffersScreenAppear` - отображение экрана с предложением\n",
    " - `CartScreenAppear` - отображение экрана с корзиной товаров\n",
    " - `PaymentScreenSuccessful` - экран с сообщением об успешной оплате\n",
    " - `Tutorial` - обучение, самое редкое событие в данных\n",
    " \n",
    " \n",
    "- Тип события `Tutorial` выделяется на фоне остальных малочисленностью - вероятнее всего это событие не является обязательным для взаимодействия с интернет-магазином и пользователи его пропускают. В таком случае включать его в воронку событий будет нецелесообразно. Количество других событий же может говорить об их прямой последовательности, несмотря на то, что экран с предложением (`OffersScreenAppear`) может обозначать как товарное предложение для пользователя, так и акционное предложение.\n",
    "\n",
    "\n",
    "- Воронка событий показывает очень хорошие показатели конверсии пользователей: за период наблюдения 47% от общего числа уникальных пользователей совершили покупку, а конверсия в шаг превышает 80% для всех этапов - за исключением этапа предложения (`OffersScreenAppear`, 62%)\n",
    "\n",
    "\n",
    "- Разница между общим количеством пользователей и пользователями, которые взаимодействовали с главной страницей интернет-магазина (первый шаг воронки) составляет около 1.5%. Вполне вероятно, что данные пользователи могли пропустить главную страницу и перейти сразу к этапу предложения по внешней ссылке.\n",
    "\n",
    "\n",
    "- Сравнивая показатели конверсии между шагами, переход между главным экраном и экраном товарного предложения (`MainScreenAppear` и `OffersScreenAppear`, соответственно) имеет самые низкие показатели (62% против 80% и более у остальных шагов). Вероятно, что это является особенностью маркетинга интернет-магазинов в целом и потенциальные покупатели чаще переходят по ссылкам с интересующим товаром напрямую, чем через главную страницу."
   ]
  },
  {
   "cell_type": "markdown",
   "metadata": {},
   "source": [
    "##  Анализ результатов А/А/В-тестирования"
   ]
  },
  {
   "cell_type": "markdown",
   "metadata": {},
   "source": [
    "Начнем анализ результатов с построения воронки событий в разрезе групп эксперимента:"
   ]
  },
  {
   "cell_type": "code",
   "execution_count": null,
   "metadata": {},
   "outputs": [],
   "source": [
    "# посчитаем общий размер групп и количество событий\n",
    "\n",
    "def uniq_gr(group):\n",
    "    unq = (\n",
    "        logs[logs['test_group'] == group]['user_id']\n",
    "        .unique()\n",
    "        .size\n",
    "    )\n",
    "    return pd.Series(\n",
    "        ['всего пользователей', group, unq],\n",
    "        index=['event_type', 'test_group', 'unique_users']\n",
    "    )\n",
    "\n",
    "groups = [uniq_gr('A_1'), uniq_gr('A_2'), uniq_gr('B')]\n",
    "\n",
    "# группируем данные, добавим итоги в таблицу\n",
    "\n",
    "events_grouped = (\n",
    "    logs\n",
    "    .pivot_table(index=('event_type','test_group'), \n",
    "                 values='user_id',\n",
    "                 aggfunc='nunique',\n",
    "                )\n",
    "    .rename(columns=dict(\n",
    "        user_id='unique_users'))\n",
    "    .reset_index()\n",
    "    .append(groups, ignore_index=True)\n",
    "    .sort_values('unique_users', ascending=False)\n",
    "    .reset_index(drop=True)\n",
    "\n",
    ")"
   ]
  },
  {
   "cell_type": "code",
   "execution_count": null,
   "metadata": {
    "scrolled": false
   },
   "outputs": [],
   "source": [
    "# строим воронку\n",
    "\n",
    "funn_df = events_grouped.query('event_type != \"обучение\"')\n",
    "\n",
    "def funn(group):\n",
    "\n",
    "    fig.add_trace(go.Funnel(\n",
    "        name = 'Группа ' + group,\n",
    "        y = funn_df[funn_df['test_group'] == group]['event_type'],\n",
    "        x = funn_df[funn_df['test_group'] == group]['unique_users'],\n",
    "        textinfo = \"value+percent initial\"))\n",
    "\n",
    "fig = go.Figure()\n",
    "   \n",
    "for groups in ['A_1', 'A_2', 'B']:\n",
    "    funn(groups) \n",
    "\n",
    "fig.update_layout(title = 'Воронка событий по количеству уникальных пользователей', title_x= .3)\n",
    "fig.show()"
   ]
  },
  {
   "cell_type": "markdown",
   "metadata": {},
   "source": [
    "Доля конверсии в шаг воронки с разбивкой по группам не отличается от общей воронки - но различие показателей контрольных групп на некоторых шагах составляет более 1%, что может быть плохим знаком. Потому при анализе результатов экспериментальной группы необходимо расчитать статистическую значимость различий конверсий контрольных групп.\n",
    "\n",
    "Сформулируем общие гипотезы для всех групп:\n",
    "\n",
    "- **H0** - нет статистической разницы между группами: доли пользователей, совершивших событие, в сравниваемых группах одинаковы.\n",
    "\n",
    "\n",
    "- **H1** - есть статистическая разница между группами: доли пользователей, совершивших событие, в сравниваемых группах различны.\n",
    "\n",
    "Так как данные для расчёта статистической значимости являются долями, оптимальным инструментом станет Z-критерий Фишера:"
   ]
  },
  {
   "cell_type": "code",
   "execution_count": null,
   "metadata": {},
   "outputs": [],
   "source": [
    "# напишем функцию для проверки гипотез\n",
    "\n",
    "def stat_check(successes_1, successes_2, trials_1, trials_2, alpha=.05):\n",
    "    \n",
    "    p1 = successes_1/trials_1\n",
    "    p2 = successes_2/trials_2\n",
    "    p_combined = (successes_1 + successes_2) / (trials_1 + trials_2)\n",
    "\n",
    "    difference = p1 - p2\n",
    "    z_value = (\n",
    "        difference / mth.sqrt(\n",
    "            p_combined * (1 - p_combined) * (\n",
    "                1/trials_1 + 1/trials_2))\n",
    "    )\n",
    "\n",
    "    distr = st.norm(0, 1) \n",
    "    alpha = alpha\n",
    "\n",
    "    p_value = (1 - distr.cdf(abs(z_value))) * 2\n",
    "\n",
    "    print('p-значение: ', p_value)\n",
    "\n",
    "    if (p_value < alpha):\n",
    "        print(\"Отвергаем нулевую гипотезу - есть основания полагать, что данные отличаются {}\")\n",
    "    else:\n",
    "        print(\"Не получилось отвергнуть нулевую гипотезу - данные выборки не имеют статистически значимой разницы \")  "
   ]
  },
  {
   "cell_type": "code",
   "execution_count": null,
   "metadata": {},
   "outputs": [],
   "source": [
    "# создадим необходимые для проверки переменные\n",
    "\n",
    "# количество пользователей каждой группы\n",
    "\n",
    "total = (\n",
    "    events_grouped\n",
    "    .query('event_type == \"всего пользователей\"')\n",
    "    .sort_values('test_group')\n",
    "    .reset_index(drop=True)\n",
    ")\n",
    "\n",
    "a_1_total = total.loc[0]['unique_users']\n",
    "a_2_total = total.loc[1]['unique_users']\n",
    "b_total = total.loc[2]['unique_users']\n",
    "\n",
    "# список событий\n",
    "\n",
    "events_list = (\n",
    "    events_grouped['event_type']\n",
    "    .unique()\n",
    "    .tolist()\n",
    ")\n",
    "del events_list[0]\n",
    "\n",
    "events_grouped"
   ]
  },
  {
   "cell_type": "code",
   "execution_count": null,
   "metadata": {},
   "outputs": [],
   "source": [
    "# функция для получения значения группы для события\n",
    "\n",
    "def get_val(group):\n",
    "    val = int(\n",
    "        events_grouped.query(\n",
    "            'event_type == @event and test_group == @group')\n",
    "        ['unique_users'])\n",
    "    return val\n",
    "\n",
    "# запускаем цикл проверки всех событий контрольных групп\n",
    "\n",
    "run_count = 0 # счётчик количества проверок\n",
    "\n",
    "for event in events_list:\n",
    "    \n",
    "    a_1 = get_val('A_1')\n",
    "    a_2 = get_val('A_2')\n",
    "    \n",
    "    print(f'- Проверка групп A_1 и A_2 в событии \"{event}\"')\n",
    "    print()\n",
    "    stat_check(a_1, a_2, a_1_total, a_2_total)\n",
    "    run_count += 1\n",
    "    print()"
   ]
  },
  {
   "cell_type": "markdown",
   "metadata": {},
   "source": [
    " - Несмотря на разницу абсолютных значений, которую показала воронка событий, не получилось отвергнуть нулевую гипотезу при А/А-тесте контрольных групп - статистическая значимость разницы конверсий контрольных групп не наблюдается. \n",
    "\n",
    "Теперь сравним результаты эксперементальной группы по очереди с каждой из контрольных:"
   ]
  },
  {
   "cell_type": "code",
   "execution_count": null,
   "metadata": {},
   "outputs": [],
   "source": [
    "# запускаем цикл проверки событий для эксперементальной и первой контрольной группы\n",
    "\n",
    "print('Сравниваем первую контрольную группу с эксперементальной')\n",
    "print('\\n')\n",
    "\n",
    "for event in events_list:\n",
    "    \n",
    "    a_1 = get_val('A_1')\n",
    "    b = get_val('B')\n",
    "    \n",
    "    print(f'- Проверка групп A_1 и B в событии \"{event}\"')\n",
    "    print()\n",
    "    stat_check(a_1, b, a_1_total, b_total)\n",
    "    run_count += 1\n",
    "\n",
    "    print()\n",
    "\n",
    "print('\\n')\n",
    "print('Сравниваем вторую контрольную группу с эксперементальной')\n",
    "print('\\n')\n",
    "    \n",
    "# запускаем цикл проверки событий для эксперементальной и второй контрольной группы\n",
    "\n",
    "for event in events_list:\n",
    "    \n",
    "    a_2 = get_val('A_2')\n",
    "    b = get_val('B')\n",
    "    \n",
    "    print(f'- Проверка групп A_2 и B в событии \"{event}\"')\n",
    "    print()\n",
    "    stat_check(a_2, b, a_2_total, b_total)\n",
    "    run_count += 1\n",
    "\n",
    "    print()"
   ]
  },
  {
   "cell_type": "markdown",
   "metadata": {},
   "source": [
    "- Не получилось отвергнуть нулевую гипотезу по проверкам результатов А/В-тестирования обоих контрольных групп - данные выборки не показывает статистически значимой разницы конверсии в событие.\n",
    "\n",
    "Попробуем объединить контрольные группы и провести ещё одну проверку:"
   ]
  },
  {
   "cell_type": "code",
   "execution_count": null,
   "metadata": {},
   "outputs": [],
   "source": [
    "# запускаем цикл проверки событий для эксперементальной и обеих контрольных групп\n",
    "\n",
    "print('Сравниваем обе контрольные группы с эксперементальной')\n",
    "print('\\n')\n",
    "\n",
    "for event in events_list:\n",
    "    \n",
    "    a = get_val('A_1') + get_val('A_2')\n",
    "    b = get_val('B')\n",
    "    \n",
    "    print(f'- Проверка групп A_1, А_2 и B в событии \"{event}\"')\n",
    "    print()\n",
    "    stat_check(a, b, a_1_total + a_2_total, b_total)\n",
    "    run_count += 1\n",
    "\n",
    "    print()"
   ]
  },
  {
   "cell_type": "markdown",
   "metadata": {},
   "source": [
    "- На данный момент результаты всех проверок не указывают на наличие статистической значимой разницы групп в конверсии пользовательских событий при уровне значимости в 0.05."
   ]
  },
  {
   "cell_type": "markdown",
   "metadata": {},
   "source": [
    "## Общие выводы и рекомендации"
   ]
  },
  {
   "cell_type": "markdown",
   "metadata": {},
   "source": [
    "#### Рекомендации:\n",
    "\n",
    "- Результаты анализа А/А/В-теста шрифта текста мобильного приложения не показывают статистически значимых изменений метрик. Если цель эксперемента была в том, чтобы убедится, что нововведения не ухудшат показетели - его можно считать успешным. Но если целью новведения было улучшение показателей - проведение подобного эксперемента, учитывая потенциальные трудовые и материальные затраты, было нецелесообразно. В таком случае необходима более тщательная работа по приоритизации гипотез для проверки A/B тестом.\n",
    "\n",
    "\n",
    "- Принять меры для более тщательного отбора пользователей для формирования контрольных групп - несмотря на отсутствие статистически значимой разницы с поправкой на множественное сравнение, абсолютные значения конверсии групп в большинстве событий имеет разницу, превышающую 1%. Без коррекции порога значимости включение данных первой контрольной группы гарантирует наличие статистически значимых различий, что в данном контексте негативно характеризует её репрезентативность.\n"
   ]
  },
  {
   "cell_type": "markdown",
   "metadata": {},
   "source": [
    "#### Общие выводы:\n",
    "\n",
    "\n",
    "**Первичный обзор и предобработка данных**\n",
    "\n",
    "\n",
    "- В процессе загрузки датасета мы поменяли названия столбцов на варианты формата 'snake_case' для оптимизации работы, добавили дополнительный столбец с датой в формате `datetime` для когортного анализа и заменили типы данных столбцов для экономии памяти.\n",
    "\n",
    "\n",
    "- Таблица содержит данные 7551 уникальных пользователей  и 243329 событий - на каждого пользователя в среднем приходится 32 события, в том числе 5 покупок.\n",
    "\n",
    "\n",
    "- Поверхностный осмотр строк-дубликатов датасета показал, что некоторые строки дублируются полностью, а другие дублируются во всем кроме даты. Наиболее вероятно, что причиной возникновения строк-дубликатов в датасете являются технические сбои работы программы или ошибки при выгрузке данных. Так как количество строк-дубликатов составляет заметно менее 1% от общего числа данных, что не является статистически значимым показателем - принято решение оставить данные как есть.\n",
    "\n",
    "\n",
    "**Исследовательский анализ данных**\n",
    "\n",
    "\n",
    "- На графиках количества уникальных пользователей и событий можно отметить минимальную активность до 31-07-2019, затем идет резкий подьем значений. Не исключена вероятность, что сравнительно малое количество данных в июле является следствием относительно недавнего основания компании-заказчика или технической ошибкой при сборе/выгрузке данных. Большинство уникальных пользователей и событий за день зафиксировано после 31 июля 2019 года, так что мы возьмем эту дату как отправную точку полноценной активности.\n",
    "\n",
    "\n",
    "- Выбранный актуальный период исследования - с 2019-07-31 01:11:46 по 2019-08-07 21:15:17.\n",
    "\n",
    "\n",
    "- Обработанная таблица содержит данные 7542 уникальных пользователей, на каждого в среднем приходится 32 события, в том числе 5 покупок. Было удалено 1.0% оригинального датасета. Разница в количестве уникальных пользователей составляет 9. Сократив исследуемый период вдвое, мы потеряли лишь 1% данных и 9 уникальных пользователей - но среднее число событий и покупок осталось без изменений. \n",
    "\n",
    "\n",
    "- Соотношение распределения пользователей по эксперементальным группам также не изменилось, что лишний раз подтверждает корректность установленного актуального периода исследования.\n",
    "\n",
    "\n",
    "**Событийная аналитика и воронка событий**\n",
    "\n",
    "- Всего в данных столбца `event_type` содержится пять уникальных пользовательских событий:\n",
    "\n",
    " - `MainScreenAppear` - отображение главного экрана, самое распространенное событие\n",
    " - `OffersScreenAppear` - отображение экрана с предложением\n",
    " - `CartScreenAppear` - отображение экрана с корзиной товаров\n",
    " - `PaymentScreenSuccessful` - экран с сообщением об успешной оплате\n",
    " - `Tutorial` - обучение, самое редкое событие в данных\n",
    " \n",
    " \n",
    "- Тип события `Tutorial` выделяется на фоне остальных малочисленностью - вероятнее всего это событие не является обязательным для взаимодействия с интернет-магазином и пользователи его пропускают. В таком случае включать его в воронку событий будет нецелесообразно. Количество других событий же может говорить об их прямой последовательности, несмотря на то, что экран с предложением (`OffersScreenAppear`) может обозначать как товарное предложение для пользователя, так и акционное предложение.\n",
    "\n",
    "\n",
    "- Воронка событий показывает очень хорошие показатели конверсии пользователей: за период наблюдения 47% от общего числа уникальных пользователей совершили покупку, а конверсия в шаг превышает 80% для всех этапов - за исключением этапа предложения (`OffersScreenAppear`, 62%)\n",
    "\n",
    "\n",
    "- Разница между общим количеством пользователей и пользователями, которые взаимодействовали с главной страницей интернет-магазина (первый шаг воронки) составляет около 1.5%. Вполне вероятно, что данные пользователи могли пропустить главную страницу и перейти сразу к этапу предложения по внешней ссылке.\n",
    "\n",
    "\n",
    "- Сравнивая показатели конверсии между шагами, переход между главным экраном и экраном товарного предложения (`MainScreenAppear` и `OffersScreenAppear`, соответственно) имеет самые низкие показатели (62% против 80% и более у остальных шагов). Вероятно, что это является особенностью маркетинга интернет-магазинов в целом и потенциальные покупатели чаще переходят по ссылкам с интересующим товаром напрямую, чем через главную страницу.\n",
    "\n",
    "\n",
    "**Анализ результатов А/А/В-тестирования**\n",
    "\n",
    "\n",
    "- Доля конверсии в шаг воронки с разбивкой по группам не отличается от общей воронки - но различие показателей контрольных групп на некоторых шагах составляет более 1%, что может быть плохим знаком. Потому при анализе результатов экспериментальной группы необходимо расчитать статистическую значимость различий конверсий контрольных групп.\n",
    "\n",
    "\n",
    " - Несмотря на разницу абсолютных значений, которую показала воронка событий, не получилось отвергнуть нулевую гипотезу при А/А-тесте контрольных групп при пороге значимости в 0.05 - статистическая значимость разницы конверсий контрольных групп не наблюдается. \n",
    " \n",
    "- Не получилось отвергнуть нулевую гипотезу по проверкам результатов А/В-тестирования обоих контрольных групп при пороге значимости в 0.05 - данные выборки не показывает статистически значимой разницы конверсии в событие.\n",
    "\n",
    "\n",
    "- На данный момент результаты всех проверок не указывают на наличие статистической значимой разницы групп в конверсии пользовательских событий."
   ]
  }
 ],
 "metadata": {
  "kernelspec": {
   "display_name": "Python 3 (ipykernel)",
   "language": "python",
   "name": "python3"
  },
  "language_info": {
   "codemirror_mode": {
    "name": "ipython",
    "version": 3
   },
   "file_extension": ".py",
   "mimetype": "text/x-python",
   "name": "python",
   "nbconvert_exporter": "python",
   "pygments_lexer": "ipython3",
   "version": "3.9.12"
  },
  "toc": {
   "base_numbering": 1,
   "nav_menu": {},
   "number_sections": true,
   "sideBar": true,
   "skip_h1_title": true,
   "title_cell": "Table of Contents",
   "title_sidebar": "Contents",
   "toc_cell": false,
   "toc_position": {},
   "toc_section_display": true,
   "toc_window_display": false
  }
 },
 "nbformat": 4,
 "nbformat_minor": 2
}
